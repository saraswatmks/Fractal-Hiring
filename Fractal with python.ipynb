{
 "cells": [
  {
   "cell_type": "code",
   "execution_count": 1,
   "metadata": {
    "collapsed": true
   },
   "outputs": [],
   "source": [
    "import numpy as np\n",
    "import pandas as pd"
   ]
  },
  {
   "cell_type": "code",
   "execution_count": 296,
   "metadata": {
    "collapsed": true
   },
   "outputs": [],
   "source": [
    "train = pd.read_csv('train.csv',parse_dates=['Datetime'])\n",
    "test = pd.read_csv('test.csv',parse_dates=['Datetime'])"
   ]
  },
  {
   "cell_type": "code",
   "execution_count": 297,
   "metadata": {
    "collapsed": false
   },
   "outputs": [
    {
     "name": "stdout",
     "output_type": "stream",
     "text": [
      "(881876, 8)\n",
      "(266248, 6)\n"
     ]
    }
   ],
   "source": [
    "print train.shape\n",
    "print test.shape"
   ]
  },
  {
   "cell_type": "code",
   "execution_count": 60,
   "metadata": {
    "collapsed": false
   },
   "outputs": [
    {
     "data": {
      "text/html": [
       "<div>\n",
       "<table border=\"1\" class=\"dataframe\">\n",
       "  <thead>\n",
       "    <tr style=\"text-align: right;\">\n",
       "      <th></th>\n",
       "      <th>ID</th>\n",
       "      <th>Item_ID</th>\n",
       "      <th>Datetime</th>\n",
       "      <th>Category_3</th>\n",
       "      <th>Category_2</th>\n",
       "      <th>Category_1</th>\n",
       "      <th>Price</th>\n",
       "      <th>Number_Of_Sales</th>\n",
       "    </tr>\n",
       "  </thead>\n",
       "  <tbody>\n",
       "    <tr>\n",
       "      <th>0</th>\n",
       "      <td>30495_20140101</td>\n",
       "      <td>30495</td>\n",
       "      <td>2014-01-01</td>\n",
       "      <td>0</td>\n",
       "      <td>2.0</td>\n",
       "      <td>90</td>\n",
       "      <td>165.123</td>\n",
       "      <td>1</td>\n",
       "    </tr>\n",
       "    <tr>\n",
       "      <th>1</th>\n",
       "      <td>30375_20140101</td>\n",
       "      <td>30375</td>\n",
       "      <td>2014-01-01</td>\n",
       "      <td>0</td>\n",
       "      <td>2.0</td>\n",
       "      <td>307</td>\n",
       "      <td>68.666</td>\n",
       "      <td>5</td>\n",
       "    </tr>\n",
       "    <tr>\n",
       "      <th>2</th>\n",
       "      <td>30011_20140101</td>\n",
       "      <td>30011</td>\n",
       "      <td>2014-01-01</td>\n",
       "      <td>0</td>\n",
       "      <td>3.0</td>\n",
       "      <td>67</td>\n",
       "      <td>253.314</td>\n",
       "      <td>2</td>\n",
       "    </tr>\n",
       "    <tr>\n",
       "      <th>3</th>\n",
       "      <td>30864_20140101</td>\n",
       "      <td>30864</td>\n",
       "      <td>2014-01-01</td>\n",
       "      <td>0</td>\n",
       "      <td>2.0</td>\n",
       "      <td>315</td>\n",
       "      <td>223.122</td>\n",
       "      <td>1</td>\n",
       "    </tr>\n",
       "    <tr>\n",
       "      <th>4</th>\n",
       "      <td>30780_20140101</td>\n",
       "      <td>30780</td>\n",
       "      <td>2014-01-01</td>\n",
       "      <td>1</td>\n",
       "      <td>2.0</td>\n",
       "      <td>132</td>\n",
       "      <td>28.750</td>\n",
       "      <td>1</td>\n",
       "    </tr>\n",
       "  </tbody>\n",
       "</table>\n",
       "</div>"
      ],
      "text/plain": [
       "               ID  Item_ID   Datetime  Category_3  Category_2  Category_1  \\\n",
       "0  30495_20140101    30495 2014-01-01           0         2.0          90   \n",
       "1  30375_20140101    30375 2014-01-01           0         2.0         307   \n",
       "2  30011_20140101    30011 2014-01-01           0         3.0          67   \n",
       "3  30864_20140101    30864 2014-01-01           0         2.0         315   \n",
       "4  30780_20140101    30780 2014-01-01           1         2.0         132   \n",
       "\n",
       "     Price  Number_Of_Sales  \n",
       "0  165.123                1  \n",
       "1   68.666                5  \n",
       "2  253.314                2  \n",
       "3  223.122                1  \n",
       "4   28.750                1  "
      ]
     },
     "execution_count": 60,
     "metadata": {},
     "output_type": "execute_result"
    }
   ],
   "source": [
    "train.head()"
   ]
  },
  {
   "cell_type": "code",
   "execution_count": null,
   "metadata": {
    "collapsed": true
   },
   "outputs": [],
   "source": [
    "# > top8feats\n",
    "# [1] \"medSales\"       \"weekyear\"       \"item_count\"     \"medCatOnePrice\" \"Category_1\"     \"medID\"          \"Category_2\"     \"weekday\"       \n",
    "# > top8featsPrice\n",
    "# [1] \"medID\"          \"weekyear\"       \"item_count\"     \"Category_1\"     \"Category_2\"     \"medSales\"       \"medCatOnePrice\" \"medCatOneSale"
   ]
  },
  {
   "cell_type": "code",
   "execution_count": 49,
   "metadata": {
    "collapsed": false
   },
   "outputs": [
    {
     "data": {
      "text/plain": [
       "ID                     0\n",
       "Item_ID                0\n",
       "Datetime               0\n",
       "Category_3             0\n",
       "Category_2         91613\n",
       "Category_1             0\n",
       "Price                  0\n",
       "Number_Of_Sales        0\n",
       "dtype: int64"
      ]
     },
     "execution_count": 49,
     "metadata": {},
     "output_type": "execute_result"
    }
   ],
   "source": [
    "train.isnull().sum(axis=0)"
   ]
  },
  {
   "cell_type": "code",
   "execution_count": 50,
   "metadata": {
    "collapsed": false
   },
   "outputs": [
    {
     "data": {
      "text/plain": [
       "Item_ID           0\n",
       "Datetime          0\n",
       "Category_1        0\n",
       "Category_2    39192\n",
       "Category_3        0\n",
       "ID                0\n",
       "dtype: int64"
      ]
     },
     "execution_count": 50,
     "metadata": {},
     "output_type": "execute_result"
    }
   ],
   "source": [
    "test.isnull().sum(axis=0)"
   ]
  },
  {
   "cell_type": "code",
   "execution_count": 61,
   "metadata": {
    "collapsed": false
   },
   "outputs": [
    {
     "name": "stdout",
     "output_type": "stream",
     "text": [
      "<class 'pandas.core.frame.DataFrame'>\n",
      "RangeIndex: 881876 entries, 0 to 881875\n",
      "Data columns (total 8 columns):\n",
      "ID                 881876 non-null object\n",
      "Item_ID            881876 non-null int64\n",
      "Datetime           881876 non-null datetime64[ns]\n",
      "Category_3         881876 non-null int64\n",
      "Category_2         790263 non-null float64\n",
      "Category_1         881876 non-null int64\n",
      "Price              881876 non-null float64\n",
      "Number_Of_Sales    881876 non-null int64\n",
      "dtypes: datetime64[ns](1), float64(2), int64(4), object(1)\n",
      "memory usage: 53.8+ MB\n"
     ]
    }
   ],
   "source": [
    "train.info()"
   ]
  },
  {
   "cell_type": "markdown",
   "metadata": {},
   "source": [
    "### create features"
   ]
  },
  {
   "cell_type": "code",
   "execution_count": 298,
   "metadata": {
    "collapsed": true
   },
   "outputs": [],
   "source": [
    "item_count_train = train.Item_ID.value_counts().to_dict()\n",
    "item_count_test = test.Item_ID.value_counts().to_dict()"
   ]
  },
  {
   "cell_type": "code",
   "execution_count": 299,
   "metadata": {
    "collapsed": false
   },
   "outputs": [],
   "source": [
    "train['item_count'] = train['Item_ID'].map(item_count_train)\n",
    "test['item_count'] = test['Item_ID'].map(item_count_test)"
   ]
  },
  {
   "cell_type": "code",
   "execution_count": 300,
   "metadata": {
    "collapsed": false
   },
   "outputs": [],
   "source": [
    "train['dayofweek'] = train.Datetime.dt.dayofweek\n",
    "test['dayofweek'] = test.Datetime.dt.dayofweek"
   ]
  },
  {
   "cell_type": "code",
   "execution_count": 301,
   "metadata": {
    "collapsed": true
   },
   "outputs": [],
   "source": [
    "train['weekyear'] = train.Datetime.dt.weekofyear\n",
    "test['weekyear'] = test.Datetime.dt.weekofyear"
   ]
  },
  {
   "cell_type": "code",
   "execution_count": 302,
   "metadata": {
    "collapsed": true
   },
   "outputs": [],
   "source": [
    "train['dayofmonth'] = train.Datetime.dt.day\n",
    "test['dayofmonth'] = test.Datetime.dt.day"
   ]
  },
  {
   "cell_type": "code",
   "execution_count": 303,
   "metadata": {
    "collapsed": true
   },
   "outputs": [],
   "source": [
    "train['is_quarter_start'] = train.Datetime.dt.is_quarter_start\n",
    "test['is_quarter_start'] = test.Datetime.dt.is_quarter_start"
   ]
  },
  {
   "cell_type": "code",
   "execution_count": 304,
   "metadata": {
    "collapsed": false
   },
   "outputs": [],
   "source": [
    "train['is_quarter_start'] = train.is_quarter_start.astype(int)\n",
    "test['is_quarter_start'] = test.is_quarter_start.astype(int)"
   ]
  },
  {
   "cell_type": "code",
   "execution_count": 305,
   "metadata": {
    "collapsed": true
   },
   "outputs": [],
   "source": [
    "train['month'] = train.Datetime.dt.month\n",
    "test['month'] = test.Datetime.dt.month"
   ]
  },
  {
   "cell_type": "markdown",
   "metadata": {},
   "source": [
    "### some data visualization"
   ]
  },
  {
   "cell_type": "code",
   "execution_count": 83,
   "metadata": {
    "collapsed": false
   },
   "outputs": [],
   "source": [
    "import matplotlib.pyplot as plt\n",
    "import seaborn as sns\n",
    "color = sns.color_palette()\n",
    "\n",
    "%matplotlib inline"
   ]
  },
  {
   "cell_type": "code",
   "execution_count": 84,
   "metadata": {
    "collapsed": false
   },
   "outputs": [
    {
     "data": {
      "image/png": "[encoded data removed]",
      "text/plain": [
       "<matplotlib.figure.Figure at 0x7f182e165590>"
      ]
     },
     "metadata": {},
     "output_type": "display_data"
    }
   ],
   "source": [
    "plt.figure(figsize = (10,6))\n",
    "plt.scatter(range(train.shape[0]), np.sort(train.Price))\n",
    "plt.xlabel('index', fontsize=12)\n",
    "plt.ylabel('Price',fontsize=12)\n",
    "plt.show()"
   ]
  },
  {
   "cell_type": "code",
   "execution_count": 105,
   "metadata": {
    "collapsed": false
   },
   "outputs": [
    {
     "data": {
      "image/png": "[encoded data removed]",
      "text/plain": [
       "<matplotlib.figure.Figure at 0x7f182d61a990>"
      ]
     },
     "metadata": {},
     "output_type": "display_data"
    }
   ],
   "source": [
    "plt.figure(figsize = (10,6))\n",
    "plt.scatter(range(train.shape[0]), np.sort(train.Number_Of_Sales))\n",
    "plt.xlabel('index', fontsize=12)\n",
    "plt.ylabel('Price',fontsize=12)\n",
    "plt.show()"
   ]
  },
  {
   "cell_type": "code",
   "execution_count": 98,
   "metadata": {
    "collapsed": false
   },
   "outputs": [
    {
     "data": {
      "text/plain": [
       "count    881876.000000\n",
       "mean          5.484011\n",
       "std          22.472598\n",
       "min           0.030000\n",
       "25%           0.125000\n",
       "50%           0.513000\n",
       "75%           2.070000\n",
       "max         424.148000\n",
       "Name: Price, dtype: float64"
      ]
     },
     "execution_count": 98,
     "metadata": {},
     "output_type": "execute_result"
    }
   ],
   "source": [
    "train.Price.describe()"
   ]
  },
  {
   "cell_type": "code",
   "execution_count": 100,
   "metadata": {
    "collapsed": false
   },
   "outputs": [
    {
     "data": {
      "image/png": "[encoded data removed]",
      "text/plain": [
       "<matplotlib.figure.Figure at 0x7f182d95f4d0>"
      ]
     },
     "metadata": {},
     "output_type": "display_data"
    }
   ],
   "source": [
    "plt.figure(figsize = (10,6))\n",
    "sns.distplot(np.log(train.Price.values + 20), bins=50, kde=True)\n",
    "plt.xlabel('Price',fontsize=12)\n",
    "plt.show()\n"
   ]
  },
  {
   "cell_type": "code",
   "execution_count": 104,
   "metadata": {
    "collapsed": false
   },
   "outputs": [
    {
     "data": {
      "image/png": "[encoded data removed]",
      "text/plain": [
       "<matplotlib.figure.Figure at 0x7f182d789510>"
      ]
     },
     "metadata": {},
     "output_type": "display_data"
    }
   ],
   "source": [
    "plt.figure(figsize = (10,6))\n",
    "sns.distplot(np.log1p(train.Number_Of_Sales), bins=50, kde=True)\n",
    "plt.xlabel('Price',fontsize=12)\n",
    "plt.show()\n"
   ]
  },
  {
   "cell_type": "markdown",
   "metadata": {},
   "source": [
    "### remove outlier"
   ]
  },
  {
   "cell_type": "code",
   "execution_count": 107,
   "metadata": {
    "collapsed": false
   },
   "outputs": [
    {
     "data": {
      "image/png": "[encoded data removed]",
      "text/plain": [
       "<matplotlib.figure.Figure at 0x7f182d4c27d0>"
      ]
     },
     "metadata": {},
     "output_type": "display_data"
    }
   ],
   "source": [
    "plt.figure(figsize = (10,6))\n",
    "plt.scatter(range(train.shape[0]), np.sort(train.Number_Of_Sales))\n",
    "plt.xlabel('index', fontsize=12)\n",
    "plt.ylabel('Price',fontsize=12)\n",
    "plt.show()"
   ]
  },
  {
   "cell_type": "code",
   "execution_count": 306,
   "metadata": {
    "collapsed": true
   },
   "outputs": [],
   "source": [
    "train = train.loc[train['Number_Of_Sales'] <= 340000]"
   ]
  },
  {
   "cell_type": "code",
   "execution_count": 113,
   "metadata": {
    "collapsed": false
   },
   "outputs": [
    {
     "data": {
      "image/png": "[encoded data removed]",
      "text/plain": [
       "<matplotlib.figure.Figure at 0x7f182d8a4e10>"
      ]
     },
     "metadata": {},
     "output_type": "display_data"
    }
   ],
   "source": [
    "plt.figure(figsize = (10,6))\n",
    "plt.scatter(range(train.shape[0]), np.sort(train.Number_Of_Sales))\n",
    "plt.xlabel('index', fontsize=12)\n",
    "plt.ylabel('Price',fontsize=12)\n",
    "plt.show()"
   ]
  },
  {
   "cell_type": "code",
   "execution_count": 114,
   "metadata": {
    "collapsed": false
   },
   "outputs": [
    {
     "name": "stdout",
     "output_type": "stream",
     "text": [
      "(881871, 13)\n"
     ]
    }
   ],
   "source": [
    "print train.shape # 5 rows deleted"
   ]
  },
  {
   "cell_type": "code",
   "execution_count": 116,
   "metadata": {
    "collapsed": false
   },
   "outputs": [
    {
     "data": {
      "text/html": [
       "<div>\n",
       "<table border=\"1\" class=\"dataframe\">\n",
       "  <thead>\n",
       "    <tr style=\"text-align: right;\">\n",
       "      <th></th>\n",
       "      <th>ID</th>\n",
       "      <th>Item_ID</th>\n",
       "      <th>Datetime</th>\n",
       "      <th>Category_3</th>\n",
       "      <th>Category_2</th>\n",
       "      <th>Category_1</th>\n",
       "      <th>Price</th>\n",
       "      <th>Number_Of_Sales</th>\n",
       "      <th>dayofweek</th>\n",
       "      <th>weekyear</th>\n",
       "      <th>dayofmonth</th>\n",
       "      <th>is_quarter_start</th>\n",
       "      <th>month</th>\n",
       "    </tr>\n",
       "  </thead>\n",
       "  <tbody>\n",
       "    <tr>\n",
       "      <th>0</th>\n",
       "      <td>30495_20140101</td>\n",
       "      <td>30495</td>\n",
       "      <td>2014-01-01</td>\n",
       "      <td>0</td>\n",
       "      <td>2.0</td>\n",
       "      <td>90</td>\n",
       "      <td>165.123</td>\n",
       "      <td>1</td>\n",
       "      <td>2</td>\n",
       "      <td>1</td>\n",
       "      <td>1</td>\n",
       "      <td>1</td>\n",
       "      <td>1</td>\n",
       "    </tr>\n",
       "    <tr>\n",
       "      <th>1</th>\n",
       "      <td>30375_20140101</td>\n",
       "      <td>30375</td>\n",
       "      <td>2014-01-01</td>\n",
       "      <td>0</td>\n",
       "      <td>2.0</td>\n",
       "      <td>307</td>\n",
       "      <td>68.666</td>\n",
       "      <td>5</td>\n",
       "      <td>2</td>\n",
       "      <td>1</td>\n",
       "      <td>1</td>\n",
       "      <td>1</td>\n",
       "      <td>1</td>\n",
       "    </tr>\n",
       "    <tr>\n",
       "      <th>2</th>\n",
       "      <td>30011_20140101</td>\n",
       "      <td>30011</td>\n",
       "      <td>2014-01-01</td>\n",
       "      <td>0</td>\n",
       "      <td>3.0</td>\n",
       "      <td>67</td>\n",
       "      <td>253.314</td>\n",
       "      <td>2</td>\n",
       "      <td>2</td>\n",
       "      <td>1</td>\n",
       "      <td>1</td>\n",
       "      <td>1</td>\n",
       "      <td>1</td>\n",
       "    </tr>\n",
       "    <tr>\n",
       "      <th>3</th>\n",
       "      <td>30864_20140101</td>\n",
       "      <td>30864</td>\n",
       "      <td>2014-01-01</td>\n",
       "      <td>0</td>\n",
       "      <td>2.0</td>\n",
       "      <td>315</td>\n",
       "      <td>223.122</td>\n",
       "      <td>1</td>\n",
       "      <td>2</td>\n",
       "      <td>1</td>\n",
       "      <td>1</td>\n",
       "      <td>1</td>\n",
       "      <td>1</td>\n",
       "    </tr>\n",
       "    <tr>\n",
       "      <th>4</th>\n",
       "      <td>30780_20140101</td>\n",
       "      <td>30780</td>\n",
       "      <td>2014-01-01</td>\n",
       "      <td>1</td>\n",
       "      <td>2.0</td>\n",
       "      <td>132</td>\n",
       "      <td>28.750</td>\n",
       "      <td>1</td>\n",
       "      <td>2</td>\n",
       "      <td>1</td>\n",
       "      <td>1</td>\n",
       "      <td>1</td>\n",
       "      <td>1</td>\n",
       "    </tr>\n",
       "  </tbody>\n",
       "</table>\n",
       "</div>"
      ],
      "text/plain": [
       "               ID  Item_ID   Datetime  Category_3  Category_2  Category_1  \\\n",
       "0  30495_20140101    30495 2014-01-01           0         2.0          90   \n",
       "1  30375_20140101    30375 2014-01-01           0         2.0         307   \n",
       "2  30011_20140101    30011 2014-01-01           0         3.0          67   \n",
       "3  30864_20140101    30864 2014-01-01           0         2.0         315   \n",
       "4  30780_20140101    30780 2014-01-01           1         2.0         132   \n",
       "\n",
       "     Price  Number_Of_Sales  dayofweek  weekyear  dayofmonth  \\\n",
       "0  165.123                1          2         1           1   \n",
       "1   68.666                5          2         1           1   \n",
       "2  253.314                2          2         1           1   \n",
       "3  223.122                1          2         1           1   \n",
       "4   28.750                1          2         1           1   \n",
       "\n",
       "   is_quarter_start  month  \n",
       "0                 1      1  \n",
       "1                 1      1  \n",
       "2                 1      1  \n",
       "3                 1      1  \n",
       "4                 1      1  "
      ]
     },
     "execution_count": 116,
     "metadata": {},
     "output_type": "execute_result"
    }
   ],
   "source": [
    "train.head()"
   ]
  },
  {
   "cell_type": "code",
   "execution_count": 123,
   "metadata": {
    "collapsed": false
   },
   "outputs": [],
   "source": [
    "train['yearmonth'] = train.Datetime.astype(str).apply(lambda x: x[:4]+x[5:7])\n",
    "grouped_df = train.groupby('yearmonth')['Price'].aggregate(np.median).reset_index()"
   ]
  },
  {
   "cell_type": "code",
   "execution_count": 125,
   "metadata": {
    "collapsed": false
   },
   "outputs": [
    {
     "data": {
      "image/png": "[encoded data removed]",
      "text/plain": [
       "<matplotlib.figure.Figure at 0x7f182d57b1d0>"
      ]
     },
     "metadata": {},
     "output_type": "display_data"
    }
   ],
   "source": [
    "plt.figure(figsize = (10,6))\n",
    "sns.barplot(grouped_df.yearmonth.values, grouped_df.Price.values, alpha = 0.8, color=color[2])\n",
    "plt.ylabel('Median Price', fontsize=12)\n",
    "plt.xlabel('Year Month', fontsize=12)\n",
    "plt.xticks(rotation='vertical')\n",
    "plt.show()"
   ]
  },
  {
   "cell_type": "code",
   "execution_count": 126,
   "metadata": {
    "collapsed": false
   },
   "outputs": [
    {
     "data": {
      "text/plain": [
       "<matplotlib.figure.Figure at 0x7f182d57a650>"
      ]
     },
     "metadata": {},
     "output_type": "display_data"
    },
    {
     "data": {
      "image/png": "[encoded data removed]",
      "text/plain": [
       "<matplotlib.figure.Figure at 0x7f182d57add0>"
      ]
     },
     "metadata": {},
     "output_type": "display_data"
    }
   ],
   "source": [
    "plt.figure(figsize=(10,6))\n",
    "sns.jointplot(x=np.log1p(train.Price.values), y=np.log1p(train.Number_Of_Sales.values), size=10)\n",
    "plt.ylabel('Log of Sales', fontsize=12)\n",
    "plt.xlabel('Log of Price', fontsize=12)\n",
    "plt.show()"
   ]
  },
  {
   "cell_type": "markdown",
   "metadata": {},
   "source": [
    "### so mean features"
   ]
  },
  {
   "cell_type": "code",
   "execution_count": 307,
   "metadata": {
    "collapsed": false
   },
   "outputs": [],
   "source": [
    "med_price = train.groupby('Item_ID')['Price'].aggregate(np.median).reset_index()\n",
    "med_price.rename(columns={'Price':'medByID'},inplace=True)\n",
    "\n",
    "med_sales = train.groupby('Item_ID')['Number_Of_Sales'].aggregate(np.median).reset_index()\n",
    "med_sales.rename(columns={'Number_Of_Sales':'medBySales'},inplace=True)\n",
    "\n",
    "catone_med_price = train.groupby('Category_1')['Price'].aggregate(np.median).reset_index()\n",
    "catone_med_price.rename(columns={'Price':'medCatOnePrice'},inplace=True)\n",
    "\n",
    "catone_med_sales = train.groupby('Category_1')['Number_Of_Sales'].aggregate(np.median).reset_index()\n",
    "catone_med_sales.rename(columns={'Number_Of_Sales':'medCatOneSales'},inplace=True)\n",
    "\n",
    "cattwo_med_price = train.groupby('Category_2')['Price'].aggregate(np.median).reset_index()\n",
    "cattwo_med_price.rename(columns={'Price':'medCatTwoPrice'},inplace=True)\n",
    "\n",
    "cattwo_med_sales = train.groupby('Category_2')['Number_Of_Sales'].aggregate(np.median).reset_index()\n",
    "cattwo_med_sales.rename(columns={'Number_Of_Sales':'medCatTwoSales'},inplace=True)"
   ]
  },
  {
   "cell_type": "code",
   "execution_count": 308,
   "metadata": {
    "collapsed": false,
    "scrolled": true
   },
   "outputs": [
    {
     "data": {
      "text/plain": [
       "(881871, 14)"
      ]
     },
     "execution_count": 308,
     "metadata": {},
     "output_type": "execute_result"
    }
   ],
   "source": [
    "train.shape"
   ]
  },
  {
   "cell_type": "code",
   "execution_count": 309,
   "metadata": {
    "collapsed": true
   },
   "outputs": [],
   "source": [
    "train = pd.merge(train, med_price, on='Item_ID', how='left')\n",
    "train = pd.merge(train, med_sales, on='Item_ID', how='left')\n",
    "train = pd.merge(train, catone_med_price, on='Category_1', how='left')\n",
    "train = pd.merge(train, catone_med_sales, on='Category_1', how='left')\n",
    "train = pd.merge(train, cattwo_med_sales, on='Category_2', how='left')\n",
    "train = pd.merge(train, cattwo_med_price, on='Category_2', how='left')"
   ]
  },
  {
   "cell_type": "code",
   "execution_count": 310,
   "metadata": {
    "collapsed": false
   },
   "outputs": [
    {
     "data": {
      "text/plain": [
       "(881871, 20)"
      ]
     },
     "execution_count": 310,
     "metadata": {},
     "output_type": "execute_result"
    }
   ],
   "source": [
    "train.shape"
   ]
  },
  {
   "cell_type": "code",
   "execution_count": 155,
   "metadata": {
    "collapsed": false
   },
   "outputs": [
    {
     "data": {
      "text/plain": [
       "(266248, 11)"
      ]
     },
     "execution_count": 155,
     "metadata": {},
     "output_type": "execute_result"
    }
   ],
   "source": [
    "test.shape"
   ]
  },
  {
   "cell_type": "code",
   "execution_count": 311,
   "metadata": {
    "collapsed": true
   },
   "outputs": [],
   "source": [
    "test = pd.merge(test, med_price, on='Item_ID', how='left')\n",
    "test = pd.merge(test, med_sales, on='Item_ID', how='left')\n",
    "test = pd.merge(test, catone_med_price, on='Category_1', how='left')\n",
    "test = pd.merge(test, catone_med_sales, on='Category_1', how='left')\n",
    "test = pd.merge(test, cattwo_med_sales, on='Category_2', how='left')\n",
    "test = pd.merge(test, cattwo_med_price, on='Category_2', how='left')"
   ]
  },
  {
   "cell_type": "code",
   "execution_count": 312,
   "metadata": {
    "collapsed": false
   },
   "outputs": [
    {
     "data": {
      "text/plain": [
       "(266248, 18)"
      ]
     },
     "execution_count": 312,
     "metadata": {},
     "output_type": "execute_result"
    }
   ],
   "source": [
    "test.shape"
   ]
  },
  {
   "cell_type": "code",
   "execution_count": 313,
   "metadata": {
    "collapsed": false
   },
   "outputs": [],
   "source": [
    "train['volumebyCat1'] = train['Price'] * train ['Number_Of_Sales']"
   ]
  },
  {
   "cell_type": "code",
   "execution_count": 314,
   "metadata": {
    "collapsed": false
   },
   "outputs": [],
   "source": [
    "volumne_by_cat1 = train.groupby('Category_1')['volumebyCat1'].aggregate(np.median).reset_index()"
   ]
  },
  {
   "cell_type": "code",
   "execution_count": 315,
   "metadata": {
    "collapsed": false
   },
   "outputs": [],
   "source": [
    "train.drop('volumebyCat1', inplace=True, axis=1)"
   ]
  },
  {
   "cell_type": "code",
   "execution_count": 316,
   "metadata": {
    "collapsed": true
   },
   "outputs": [],
   "source": [
    "train = pd.merge(train, volumne_by_cat1, on='Category_1', how='left')\n",
    "test = pd.merge(test, volumne_by_cat1, on='Category_1', how='left')"
   ]
  },
  {
   "cell_type": "code",
   "execution_count": 317,
   "metadata": {
    "collapsed": true
   },
   "outputs": [],
   "source": [
    "train['volumebyCat2'] = train['Price'] * train['Number_Of_Sales']\n",
    "volumne_by_cat2 = train.groupby('Category_2')['volumebyCat2'].aggregate(np.median).reset_index()\n",
    "train.drop('volumebyCat2', inplace=True, axis=1)"
   ]
  },
  {
   "cell_type": "code",
   "execution_count": 318,
   "metadata": {
    "collapsed": true
   },
   "outputs": [],
   "source": [
    "train = pd.merge(train, volumne_by_cat2, on='Category_2', how='left')\n",
    "test = pd.merge(test, volumne_by_cat2, on='Category_2', how='left')"
   ]
  },
  {
   "cell_type": "markdown",
   "metadata": {},
   "source": [
    "### creating lag cols - Later"
   ]
  },
  {
   "cell_type": "code",
   "execution_count": null,
   "metadata": {
    "collapsed": true
   },
   "outputs": [],
   "source": [
    "colstrain_X = train[['Number_Of_Sales','Price','ID','Item_ID','month','weekyear','dayofweek']]"
   ]
  },
  {
   "cell_type": "code",
   "execution_count": null,
   "metadata": {
    "collapsed": true
   },
   "outputs": [],
   "source": []
  },
  {
   "cell_type": "markdown",
   "metadata": {},
   "source": [
    "### remove skewness"
   ]
  },
  {
   "cell_type": "code",
   "execution_count": 328,
   "metadata": {
    "collapsed": false
   },
   "outputs": [
    {
     "data": {
      "text/html": [
       "<div>\n",
       "<table border=\"1\" class=\"dataframe\">\n",
       "  <thead>\n",
       "    <tr style=\"text-align: right;\">\n",
       "      <th></th>\n",
       "      <th>ID</th>\n",
       "      <th>Item_ID</th>\n",
       "      <th>Datetime</th>\n",
       "      <th>Category_3</th>\n",
       "      <th>Category_2</th>\n",
       "      <th>Category_1</th>\n",
       "      <th>Price</th>\n",
       "      <th>Number_Of_Sales</th>\n",
       "      <th>item_count</th>\n",
       "      <th>dayofweek</th>\n",
       "      <th>...</th>\n",
       "      <th>is_quarter_start</th>\n",
       "      <th>month</th>\n",
       "      <th>medByID</th>\n",
       "      <th>medBySales</th>\n",
       "      <th>medCatOnePrice</th>\n",
       "      <th>medCatOneSales</th>\n",
       "      <th>medCatTwoSales</th>\n",
       "      <th>medCatTwoPrice</th>\n",
       "      <th>volumebyCat1</th>\n",
       "      <th>volumebyCat2</th>\n",
       "    </tr>\n",
       "  </thead>\n",
       "  <tbody>\n",
       "    <tr>\n",
       "      <th>0</th>\n",
       "      <td>30495_20140101</td>\n",
       "      <td>30495</td>\n",
       "      <td>2014-01-01</td>\n",
       "      <td>0</td>\n",
       "      <td>2.0</td>\n",
       "      <td>90</td>\n",
       "      <td>165.123</td>\n",
       "      <td>1</td>\n",
       "      <td>908</td>\n",
       "      <td>2</td>\n",
       "      <td>...</td>\n",
       "      <td>1</td>\n",
       "      <td>1</td>\n",
       "      <td>124.9345</td>\n",
       "      <td>11.0</td>\n",
       "      <td>0.789</td>\n",
       "      <td>109.0</td>\n",
       "      <td>418.0</td>\n",
       "      <td>0.374</td>\n",
       "      <td>136.100</td>\n",
       "      <td>154.980</td>\n",
       "    </tr>\n",
       "    <tr>\n",
       "      <th>1</th>\n",
       "      <td>30375_20140101</td>\n",
       "      <td>30375</td>\n",
       "      <td>2014-01-01</td>\n",
       "      <td>0</td>\n",
       "      <td>2.0</td>\n",
       "      <td>307</td>\n",
       "      <td>68.666</td>\n",
       "      <td>5</td>\n",
       "      <td>911</td>\n",
       "      <td>2</td>\n",
       "      <td>...</td>\n",
       "      <td>1</td>\n",
       "      <td>1</td>\n",
       "      <td>44.2840</td>\n",
       "      <td>25.0</td>\n",
       "      <td>0.381</td>\n",
       "      <td>180.0</td>\n",
       "      <td>418.0</td>\n",
       "      <td>0.374</td>\n",
       "      <td>136.230</td>\n",
       "      <td>154.980</td>\n",
       "    </tr>\n",
       "    <tr>\n",
       "      <th>2</th>\n",
       "      <td>30011_20140101</td>\n",
       "      <td>30011</td>\n",
       "      <td>2014-01-01</td>\n",
       "      <td>0</td>\n",
       "      <td>3.0</td>\n",
       "      <td>67</td>\n",
       "      <td>253.314</td>\n",
       "      <td>2</td>\n",
       "      <td>849</td>\n",
       "      <td>2</td>\n",
       "      <td>...</td>\n",
       "      <td>1</td>\n",
       "      <td>1</td>\n",
       "      <td>296.7200</td>\n",
       "      <td>4.0</td>\n",
       "      <td>108.982</td>\n",
       "      <td>5.0</td>\n",
       "      <td>337.0</td>\n",
       "      <td>0.664</td>\n",
       "      <td>734.454</td>\n",
       "      <td>176.904</td>\n",
       "    </tr>\n",
       "    <tr>\n",
       "      <th>3</th>\n",
       "      <td>30864_20140101</td>\n",
       "      <td>30864</td>\n",
       "      <td>2014-01-01</td>\n",
       "      <td>0</td>\n",
       "      <td>2.0</td>\n",
       "      <td>315</td>\n",
       "      <td>223.122</td>\n",
       "      <td>1</td>\n",
       "      <td>907</td>\n",
       "      <td>2</td>\n",
       "      <td>...</td>\n",
       "      <td>1</td>\n",
       "      <td>1</td>\n",
       "      <td>126.2930</td>\n",
       "      <td>13.0</td>\n",
       "      <td>0.625</td>\n",
       "      <td>12.0</td>\n",
       "      <td>418.0</td>\n",
       "      <td>0.374</td>\n",
       "      <td>28.440</td>\n",
       "      <td>154.980</td>\n",
       "    </tr>\n",
       "    <tr>\n",
       "      <th>4</th>\n",
       "      <td>30780_20140101</td>\n",
       "      <td>30780</td>\n",
       "      <td>2014-01-01</td>\n",
       "      <td>1</td>\n",
       "      <td>2.0</td>\n",
       "      <td>132</td>\n",
       "      <td>28.750</td>\n",
       "      <td>1</td>\n",
       "      <td>623</td>\n",
       "      <td>2</td>\n",
       "      <td>...</td>\n",
       "      <td>1</td>\n",
       "      <td>1</td>\n",
       "      <td>60.3910</td>\n",
       "      <td>2.0</td>\n",
       "      <td>0.030</td>\n",
       "      <td>522.0</td>\n",
       "      <td>418.0</td>\n",
       "      <td>0.374</td>\n",
       "      <td>46.650</td>\n",
       "      <td>154.980</td>\n",
       "    </tr>\n",
       "  </tbody>\n",
       "</table>\n",
       "<p>5 rows × 22 columns</p>\n",
       "</div>"
      ],
      "text/plain": [
       "               ID  Item_ID   Datetime  Category_3  Category_2  Category_1  \\\n",
       "0  30495_20140101    30495 2014-01-01           0         2.0          90   \n",
       "1  30375_20140101    30375 2014-01-01           0         2.0         307   \n",
       "2  30011_20140101    30011 2014-01-01           0         3.0          67   \n",
       "3  30864_20140101    30864 2014-01-01           0         2.0         315   \n",
       "4  30780_20140101    30780 2014-01-01           1         2.0         132   \n",
       "\n",
       "     Price  Number_Of_Sales  item_count  dayofweek      ...       \\\n",
       "0  165.123                1         908          2      ...        \n",
       "1   68.666                5         911          2      ...        \n",
       "2  253.314                2         849          2      ...        \n",
       "3  223.122                1         907          2      ...        \n",
       "4   28.750                1         623          2      ...        \n",
       "\n",
       "   is_quarter_start  month   medByID  medBySales  medCatOnePrice  \\\n",
       "0                 1      1  124.9345        11.0           0.789   \n",
       "1                 1      1   44.2840        25.0           0.381   \n",
       "2                 1      1  296.7200         4.0         108.982   \n",
       "3                 1      1  126.2930        13.0           0.625   \n",
       "4                 1      1   60.3910         2.0           0.030   \n",
       "\n",
       "   medCatOneSales  medCatTwoSales  medCatTwoPrice  volumebyCat1  volumebyCat2  \n",
       "0           109.0           418.0           0.374       136.100       154.980  \n",
       "1           180.0           418.0           0.374       136.230       154.980  \n",
       "2             5.0           337.0           0.664       734.454       176.904  \n",
       "3            12.0           418.0           0.374        28.440       154.980  \n",
       "4           522.0           418.0           0.374        46.650       154.980  \n",
       "\n",
       "[5 rows x 22 columns]"
      ]
     },
     "execution_count": 328,
     "metadata": {},
     "output_type": "execute_result"
    }
   ],
   "source": [
    "train.head()"
   ]
  },
  {
   "cell_type": "code",
   "execution_count": 329,
   "metadata": {
    "collapsed": false
   },
   "outputs": [],
   "source": [
    "cols = ['medByID',\n",
    "'medBySales',\n",
    "'medCatOnePrice',\n",
    "'medCatOneSales',\n",
    "'medCatTwoSales',\n",
    "'medCatTwoPrice',\n",
    "'volumebyCat1',\n",
    "'volumebyCat2']"
   ]
  },
  {
   "cell_type": "code",
   "execution_count": 330,
   "metadata": {
    "collapsed": false
   },
   "outputs": [
    {
     "name": "stderr",
     "output_type": "stream",
     "text": [
      "/home/manish/anaconda2/envs/package15/lib/python2.7/site-packages/ipykernel/__main__.py:2: RuntimeWarning: divide by zero encountered in log1p\n",
      "  from ipykernel import kernelapp as app\n"
     ]
    }
   ],
   "source": [
    "for x in cols:\n",
    "    train[x] = np.log1p(train[x]+10)"
   ]
  },
  {
   "cell_type": "code",
   "execution_count": 331,
   "metadata": {
    "collapsed": false
   },
   "outputs": [
    {
     "name": "stderr",
     "output_type": "stream",
     "text": [
      "/home/manish/anaconda2/envs/package15/lib/python2.7/site-packages/ipykernel/__main__.py:2: RuntimeWarning: divide by zero encountered in log1p\n",
      "  from ipykernel import kernelapp as app\n"
     ]
    }
   ],
   "source": [
    "for x in cols:\n",
    "    test[x] = np.log1p(test[x]+10)"
   ]
  },
  {
   "cell_type": "code",
   "execution_count": 332,
   "metadata": {
    "collapsed": false
   },
   "outputs": [
    {
     "data": {
      "text/html": [
       "<div>\n",
       "<table border=\"1\" class=\"dataframe\">\n",
       "  <thead>\n",
       "    <tr style=\"text-align: right;\">\n",
       "      <th></th>\n",
       "      <th>ID</th>\n",
       "      <th>Item_ID</th>\n",
       "      <th>Datetime</th>\n",
       "      <th>Category_3</th>\n",
       "      <th>Category_2</th>\n",
       "      <th>Category_1</th>\n",
       "      <th>Price</th>\n",
       "      <th>Number_Of_Sales</th>\n",
       "      <th>item_count</th>\n",
       "      <th>dayofweek</th>\n",
       "      <th>...</th>\n",
       "      <th>is_quarter_start</th>\n",
       "      <th>month</th>\n",
       "      <th>medByID</th>\n",
       "      <th>medBySales</th>\n",
       "      <th>medCatOnePrice</th>\n",
       "      <th>medCatOneSales</th>\n",
       "      <th>medCatTwoSales</th>\n",
       "      <th>medCatTwoPrice</th>\n",
       "      <th>volumebyCat1</th>\n",
       "      <th>volumebyCat2</th>\n",
       "    </tr>\n",
       "  </thead>\n",
       "  <tbody>\n",
       "    <tr>\n",
       "      <th>0</th>\n",
       "      <td>30495_20140101</td>\n",
       "      <td>30495</td>\n",
       "      <td>2014-01-01</td>\n",
       "      <td>0</td>\n",
       "      <td>2.0</td>\n",
       "      <td>90</td>\n",
       "      <td>165.123</td>\n",
       "      <td>1</td>\n",
       "      <td>908</td>\n",
       "      <td>2</td>\n",
       "      <td>...</td>\n",
       "      <td>1</td>\n",
       "      <td>1</td>\n",
       "      <td>4.835762</td>\n",
       "      <td>2.484907</td>\n",
       "      <td>0.581657</td>\n",
       "      <td>4.700480</td>\n",
       "      <td>6.037871</td>\n",
       "      <td>0.317726</td>\n",
       "      <td>4.920711</td>\n",
       "      <td>5.049728</td>\n",
       "    </tr>\n",
       "    <tr>\n",
       "      <th>1</th>\n",
       "      <td>30375_20140101</td>\n",
       "      <td>30375</td>\n",
       "      <td>2014-01-01</td>\n",
       "      <td>0</td>\n",
       "      <td>2.0</td>\n",
       "      <td>307</td>\n",
       "      <td>68.666</td>\n",
       "      <td>5</td>\n",
       "      <td>911</td>\n",
       "      <td>2</td>\n",
       "      <td>...</td>\n",
       "      <td>1</td>\n",
       "      <td>1</td>\n",
       "      <td>3.812954</td>\n",
       "      <td>3.258097</td>\n",
       "      <td>0.322808</td>\n",
       "      <td>5.198497</td>\n",
       "      <td>6.037871</td>\n",
       "      <td>0.317726</td>\n",
       "      <td>4.921658</td>\n",
       "      <td>5.049728</td>\n",
       "    </tr>\n",
       "    <tr>\n",
       "      <th>2</th>\n",
       "      <td>30011_20140101</td>\n",
       "      <td>30011</td>\n",
       "      <td>2014-01-01</td>\n",
       "      <td>0</td>\n",
       "      <td>3.0</td>\n",
       "      <td>67</td>\n",
       "      <td>253.314</td>\n",
       "      <td>2</td>\n",
       "      <td>849</td>\n",
       "      <td>2</td>\n",
       "      <td>...</td>\n",
       "      <td>1</td>\n",
       "      <td>1</td>\n",
       "      <td>5.696153</td>\n",
       "      <td>1.609438</td>\n",
       "      <td>4.700317</td>\n",
       "      <td>1.791759</td>\n",
       "      <td>5.823046</td>\n",
       "      <td>0.509224</td>\n",
       "      <td>6.600488</td>\n",
       "      <td>5.181244</td>\n",
       "    </tr>\n",
       "    <tr>\n",
       "      <th>3</th>\n",
       "      <td>30864_20140101</td>\n",
       "      <td>30864</td>\n",
       "      <td>2014-01-01</td>\n",
       "      <td>0</td>\n",
       "      <td>2.0</td>\n",
       "      <td>315</td>\n",
       "      <td>223.122</td>\n",
       "      <td>1</td>\n",
       "      <td>907</td>\n",
       "      <td>2</td>\n",
       "      <td>...</td>\n",
       "      <td>1</td>\n",
       "      <td>1</td>\n",
       "      <td>4.846492</td>\n",
       "      <td>2.639057</td>\n",
       "      <td>0.485508</td>\n",
       "      <td>2.564949</td>\n",
       "      <td>6.037871</td>\n",
       "      <td>0.317726</td>\n",
       "      <td>3.382354</td>\n",
       "      <td>5.049728</td>\n",
       "    </tr>\n",
       "    <tr>\n",
       "      <th>4</th>\n",
       "      <td>30780_20140101</td>\n",
       "      <td>30780</td>\n",
       "      <td>2014-01-01</td>\n",
       "      <td>1</td>\n",
       "      <td>2.0</td>\n",
       "      <td>132</td>\n",
       "      <td>28.750</td>\n",
       "      <td>1</td>\n",
       "      <td>623</td>\n",
       "      <td>2</td>\n",
       "      <td>...</td>\n",
       "      <td>1</td>\n",
       "      <td>1</td>\n",
       "      <td>4.117263</td>\n",
       "      <td>1.098612</td>\n",
       "      <td>0.029559</td>\n",
       "      <td>6.259581</td>\n",
       "      <td>6.037871</td>\n",
       "      <td>0.317726</td>\n",
       "      <td>3.863883</td>\n",
       "      <td>5.049728</td>\n",
       "    </tr>\n",
       "  </tbody>\n",
       "</table>\n",
       "<p>5 rows × 22 columns</p>\n",
       "</div>"
      ],
      "text/plain": [
       "               ID  Item_ID   Datetime  Category_3  Category_2  Category_1  \\\n",
       "0  30495_20140101    30495 2014-01-01           0         2.0          90   \n",
       "1  30375_20140101    30375 2014-01-01           0         2.0         307   \n",
       "2  30011_20140101    30011 2014-01-01           0         3.0          67   \n",
       "3  30864_20140101    30864 2014-01-01           0         2.0         315   \n",
       "4  30780_20140101    30780 2014-01-01           1         2.0         132   \n",
       "\n",
       "     Price  Number_Of_Sales  item_count  dayofweek      ...       \\\n",
       "0  165.123                1         908          2      ...        \n",
       "1   68.666                5         911          2      ...        \n",
       "2  253.314                2         849          2      ...        \n",
       "3  223.122                1         907          2      ...        \n",
       "4   28.750                1         623          2      ...        \n",
       "\n",
       "   is_quarter_start  month   medByID  medBySales  medCatOnePrice  \\\n",
       "0                 1      1  4.835762    2.484907        0.581657   \n",
       "1                 1      1  3.812954    3.258097        0.322808   \n",
       "2                 1      1  5.696153    1.609438        4.700317   \n",
       "3                 1      1  4.846492    2.639057        0.485508   \n",
       "4                 1      1  4.117263    1.098612        0.029559   \n",
       "\n",
       "   medCatOneSales  medCatTwoSales  medCatTwoPrice  volumebyCat1  volumebyCat2  \n",
       "0        4.700480        6.037871        0.317726      4.920711      5.049728  \n",
       "1        5.198497        6.037871        0.317726      4.921658      5.049728  \n",
       "2        1.791759        5.823046        0.509224      6.600488      5.181244  \n",
       "3        2.564949        6.037871        0.317726      3.382354      5.049728  \n",
       "4        6.259581        6.037871        0.317726      3.863883      5.049728  \n",
       "\n",
       "[5 rows x 22 columns]"
      ]
     },
     "execution_count": 332,
     "metadata": {},
     "output_type": "execute_result"
    }
   ],
   "source": [
    "train.head()"
   ]
  },
  {
   "cell_type": "markdown",
   "metadata": {},
   "source": [
    "### preparing for training"
   ]
  },
  {
   "cell_type": "code",
   "execution_count": 319,
   "metadata": {
    "collapsed": false
   },
   "outputs": [
    {
     "name": "stdout",
     "output_type": "stream",
     "text": [
      "(881871, 22)\n",
      "(266248, 20)\n"
     ]
    }
   ],
   "source": [
    "print train.shape\n",
    "print test.shape"
   ]
  },
  {
   "cell_type": "code",
   "execution_count": 190,
   "metadata": {
    "collapsed": false
   },
   "outputs": [
    {
     "data": {
      "text/plain": [
       "Index([u'ID', u'Item_ID', u'Datetime', u'Category_3', u'Category_2',\n",
       "       u'Category_1', u'Price', u'Number_Of_Sales', u'dayofweek', u'weekyear',\n",
       "       u'dayofmonth', u'is_quarter_start', u'month', u'yearmonth', u'medByID',\n",
       "       u'medBySales', u'medCatOnePrice', u'medCatOneSales', u'medCatTwoSales',\n",
       "       u'medCatTwoPrice', u'volumebyCat1', u'volumebyCat2'],\n",
       "      dtype='object')"
      ]
     },
     "execution_count": 190,
     "metadata": {},
     "output_type": "execute_result"
    }
   ],
   "source": [
    "train.columns"
   ]
  },
  {
   "cell_type": "code",
   "execution_count": 335,
   "metadata": {
    "collapsed": true
   },
   "outputs": [],
   "source": [
    "cols_to_use = ['Category_3','Category_2','Category_1','dayofweek','weekyear',\\\n",
    "              'dayofmonth','is_quarter_start','month','medByID','medBySales','medCatOnePrice',\\\n",
    "              'medCatOneSales','medCatTwoSales','medCatTwoPrice','volumebyCat1','volumebyCat2']"
   ]
  },
  {
   "cell_type": "markdown",
   "metadata": {},
   "source": [
    "### convert int to float"
   ]
  },
  {
   "cell_type": "code",
   "execution_count": 339,
   "metadata": {
    "collapsed": true
   },
   "outputs": [],
   "source": [
    "for x in cols_to_use:\n",
    "    if train[x].dtype == 'int64':\n",
    "        train[x] = train[x].astype('float')"
   ]
  },
  {
   "cell_type": "code",
   "execution_count": 341,
   "metadata": {
    "collapsed": true
   },
   "outputs": [],
   "source": [
    "for x in cols_to_use:\n",
    "    if test[x].dtype == 'int64':\n",
    "        test[x] = test[x].astype('float')"
   ]
  },
  {
   "cell_type": "code",
   "execution_count": 344,
   "metadata": {
    "collapsed": false
   },
   "outputs": [
    {
     "data": {
      "text/plain": [
       "Category_3          float64\n",
       "Category_2          float64\n",
       "Category_1          float64\n",
       "dayofweek           float64\n",
       "weekyear            float64\n",
       "dayofmonth          float64\n",
       "is_quarter_start    float64\n",
       "month               float64\n",
       "medByID             float64\n",
       "medBySales          float64\n",
       "medCatOnePrice      float64\n",
       "medCatOneSales      float64\n",
       "medCatTwoSales      float64\n",
       "medCatTwoPrice      float64\n",
       "volumebyCat1        float64\n",
       "volumebyCat2        float64\n",
       "dtype: object"
      ]
     },
     "execution_count": 344,
     "metadata": {},
     "output_type": "execute_result"
    }
   ],
   "source": [
    "train[cols_to_use].dtypes"
   ]
  },
  {
   "cell_type": "markdown",
   "metadata": {},
   "source": [
    "### fixing infinite values"
   ]
  },
  {
   "cell_type": "code",
   "execution_count": 358,
   "metadata": {
    "collapsed": false
   },
   "outputs": [
    {
     "data": {
      "text/html": [
       "<div>\n",
       "<table border=\"1\" class=\"dataframe\">\n",
       "  <thead>\n",
       "    <tr style=\"text-align: right;\">\n",
       "      <th></th>\n",
       "      <th>Category_3</th>\n",
       "      <th>Category_2</th>\n",
       "      <th>Category_1</th>\n",
       "      <th>dayofweek</th>\n",
       "      <th>weekyear</th>\n",
       "      <th>dayofmonth</th>\n",
       "      <th>is_quarter_start</th>\n",
       "      <th>month</th>\n",
       "      <th>medByID</th>\n",
       "      <th>medBySales</th>\n",
       "      <th>medCatOnePrice</th>\n",
       "      <th>medCatOneSales</th>\n",
       "      <th>medCatTwoSales</th>\n",
       "      <th>medCatTwoPrice</th>\n",
       "      <th>volumebyCat1</th>\n",
       "      <th>volumebyCat2</th>\n",
       "    </tr>\n",
       "  </thead>\n",
       "  <tbody>\n",
       "    <tr>\n",
       "      <th>count</th>\n",
       "      <td>881871.000000</td>\n",
       "      <td>881871.000000</td>\n",
       "      <td>881871.000000</td>\n",
       "      <td>881871.000000</td>\n",
       "      <td>881871.000000</td>\n",
       "      <td>881871.000000</td>\n",
       "      <td>881871.000000</td>\n",
       "      <td>881871.000000</td>\n",
       "      <td>881871.000000</td>\n",
       "      <td>881871.000000</td>\n",
       "      <td>881871.000000</td>\n",
       "      <td>881871.000000</td>\n",
       "      <td>8.818710e+05</td>\n",
       "      <td>8.818710e+05</td>\n",
       "      <td>881871.000000</td>\n",
       "      <td>8.818710e+05</td>\n",
       "    </tr>\n",
       "    <tr>\n",
       "      <th>mean</th>\n",
       "      <td>0.162507</td>\n",
       "      <td>2.365582</td>\n",
       "      <td>186.924195</td>\n",
       "      <td>2.999887</td>\n",
       "      <td>24.916525</td>\n",
       "      <td>15.823224</td>\n",
       "      <td>0.010285</td>\n",
       "      <td>6.081397</td>\n",
       "      <td>0.787852</td>\n",
       "      <td>5.475017</td>\n",
       "      <td>0.681938</td>\n",
       "      <td>5.423677</td>\n",
       "      <td>-inf</td>\n",
       "      <td>-inf</td>\n",
       "      <td>4.849112</td>\n",
       "      <td>-inf</td>\n",
       "    </tr>\n",
       "    <tr>\n",
       "      <th>std</th>\n",
       "      <td>0.368915</td>\n",
       "      <td>1.656581</td>\n",
       "      <td>130.754489</td>\n",
       "      <td>1.998496</td>\n",
       "      <td>15.072290</td>\n",
       "      <td>8.794396</td>\n",
       "      <td>0.100892</td>\n",
       "      <td>3.413233</td>\n",
       "      <td>0.990383</td>\n",
       "      <td>1.698746</td>\n",
       "      <td>0.841060</td>\n",
       "      <td>0.970146</td>\n",
       "      <td>NaN</td>\n",
       "      <td>NaN</td>\n",
       "      <td>1.548109</td>\n",
       "      <td>NaN</td>\n",
       "    </tr>\n",
       "    <tr>\n",
       "      <th>min</th>\n",
       "      <td>0.000000</td>\n",
       "      <td>-1.000000</td>\n",
       "      <td>0.000000</td>\n",
       "      <td>0.000000</td>\n",
       "      <td>1.000000</td>\n",
       "      <td>1.000000</td>\n",
       "      <td>0.000000</td>\n",
       "      <td>1.000000</td>\n",
       "      <td>0.029559</td>\n",
       "      <td>0.693147</td>\n",
       "      <td>0.029559</td>\n",
       "      <td>1.791759</td>\n",
       "      <td>-inf</td>\n",
       "      <td>-inf</td>\n",
       "      <td>1.518857</td>\n",
       "      <td>-inf</td>\n",
       "    </tr>\n",
       "    <tr>\n",
       "      <th>25%</th>\n",
       "      <td>0.000000</td>\n",
       "      <td>1.000000</td>\n",
       "      <td>70.000000</td>\n",
       "      <td>1.000000</td>\n",
       "      <td>12.000000</td>\n",
       "      <td>8.000000</td>\n",
       "      <td>0.000000</td>\n",
       "      <td>3.000000</td>\n",
       "      <td>0.120446</td>\n",
       "      <td>4.382027</td>\n",
       "      <td>0.120446</td>\n",
       "      <td>5.003946</td>\n",
       "      <td>5.153292e+00</td>\n",
       "      <td>2.151114e-01</td>\n",
       "      <td>3.613132</td>\n",
       "      <td>3.536893e+00</td>\n",
       "    </tr>\n",
       "    <tr>\n",
       "      <th>50%</th>\n",
       "      <td>0.000000</td>\n",
       "      <td>2.000000</td>\n",
       "      <td>176.000000</td>\n",
       "      <td>3.000000</td>\n",
       "      <td>23.000000</td>\n",
       "      <td>16.000000</td>\n",
       "      <td>0.000000</td>\n",
       "      <td>6.000000</td>\n",
       "      <td>0.393393</td>\n",
       "      <td>5.552960</td>\n",
       "      <td>0.397433</td>\n",
       "      <td>5.472271</td>\n",
       "      <td>5.153292e+00</td>\n",
       "      <td>3.177262e-01</td>\n",
       "      <td>4.921658</td>\n",
       "      <td>5.049728e+00</td>\n",
       "    </tr>\n",
       "    <tr>\n",
       "      <th>75%</th>\n",
       "      <td>0.000000</td>\n",
       "      <td>3.000000</td>\n",
       "      <td>307.000000</td>\n",
       "      <td>5.000000</td>\n",
       "      <td>38.000000</td>\n",
       "      <td>23.000000</td>\n",
       "      <td>0.000000</td>\n",
       "      <td>9.000000</td>\n",
       "      <td>1.091252</td>\n",
       "      <td>6.668228</td>\n",
       "      <td>0.764072</td>\n",
       "      <td>6.056784</td>\n",
       "      <td>6.037871e+00</td>\n",
       "      <td>5.092243e-01</td>\n",
       "      <td>5.782939</td>\n",
       "      <td>5.181244e+00</td>\n",
       "    </tr>\n",
       "    <tr>\n",
       "      <th>max</th>\n",
       "      <td>1.000000</td>\n",
       "      <td>5.000000</td>\n",
       "      <td>413.000000</td>\n",
       "      <td>6.000000</td>\n",
       "      <td>53.000000</td>\n",
       "      <td>31.000000</td>\n",
       "      <td>1.000000</td>\n",
       "      <td>12.000000</td>\n",
       "      <td>5.696153</td>\n",
       "      <td>12.340905</td>\n",
       "      <td>5.095901</td>\n",
       "      <td>8.324336</td>\n",
       "      <td>6.037871e+00</td>\n",
       "      <td>6.291419e-01</td>\n",
       "      <td>9.131232</td>\n",
       "      <td>5.315555e+00</td>\n",
       "    </tr>\n",
       "  </tbody>\n",
       "</table>\n",
       "</div>"
      ],
      "text/plain": [
       "          Category_3     Category_2     Category_1      dayofweek  \\\n",
       "count  881871.000000  881871.000000  881871.000000  881871.000000   \n",
       "mean        0.162507       2.365582     186.924195       2.999887   \n",
       "std         0.368915       1.656581     130.754489       1.998496   \n",
       "min         0.000000      -1.000000       0.000000       0.000000   \n",
       "25%         0.000000       1.000000      70.000000       1.000000   \n",
       "50%         0.000000       2.000000     176.000000       3.000000   \n",
       "75%         0.000000       3.000000     307.000000       5.000000   \n",
       "max         1.000000       5.000000     413.000000       6.000000   \n",
       "\n",
       "            weekyear     dayofmonth  is_quarter_start          month  \\\n",
       "count  881871.000000  881871.000000     881871.000000  881871.000000   \n",
       "mean       24.916525      15.823224          0.010285       6.081397   \n",
       "std        15.072290       8.794396          0.100892       3.413233   \n",
       "min         1.000000       1.000000          0.000000       1.000000   \n",
       "25%        12.000000       8.000000          0.000000       3.000000   \n",
       "50%        23.000000      16.000000          0.000000       6.000000   \n",
       "75%        38.000000      23.000000          0.000000       9.000000   \n",
       "max        53.000000      31.000000          1.000000      12.000000   \n",
       "\n",
       "             medByID     medBySales  medCatOnePrice  medCatOneSales  \\\n",
       "count  881871.000000  881871.000000   881871.000000   881871.000000   \n",
       "mean        0.787852       5.475017        0.681938        5.423677   \n",
       "std         0.990383       1.698746        0.841060        0.970146   \n",
       "min         0.029559       0.693147        0.029559        1.791759   \n",
       "25%         0.120446       4.382027        0.120446        5.003946   \n",
       "50%         0.393393       5.552960        0.397433        5.472271   \n",
       "75%         1.091252       6.668228        0.764072        6.056784   \n",
       "max         5.696153      12.340905        5.095901        8.324336   \n",
       "\n",
       "       medCatTwoSales  medCatTwoPrice   volumebyCat1  volumebyCat2  \n",
       "count    8.818710e+05    8.818710e+05  881871.000000  8.818710e+05  \n",
       "mean             -inf            -inf       4.849112          -inf  \n",
       "std               NaN             NaN       1.548109           NaN  \n",
       "min              -inf            -inf       1.518857          -inf  \n",
       "25%      5.153292e+00    2.151114e-01       3.613132  3.536893e+00  \n",
       "50%      5.153292e+00    3.177262e-01       4.921658  5.049728e+00  \n",
       "75%      6.037871e+00    5.092243e-01       5.782939  5.181244e+00  \n",
       "max      6.037871e+00    6.291419e-01       9.131232  5.315555e+00  "
      ]
     },
     "execution_count": 358,
     "metadata": {},
     "output_type": "execute_result"
    }
   ],
   "source": [
    "train[cols_to_use].describe()"
   ]
  },
  {
   "cell_type": "code",
   "execution_count": 357,
   "metadata": {
    "collapsed": false
   },
   "outputs": [
    {
     "name": "stderr",
     "output_type": "stream",
     "text": [
      "/home/manish/anaconda2/envs/package15/lib/python2.7/site-packages/ipykernel/__main__.py:1: SettingWithCopyWarning: \n",
      "A value is trying to be set on a copy of a slice from a DataFrame\n",
      "\n",
      "See the caveats in the documentation: http://pandas.pydata.org/pandas-docs/stable/indexing.html#indexing-view-versus-copy\n",
      "  if __name__ == '__main__':\n"
     ]
    }
   ],
   "source": [
    "train[cols_to_use].replace(np.inf, 6, inplace=True)"
   ]
  },
  {
   "cell_type": "code",
   "execution_count": 355,
   "metadata": {
    "collapsed": true
   },
   "outputs": [],
   "source": [
    "test.replace(np.inf,6,inplace=True)"
   ]
  },
  {
   "cell_type": "markdown",
   "metadata": {},
   "source": [
    "### Ridge Regression"
   ]
  },
  {
   "cell_type": "code",
   "execution_count": 207,
   "metadata": {
    "collapsed": true
   },
   "outputs": [],
   "source": [
    "from sklearn.linear_model import Ridge, RidgeCV\n",
    "from sklearn.metrics import mean_squared_error"
   ]
  },
  {
   "cell_type": "code",
   "execution_count": 321,
   "metadata": {
    "collapsed": true
   },
   "outputs": [],
   "source": [
    "train_X = train.loc[train['Datetime'] < \"2016-01-01\"]\n",
    "valid_X = train.loc[train['Datetime'] >= '2016-01-01']"
   ]
  },
  {
   "cell_type": "code",
   "execution_count": 322,
   "metadata": {
    "collapsed": true
   },
   "outputs": [],
   "source": [
    "target1 = np.log1p(train_X['Price'])\n",
    "target2 = np.log1p(train_X['Number_Of_Sales'])"
   ]
  },
  {
   "cell_type": "code",
   "execution_count": 195,
   "metadata": {
    "collapsed": false
   },
   "outputs": [
    {
     "name": "stdout",
     "output_type": "stream",
     "text": [
      "(566869, 22)\n",
      "(223394, 22)\n"
     ]
    }
   ],
   "source": [
    "print train_X.shape\n",
    "print valid_X.shape"
   ]
  },
  {
   "cell_type": "code",
   "execution_count": 196,
   "metadata": {
    "collapsed": true
   },
   "outputs": [],
   "source": [
    "ridgealphas = [0.021,0.0009,0.01,0.1,0.3,0.5,0.9,1,4,7,10,15,20,25,30,40,70,100]"
   ]
  },
  {
   "cell_type": "code",
   "execution_count": 197,
   "metadata": {
    "collapsed": true
   },
   "outputs": [],
   "source": [
    "getrid = RidgeCV(alphas=ridgealphas)"
   ]
  },
  {
   "cell_type": "code",
   "execution_count": 203,
   "metadata": {
    "collapsed": false
   },
   "outputs": [
    {
     "data": {
      "text/plain": [
       "RidgeCV(alphas=[0.021, 0.0009, 0.01, 0.1, 0.3, 0.5, 0.9, 1, 4, 7, 10, 15, 20, 25, 30, 40, 70, 100],\n",
       "    cv=None, fit_intercept=True, gcv_mode=None, normalize=False,\n",
       "    scoring=None, store_cv_values=False)"
      ]
     },
     "execution_count": 203,
     "metadata": {},
     "output_type": "execute_result"
    }
   ],
   "source": [
    "getrid.fit(train_X[cols_to_use], target1)"
   ]
  },
  {
   "cell_type": "code",
   "execution_count": 204,
   "metadata": {
    "collapsed": false
   },
   "outputs": [
    {
     "data": {
      "text/plain": [
       "4.0"
      ]
     },
     "execution_count": 204,
     "metadata": {},
     "output_type": "execute_result"
    }
   ],
   "source": [
    "getrid.alpha_"
   ]
  },
  {
   "cell_type": "code",
   "execution_count": 205,
   "metadata": {
    "collapsed": false
   },
   "outputs": [
    {
     "data": {
      "text/plain": [
       "Ridge(alpha=4, copy_X=True, fit_intercept=True, max_iter=None,\n",
       "   normalize=False, random_state=None, solver='auto', tol=0.001)"
      ]
     },
     "execution_count": 205,
     "metadata": {},
     "output_type": "execute_result"
    }
   ],
   "source": [
    "ridge_train = Ridge(alpha=4)\n",
    "ridge_train.fit(train_X[cols_to_use], target1)"
   ]
  },
  {
   "cell_type": "code",
   "execution_count": 211,
   "metadata": {
    "collapsed": false
   },
   "outputs": [
    {
     "name": "stdout",
     "output_type": "stream",
     "text": [
      "243.755376611\n"
     ]
    }
   ],
   "source": [
    "ridpred = ridge_train.predict(valid_X[cols_to_use])\n",
    "ridpred = np.exp(ridpred)-1\n",
    "print np.sqrt(mean_squared_error(valid_X['Price'], ridpred))"
   ]
  },
  {
   "cell_type": "code",
   "execution_count": 212,
   "metadata": {
    "collapsed": false
   },
   "outputs": [
    {
     "data": {
      "text/html": [
       "<div>\n",
       "<table border=\"1\" class=\"dataframe\">\n",
       "  <thead>\n",
       "    <tr style=\"text-align: right;\">\n",
       "      <th></th>\n",
       "      <th>preds</th>\n",
       "      <th>real</th>\n",
       "    </tr>\n",
       "  </thead>\n",
       "  <tbody>\n",
       "    <tr>\n",
       "      <th>726</th>\n",
       "      <td>44.683723</td>\n",
       "      <td>115.141</td>\n",
       "    </tr>\n",
       "    <tr>\n",
       "      <th>727</th>\n",
       "      <td>45.032243</td>\n",
       "      <td>116.204</td>\n",
       "    </tr>\n",
       "    <tr>\n",
       "      <th>728</th>\n",
       "      <td>45.029778</td>\n",
       "      <td>111.777</td>\n",
       "    </tr>\n",
       "    <tr>\n",
       "      <th>729</th>\n",
       "      <td>46.056457</td>\n",
       "      <td>107.669</td>\n",
       "    </tr>\n",
       "    <tr>\n",
       "      <th>730</th>\n",
       "      <td>46.053938</td>\n",
       "      <td>108.306</td>\n",
       "    </tr>\n",
       "    <tr>\n",
       "      <th>731</th>\n",
       "      <td>46.051418</td>\n",
       "      <td>111.028</td>\n",
       "    </tr>\n",
       "    <tr>\n",
       "      <th>732</th>\n",
       "      <td>46.048898</td>\n",
       "      <td>105.217</td>\n",
       "    </tr>\n",
       "    <tr>\n",
       "      <th>733</th>\n",
       "      <td>46.046379</td>\n",
       "      <td>110.585</td>\n",
       "    </tr>\n",
       "    <tr>\n",
       "      <th>734</th>\n",
       "      <td>46.043860</td>\n",
       "      <td>108.046</td>\n",
       "    </tr>\n",
       "    <tr>\n",
       "      <th>735</th>\n",
       "      <td>46.041340</td>\n",
       "      <td>109.255</td>\n",
       "    </tr>\n",
       "    <tr>\n",
       "      <th>736</th>\n",
       "      <td>45.865416</td>\n",
       "      <td>114.843</td>\n",
       "    </tr>\n",
       "    <tr>\n",
       "      <th>737</th>\n",
       "      <td>45.862906</td>\n",
       "      <td>108.569</td>\n",
       "    </tr>\n",
       "    <tr>\n",
       "      <th>738</th>\n",
       "      <td>45.860397</td>\n",
       "      <td>117.775</td>\n",
       "    </tr>\n",
       "    <tr>\n",
       "      <th>739</th>\n",
       "      <td>45.857887</td>\n",
       "      <td>110.498</td>\n",
       "    </tr>\n",
       "    <tr>\n",
       "      <th>740</th>\n",
       "      <td>45.855378</td>\n",
       "      <td>109.765</td>\n",
       "    </tr>\n",
       "    <tr>\n",
       "      <th>741</th>\n",
       "      <td>45.852869</td>\n",
       "      <td>107.875</td>\n",
       "    </tr>\n",
       "    <tr>\n",
       "      <th>742</th>\n",
       "      <td>45.850360</td>\n",
       "      <td>107.060</td>\n",
       "    </tr>\n",
       "    <tr>\n",
       "      <th>743</th>\n",
       "      <td>45.675150</td>\n",
       "      <td>106.583</td>\n",
       "    </tr>\n",
       "    <tr>\n",
       "      <th>744</th>\n",
       "      <td>45.672650</td>\n",
       "      <td>106.349</td>\n",
       "    </tr>\n",
       "    <tr>\n",
       "      <th>745</th>\n",
       "      <td>45.670151</td>\n",
       "      <td>109.946</td>\n",
       "    </tr>\n",
       "    <tr>\n",
       "      <th>746</th>\n",
       "      <td>45.667652</td>\n",
       "      <td>112.854</td>\n",
       "    </tr>\n",
       "    <tr>\n",
       "      <th>747</th>\n",
       "      <td>45.665153</td>\n",
       "      <td>108.903</td>\n",
       "    </tr>\n",
       "    <tr>\n",
       "      <th>748</th>\n",
       "      <td>45.662654</td>\n",
       "      <td>105.995</td>\n",
       "    </tr>\n",
       "    <tr>\n",
       "      <th>749</th>\n",
       "      <td>45.660155</td>\n",
       "      <td>114.317</td>\n",
       "    </tr>\n",
       "    <tr>\n",
       "      <th>750</th>\n",
       "      <td>45.485656</td>\n",
       "      <td>116.229</td>\n",
       "    </tr>\n",
       "    <tr>\n",
       "      <th>751</th>\n",
       "      <td>45.483167</td>\n",
       "      <td>109.276</td>\n",
       "    </tr>\n",
       "    <tr>\n",
       "      <th>752</th>\n",
       "      <td>45.480678</td>\n",
       "      <td>105.595</td>\n",
       "    </tr>\n",
       "    <tr>\n",
       "      <th>753</th>\n",
       "      <td>45.478189</td>\n",
       "      <td>110.696</td>\n",
       "    </tr>\n",
       "    <tr>\n",
       "      <th>754</th>\n",
       "      <td>45.475700</td>\n",
       "      <td>107.172</td>\n",
       "    </tr>\n",
       "    <tr>\n",
       "      <th>755</th>\n",
       "      <td>45.473211</td>\n",
       "      <td>109.941</td>\n",
       "    </tr>\n",
       "    <tr>\n",
       "      <th>...</th>\n",
       "      <td>...</td>\n",
       "      <td>...</td>\n",
       "    </tr>\n",
       "    <tr>\n",
       "      <th>790233</th>\n",
       "      <td>1.843845</td>\n",
       "      <td>2.776</td>\n",
       "    </tr>\n",
       "    <tr>\n",
       "      <th>790234</th>\n",
       "      <td>1.843693</td>\n",
       "      <td>2.674</td>\n",
       "    </tr>\n",
       "    <tr>\n",
       "      <th>790235</th>\n",
       "      <td>1.843541</td>\n",
       "      <td>2.693</td>\n",
       "    </tr>\n",
       "    <tr>\n",
       "      <th>790236</th>\n",
       "      <td>1.843389</td>\n",
       "      <td>2.672</td>\n",
       "    </tr>\n",
       "    <tr>\n",
       "      <th>790237</th>\n",
       "      <td>1.843236</td>\n",
       "      <td>2.611</td>\n",
       "    </tr>\n",
       "    <tr>\n",
       "      <th>790238</th>\n",
       "      <td>1.832603</td>\n",
       "      <td>2.448</td>\n",
       "    </tr>\n",
       "    <tr>\n",
       "      <th>790239</th>\n",
       "      <td>1.832452</td>\n",
       "      <td>2.404</td>\n",
       "    </tr>\n",
       "    <tr>\n",
       "      <th>790240</th>\n",
       "      <td>1.832300</td>\n",
       "      <td>2.251</td>\n",
       "    </tr>\n",
       "    <tr>\n",
       "      <th>790241</th>\n",
       "      <td>1.832148</td>\n",
       "      <td>2.365</td>\n",
       "    </tr>\n",
       "    <tr>\n",
       "      <th>790242</th>\n",
       "      <td>1.831997</td>\n",
       "      <td>2.312</td>\n",
       "    </tr>\n",
       "    <tr>\n",
       "      <th>790243</th>\n",
       "      <td>1.831845</td>\n",
       "      <td>2.380</td>\n",
       "    </tr>\n",
       "    <tr>\n",
       "      <th>790244</th>\n",
       "      <td>1.831693</td>\n",
       "      <td>2.459</td>\n",
       "    </tr>\n",
       "    <tr>\n",
       "      <th>790245</th>\n",
       "      <td>1.821103</td>\n",
       "      <td>2.337</td>\n",
       "    </tr>\n",
       "    <tr>\n",
       "      <th>790246</th>\n",
       "      <td>1.820952</td>\n",
       "      <td>2.194</td>\n",
       "    </tr>\n",
       "    <tr>\n",
       "      <th>790247</th>\n",
       "      <td>1.820801</td>\n",
       "      <td>2.148</td>\n",
       "    </tr>\n",
       "    <tr>\n",
       "      <th>790248</th>\n",
       "      <td>1.820650</td>\n",
       "      <td>1.921</td>\n",
       "    </tr>\n",
       "    <tr>\n",
       "      <th>790249</th>\n",
       "      <td>1.820499</td>\n",
       "      <td>2.056</td>\n",
       "    </tr>\n",
       "    <tr>\n",
       "      <th>790250</th>\n",
       "      <td>1.820348</td>\n",
       "      <td>1.987</td>\n",
       "    </tr>\n",
       "    <tr>\n",
       "      <th>790251</th>\n",
       "      <td>1.820197</td>\n",
       "      <td>1.882</td>\n",
       "    </tr>\n",
       "    <tr>\n",
       "      <th>790252</th>\n",
       "      <td>1.809650</td>\n",
       "      <td>1.763</td>\n",
       "    </tr>\n",
       "    <tr>\n",
       "      <th>790253</th>\n",
       "      <td>1.809500</td>\n",
       "      <td>1.640</td>\n",
       "    </tr>\n",
       "    <tr>\n",
       "      <th>790254</th>\n",
       "      <td>1.809349</td>\n",
       "      <td>1.650</td>\n",
       "    </tr>\n",
       "    <tr>\n",
       "      <th>790255</th>\n",
       "      <td>1.809199</td>\n",
       "      <td>1.567</td>\n",
       "    </tr>\n",
       "    <tr>\n",
       "      <th>790256</th>\n",
       "      <td>1.809048</td>\n",
       "      <td>1.483</td>\n",
       "    </tr>\n",
       "    <tr>\n",
       "      <th>790257</th>\n",
       "      <td>1.808898</td>\n",
       "      <td>1.489</td>\n",
       "    </tr>\n",
       "    <tr>\n",
       "      <th>790258</th>\n",
       "      <td>1.808748</td>\n",
       "      <td>1.358</td>\n",
       "    </tr>\n",
       "    <tr>\n",
       "      <th>790259</th>\n",
       "      <td>1.798243</td>\n",
       "      <td>1.415</td>\n",
       "    </tr>\n",
       "    <tr>\n",
       "      <th>790260</th>\n",
       "      <td>1.798094</td>\n",
       "      <td>1.423</td>\n",
       "    </tr>\n",
       "    <tr>\n",
       "      <th>790261</th>\n",
       "      <td>1.797944</td>\n",
       "      <td>1.379</td>\n",
       "    </tr>\n",
       "    <tr>\n",
       "      <th>790262</th>\n",
       "      <td>1.797794</td>\n",
       "      <td>1.387</td>\n",
       "    </tr>\n",
       "  </tbody>\n",
       "</table>\n",
       "<p>223394 rows × 2 columns</p>\n",
       "</div>"
      ],
      "text/plain": [
       "            preds     real\n",
       "726     44.683723  115.141\n",
       "727     45.032243  116.204\n",
       "728     45.029778  111.777\n",
       "729     46.056457  107.669\n",
       "730     46.053938  108.306\n",
       "731     46.051418  111.028\n",
       "732     46.048898  105.217\n",
       "733     46.046379  110.585\n",
       "734     46.043860  108.046\n",
       "735     46.041340  109.255\n",
       "736     45.865416  114.843\n",
       "737     45.862906  108.569\n",
       "738     45.860397  117.775\n",
       "739     45.857887  110.498\n",
       "740     45.855378  109.765\n",
       "741     45.852869  107.875\n",
       "742     45.850360  107.060\n",
       "743     45.675150  106.583\n",
       "744     45.672650  106.349\n",
       "745     45.670151  109.946\n",
       "746     45.667652  112.854\n",
       "747     45.665153  108.903\n",
       "748     45.662654  105.995\n",
       "749     45.660155  114.317\n",
       "750     45.485656  116.229\n",
       "751     45.483167  109.276\n",
       "752     45.480678  105.595\n",
       "753     45.478189  110.696\n",
       "754     45.475700  107.172\n",
       "755     45.473211  109.941\n",
       "...           ...      ...\n",
       "790233   1.843845    2.776\n",
       "790234   1.843693    2.674\n",
       "790235   1.843541    2.693\n",
       "790236   1.843389    2.672\n",
       "790237   1.843236    2.611\n",
       "790238   1.832603    2.448\n",
       "790239   1.832452    2.404\n",
       "790240   1.832300    2.251\n",
       "790241   1.832148    2.365\n",
       "790242   1.831997    2.312\n",
       "790243   1.831845    2.380\n",
       "790244   1.831693    2.459\n",
       "790245   1.821103    2.337\n",
       "790246   1.820952    2.194\n",
       "790247   1.820801    2.148\n",
       "790248   1.820650    1.921\n",
       "790249   1.820499    2.056\n",
       "790250   1.820348    1.987\n",
       "790251   1.820197    1.882\n",
       "790252   1.809650    1.763\n",
       "790253   1.809500    1.640\n",
       "790254   1.809349    1.650\n",
       "790255   1.809199    1.567\n",
       "790256   1.809048    1.483\n",
       "790257   1.808898    1.489\n",
       "790258   1.808748    1.358\n",
       "790259   1.798243    1.415\n",
       "790260   1.798094    1.423\n",
       "790261   1.797944    1.379\n",
       "790262   1.797794    1.387\n",
       "\n",
       "[223394 rows x 2 columns]"
      ]
     },
     "execution_count": 212,
     "metadata": {},
     "output_type": "execute_result"
    }
   ],
   "source": [
    "pd.DataFrame({'real':valid_X['Price'], 'preds':ridpred})"
   ]
  },
  {
   "cell_type": "code",
   "execution_count": null,
   "metadata": {
    "collapsed": true
   },
   "outputs": [],
   "source": []
  },
  {
   "cell_type": "code",
   "execution_count": null,
   "metadata": {
    "collapsed": true
   },
   "outputs": [],
   "source": []
  },
  {
   "cell_type": "code",
   "execution_count": null,
   "metadata": {
    "collapsed": true
   },
   "outputs": [],
   "source": []
  },
  {
   "cell_type": "markdown",
   "metadata": {},
   "source": [
    "### Decision Tree"
   ]
  },
  {
   "cell_type": "code",
   "execution_count": 324,
   "metadata": {
    "collapsed": true
   },
   "outputs": [],
   "source": [
    "train.fillna(-1, inplace=True)\n",
    "test.fillna(-1, inplace=True)"
   ]
  },
  {
   "cell_type": "code",
   "execution_count": 214,
   "metadata": {
    "collapsed": true
   },
   "outputs": [],
   "source": [
    "from sklearn.tree import DecisionTreeRegressor"
   ]
  },
  {
   "cell_type": "code",
   "execution_count": 342,
   "metadata": {
    "collapsed": false
   },
   "outputs": [
    {
     "ename": "ValueError",
     "evalue": "Input contains NaN, infinity or a value too large for dtype('float32').",
     "output_type": "error",
     "traceback": [
      "\u001b[0;31m---------------------------------------------------------------------------\u001b[0m",
      "\u001b[0;31mValueError\u001b[0m                                Traceback (most recent call last)",
      "\u001b[0;32m<ipython-input-342-72947b43c72a>\u001b[0m in \u001b[0;36m<module>\u001b[0;34m()\u001b[0m\n\u001b[1;32m      1\u001b[0m \u001b[0mDT\u001b[0m \u001b[0;34m=\u001b[0m \u001b[0mDecisionTreeRegressor\u001b[0m\u001b[0;34m(\u001b[0m\u001b[0mmax_depth\u001b[0m \u001b[0;34m=\u001b[0m \u001b[0;36m6\u001b[0m\u001b[0;34m,\u001b[0m \u001b[0mmin_samples_split\u001b[0m\u001b[0;34m=\u001b[0m\u001b[0;36m11\u001b[0m\u001b[0;34m,\u001b[0m \u001b[0mcriterion\u001b[0m\u001b[0;34m=\u001b[0m\u001b[0;34m'mse'\u001b[0m\u001b[0;34m,\u001b[0m\u001b[0mmax_features\u001b[0m\u001b[0;34m=\u001b[0m\u001b[0;34m'auto'\u001b[0m\u001b[0;34m)\u001b[0m\u001b[0;34m\u001b[0m\u001b[0m\n\u001b[0;32m----> 2\u001b[0;31m \u001b[0mDT\u001b[0m\u001b[0;34m.\u001b[0m\u001b[0mfit\u001b[0m\u001b[0;34m(\u001b[0m\u001b[0mtrain\u001b[0m\u001b[0;34m[\u001b[0m\u001b[0mcols_to_use\u001b[0m\u001b[0;34m]\u001b[0m\u001b[0;34m,\u001b[0m \u001b[0mnp\u001b[0m\u001b[0;34m.\u001b[0m\u001b[0mlog1p\u001b[0m\u001b[0;34m(\u001b[0m\u001b[0mtrain\u001b[0m\u001b[0;34m[\u001b[0m\u001b[0;34m'Price'\u001b[0m\u001b[0;34m]\u001b[0m\u001b[0;34m)\u001b[0m\u001b[0;34m)\u001b[0m\u001b[0;34m\u001b[0m\u001b[0m\n\u001b[0m\u001b[1;32m      3\u001b[0m \u001b[0mdtpred\u001b[0m \u001b[0;34m=\u001b[0m \u001b[0mDT\u001b[0m\u001b[0;34m.\u001b[0m\u001b[0mpredict\u001b[0m\u001b[0;34m(\u001b[0m\u001b[0mtest\u001b[0m\u001b[0;34m[\u001b[0m\u001b[0mcols_to_use\u001b[0m\u001b[0;34m]\u001b[0m\u001b[0;34m)\u001b[0m\u001b[0;34m\u001b[0m\u001b[0m\n\u001b[1;32m      4\u001b[0m \u001b[0mdtpred\u001b[0m \u001b[0;34m=\u001b[0m \u001b[0mnp\u001b[0m\u001b[0;34m.\u001b[0m\u001b[0mexp\u001b[0m\u001b[0;34m(\u001b[0m\u001b[0mdtpred\u001b[0m\u001b[0;34m)\u001b[0m\u001b[0;34m-\u001b[0m\u001b[0;36m1\u001b[0m\u001b[0;34m\u001b[0m\u001b[0m\n",
      "\u001b[0;32m/home/manish/anaconda2/envs/package15/lib/python2.7/site-packages/sklearn/tree/tree.pyc\u001b[0m in \u001b[0;36mfit\u001b[0;34m(self, X, y, sample_weight, check_input, X_idx_sorted)\u001b[0m\n\u001b[1;32m   1027\u001b[0m             \u001b[0msample_weight\u001b[0m\u001b[0;34m=\u001b[0m\u001b[0msample_weight\u001b[0m\u001b[0;34m,\u001b[0m\u001b[0;34m\u001b[0m\u001b[0m\n\u001b[1;32m   1028\u001b[0m             \u001b[0mcheck_input\u001b[0m\u001b[0;34m=\u001b[0m\u001b[0mcheck_input\u001b[0m\u001b[0;34m,\u001b[0m\u001b[0;34m\u001b[0m\u001b[0m\n\u001b[0;32m-> 1029\u001b[0;31m             X_idx_sorted=X_idx_sorted)\n\u001b[0m\u001b[1;32m   1030\u001b[0m         \u001b[0;32mreturn\u001b[0m \u001b[0mself\u001b[0m\u001b[0;34m\u001b[0m\u001b[0m\n\u001b[1;32m   1031\u001b[0m \u001b[0;34m\u001b[0m\u001b[0m\n",
      "\u001b[0;32m/home/manish/anaconda2/envs/package15/lib/python2.7/site-packages/sklearn/tree/tree.pyc\u001b[0m in \u001b[0;36mfit\u001b[0;34m(self, X, y, sample_weight, check_input, X_idx_sorted)\u001b[0m\n\u001b[1;32m    120\u001b[0m         \u001b[0mrandom_state\u001b[0m \u001b[0;34m=\u001b[0m \u001b[0mcheck_random_state\u001b[0m\u001b[0;34m(\u001b[0m\u001b[0mself\u001b[0m\u001b[0;34m.\u001b[0m\u001b[0mrandom_state\u001b[0m\u001b[0;34m)\u001b[0m\u001b[0;34m\u001b[0m\u001b[0m\n\u001b[1;32m    121\u001b[0m         \u001b[0;32mif\u001b[0m \u001b[0mcheck_input\u001b[0m\u001b[0;34m:\u001b[0m\u001b[0;34m\u001b[0m\u001b[0m\n\u001b[0;32m--> 122\u001b[0;31m             \u001b[0mX\u001b[0m \u001b[0;34m=\u001b[0m \u001b[0mcheck_array\u001b[0m\u001b[0;34m(\u001b[0m\u001b[0mX\u001b[0m\u001b[0;34m,\u001b[0m \u001b[0mdtype\u001b[0m\u001b[0;34m=\u001b[0m\u001b[0mDTYPE\u001b[0m\u001b[0;34m,\u001b[0m \u001b[0maccept_sparse\u001b[0m\u001b[0;34m=\u001b[0m\u001b[0;34m\"csc\"\u001b[0m\u001b[0;34m)\u001b[0m\u001b[0;34m\u001b[0m\u001b[0m\n\u001b[0m\u001b[1;32m    123\u001b[0m             \u001b[0my\u001b[0m \u001b[0;34m=\u001b[0m \u001b[0mcheck_array\u001b[0m\u001b[0;34m(\u001b[0m\u001b[0my\u001b[0m\u001b[0;34m,\u001b[0m \u001b[0mensure_2d\u001b[0m\u001b[0;34m=\u001b[0m\u001b[0mFalse\u001b[0m\u001b[0;34m,\u001b[0m \u001b[0mdtype\u001b[0m\u001b[0;34m=\u001b[0m\u001b[0mNone\u001b[0m\u001b[0;34m)\u001b[0m\u001b[0;34m\u001b[0m\u001b[0m\n\u001b[1;32m    124\u001b[0m             \u001b[0;32mif\u001b[0m \u001b[0missparse\u001b[0m\u001b[0;34m(\u001b[0m\u001b[0mX\u001b[0m\u001b[0;34m)\u001b[0m\u001b[0;34m:\u001b[0m\u001b[0;34m\u001b[0m\u001b[0m\n",
      "\u001b[0;32m/home/manish/anaconda2/envs/package15/lib/python2.7/site-packages/sklearn/utils/validation.pyc\u001b[0m in \u001b[0;36mcheck_array\u001b[0;34m(array, accept_sparse, dtype, order, copy, force_all_finite, ensure_2d, allow_nd, ensure_min_samples, ensure_min_features, warn_on_dtype, estimator)\u001b[0m\n\u001b[1;32m    405\u001b[0m                              % (array.ndim, estimator_name))\n\u001b[1;32m    406\u001b[0m         \u001b[0;32mif\u001b[0m \u001b[0mforce_all_finite\u001b[0m\u001b[0;34m:\u001b[0m\u001b[0;34m\u001b[0m\u001b[0m\n\u001b[0;32m--> 407\u001b[0;31m             \u001b[0m_assert_all_finite\u001b[0m\u001b[0;34m(\u001b[0m\u001b[0marray\u001b[0m\u001b[0;34m)\u001b[0m\u001b[0;34m\u001b[0m\u001b[0m\n\u001b[0m\u001b[1;32m    408\u001b[0m \u001b[0;34m\u001b[0m\u001b[0m\n\u001b[1;32m    409\u001b[0m     \u001b[0mshape_repr\u001b[0m \u001b[0;34m=\u001b[0m \u001b[0m_shape_repr\u001b[0m\u001b[0;34m(\u001b[0m\u001b[0marray\u001b[0m\u001b[0;34m.\u001b[0m\u001b[0mshape\u001b[0m\u001b[0;34m)\u001b[0m\u001b[0;34m\u001b[0m\u001b[0m\n",
      "\u001b[0;32m/home/manish/anaconda2/envs/package15/lib/python2.7/site-packages/sklearn/utils/validation.pyc\u001b[0m in \u001b[0;36m_assert_all_finite\u001b[0;34m(X)\u001b[0m\n\u001b[1;32m     56\u001b[0m             and not np.isfinite(X).all()):\n\u001b[1;32m     57\u001b[0m         raise ValueError(\"Input contains NaN, infinity\"\n\u001b[0;32m---> 58\u001b[0;31m                          \" or a value too large for %r.\" % X.dtype)\n\u001b[0m\u001b[1;32m     59\u001b[0m \u001b[0;34m\u001b[0m\u001b[0m\n\u001b[1;32m     60\u001b[0m \u001b[0;34m\u001b[0m\u001b[0m\n",
      "\u001b[0;31mValueError\u001b[0m: Input contains NaN, infinity or a value too large for dtype('float32')."
     ]
    }
   ],
   "source": [
    "DT = DecisionTreeRegressor(max_depth = 6, min_samples_split=11, criterion='mse',max_features='auto')\n",
    "DT.fit(train[cols_to_use], np.log1p(train['Price']))\n",
    "dtpred = DT.predict(test[cols_to_use])\n",
    "dtpred = np.exp(dtpred)-1"
   ]
  },
  {
   "cell_type": "code",
   "execution_count": 272,
   "metadata": {
    "collapsed": true
   },
   "outputs": [],
   "source": [
    "DT2 = DecisionTreeRegressor(max_depth = 6, min_samples_split=11, criterion='mse',max_features='auto')\n",
    "DT2.fit(train_X[cols_to_use], target2)\n",
    "dtpred2 = DT2.predict(test[cols_to_use])\n",
    "dtpred2 = np.exp(dtpred2)-1\n"
   ]
  },
  {
   "cell_type": "code",
   "execution_count": 268,
   "metadata": {
    "collapsed": false
   },
   "outputs": [
    {
     "data": {
      "text/plain": [
       "array([ 2.69755137,  2.69755137,  2.69755137,  2.69755137,  2.69755137,\n",
       "        2.69755137,  2.69755137,  2.69755137,  2.69755137,  2.69755137])"
      ]
     },
     "execution_count": 268,
     "metadata": {},
     "output_type": "execute_result"
    }
   ],
   "source": [
    "dtpred2[:10]"
   ]
  },
  {
   "cell_type": "code",
   "execution_count": 271,
   "metadata": {
    "collapsed": true
   },
   "outputs": [
    {
     "ename": "ValueError",
     "evalue": "Found input variables with inconsistent numbers of samples: [223394, 227056]",
     "output_type": "error",
     "traceback": [
      "\u001b[0;31m---------------------------------------------------------------------------\u001b[0m",
      "\u001b[0;31mValueError\u001b[0m                                Traceback (most recent call last)",
      "\u001b[0;32m<ipython-input-271-73c332505e44>\u001b[0m in \u001b[0;36m<module>\u001b[0;34m()\u001b[0m\n\u001b[0;32m----> 1\u001b[0;31m \u001b[0;32mprint\u001b[0m \u001b[0mnp\u001b[0m\u001b[0;34m.\u001b[0m\u001b[0msqrt\u001b[0m\u001b[0;34m(\u001b[0m\u001b[0mmean_squared_error\u001b[0m\u001b[0;34m(\u001b[0m\u001b[0mvalid_X\u001b[0m\u001b[0;34m[\u001b[0m\u001b[0;34m'Price'\u001b[0m\u001b[0;34m]\u001b[0m\u001b[0;34m,\u001b[0m \u001b[0mdtpred\u001b[0m\u001b[0;34m)\u001b[0m\u001b[0;34m)\u001b[0m\u001b[0;34m\u001b[0m\u001b[0m\n\u001b[0m",
      "\u001b[0;32m/home/manish/anaconda2/envs/package15/lib/python2.7/site-packages/sklearn/metrics/regression.pyc\u001b[0m in \u001b[0;36mmean_squared_error\u001b[0;34m(y_true, y_pred, sample_weight, multioutput)\u001b[0m\n\u001b[1;32m    229\u001b[0m     \"\"\"\n\u001b[1;32m    230\u001b[0m     y_type, y_true, y_pred, multioutput = _check_reg_targets(\n\u001b[0;32m--> 231\u001b[0;31m         y_true, y_pred, multioutput)\n\u001b[0m\u001b[1;32m    232\u001b[0m     output_errors = np.average((y_true - y_pred) ** 2, axis=0,\n\u001b[1;32m    233\u001b[0m                                weights=sample_weight)\n",
      "\u001b[0;32m/home/manish/anaconda2/envs/package15/lib/python2.7/site-packages/sklearn/metrics/regression.pyc\u001b[0m in \u001b[0;36m_check_reg_targets\u001b[0;34m(y_true, y_pred, multioutput)\u001b[0m\n\u001b[1;32m     72\u001b[0m \u001b[0;34m\u001b[0m\u001b[0m\n\u001b[1;32m     73\u001b[0m     \"\"\"\n\u001b[0;32m---> 74\u001b[0;31m     \u001b[0mcheck_consistent_length\u001b[0m\u001b[0;34m(\u001b[0m\u001b[0my_true\u001b[0m\u001b[0;34m,\u001b[0m \u001b[0my_pred\u001b[0m\u001b[0;34m)\u001b[0m\u001b[0;34m\u001b[0m\u001b[0m\n\u001b[0m\u001b[1;32m     75\u001b[0m     \u001b[0my_true\u001b[0m \u001b[0;34m=\u001b[0m \u001b[0mcheck_array\u001b[0m\u001b[0;34m(\u001b[0m\u001b[0my_true\u001b[0m\u001b[0;34m,\u001b[0m \u001b[0mensure_2d\u001b[0m\u001b[0;34m=\u001b[0m\u001b[0mFalse\u001b[0m\u001b[0;34m)\u001b[0m\u001b[0;34m\u001b[0m\u001b[0m\n\u001b[1;32m     76\u001b[0m     \u001b[0my_pred\u001b[0m \u001b[0;34m=\u001b[0m \u001b[0mcheck_array\u001b[0m\u001b[0;34m(\u001b[0m\u001b[0my_pred\u001b[0m\u001b[0;34m,\u001b[0m \u001b[0mensure_2d\u001b[0m\u001b[0;34m=\u001b[0m\u001b[0mFalse\u001b[0m\u001b[0;34m)\u001b[0m\u001b[0;34m\u001b[0m\u001b[0m\n",
      "\u001b[0;32m/home/manish/anaconda2/envs/package15/lib/python2.7/site-packages/sklearn/utils/validation.pyc\u001b[0m in \u001b[0;36mcheck_consistent_length\u001b[0;34m(*arrays)\u001b[0m\n\u001b[1;32m    179\u001b[0m     \u001b[0;32mif\u001b[0m \u001b[0mlen\u001b[0m\u001b[0;34m(\u001b[0m\u001b[0muniques\u001b[0m\u001b[0;34m)\u001b[0m \u001b[0;34m>\u001b[0m \u001b[0;36m1\u001b[0m\u001b[0;34m:\u001b[0m\u001b[0;34m\u001b[0m\u001b[0m\n\u001b[1;32m    180\u001b[0m         raise ValueError(\"Found input variables with inconsistent numbers of\"\n\u001b[0;32m--> 181\u001b[0;31m                          \" samples: %r\" % [int(l) for l in lengths])\n\u001b[0m\u001b[1;32m    182\u001b[0m \u001b[0;34m\u001b[0m\u001b[0m\n\u001b[1;32m    183\u001b[0m \u001b[0;34m\u001b[0m\u001b[0m\n",
      "\u001b[0;31mValueError\u001b[0m: Found input variables with inconsistent numbers of samples: [223394, 227056]"
     ]
    }
   ],
   "source": [
    "print np.sqrt(mean_squared_error(valid_X['Price'], dtpred))"
   ]
  },
  {
   "cell_type": "markdown",
   "metadata": {},
   "source": [
    "### create submission"
   ]
  },
  {
   "cell_type": "code",
   "execution_count": 273,
   "metadata": {
    "collapsed": true
   },
   "outputs": [],
   "source": [
    "subpy1 = pd.DataFrame({'ID':test.ID, 'Price':dtpred, 'Number_Of_Sales':dtpred2})\n",
    "subpy1.to_csv('subpy1.csv', index=False)"
   ]
  },
  {
   "cell_type": "code",
   "execution_count": 278,
   "metadata": {
    "collapsed": false
   },
   "outputs": [
    {
     "data": {
      "text/plain": [
       "['30413_20160701',\n",
       " '30413_20160702',\n",
       " '30413_20160703',\n",
       " '30413_20160704',\n",
       " '30413_20160705',\n",
       " '30413_20160706',\n",
       " '30413_20160707',\n",
       " '30413_20160708',\n",
       " '30413_20160709',\n",
       " '30413_20160710',\n",
       " '30413_20160711',\n",
       " '30413_20160712',\n",
       " '30413_20160713',\n",
       " '30413_20160714',\n",
       " '30413_20160715',\n",
       " '30413_20160716',\n",
       " '30413_20160717',\n",
       " '30413_20160718',\n",
       " '30413_20160719',\n",
       " '30413_20160720',\n",
       " '30413_20160721',\n",
       " '30413_20160722',\n",
       " '30413_20160723',\n",
       " '30413_20160724',\n",
       " '30413_20160725',\n",
       " '30413_20160726',\n",
       " '30413_20160727',\n",
       " '30413_20160728',\n",
       " '30413_20160729',\n",
       " '30413_20160730',\n",
       " '30413_20160731',\n",
       " '30413_20160801',\n",
       " '30413_20160802',\n",
       " '30413_20160803',\n",
       " '30413_20160804',\n",
       " '30413_20160805',\n",
       " '30413_20160806',\n",
       " '30413_20160807',\n",
       " '30413_20160808',\n",
       " '30413_20160809',\n",
       " '30413_20160810',\n",
       " '30413_20160811',\n",
       " '30413_20160812',\n",
       " '30413_20160813',\n",
       " '30413_20160814',\n",
       " '30413_20160815',\n",
       " '30413_20160816',\n",
       " '30413_20160817',\n",
       " '30413_20160818',\n",
       " '30413_20160819',\n",
       " '30413_20160820',\n",
       " '30413_20160821',\n",
       " '30413_20160822',\n",
       " '30413_20160823',\n",
       " '30413_20160824',\n",
       " '30413_20160825',\n",
       " '30413_20160826',\n",
       " '30413_20160827',\n",
       " '30413_20160828',\n",
       " '30413_20160829',\n",
       " '30413_20160830',\n",
       " '30413_20160831',\n",
       " '30413_20160901',\n",
       " '30413_20160902',\n",
       " '30413_20160903',\n",
       " '30413_20160904',\n",
       " '30413_20160905',\n",
       " '30413_20160906',\n",
       " '30413_20160907',\n",
       " '30413_20160908',\n",
       " '30413_20160909',\n",
       " '30413_20160910',\n",
       " '30413_20160911',\n",
       " '30413_20160912',\n",
       " '30413_20160913',\n",
       " '30413_20160914',\n",
       " '30413_20160915',\n",
       " '30413_20160916',\n",
       " '30413_20160917',\n",
       " '30413_20160918',\n",
       " '30413_20160919',\n",
       " '30413_20160920',\n",
       " '30413_20160921',\n",
       " '30413_20160922',\n",
       " '30413_20160923',\n",
       " '30413_20160924',\n",
       " '30413_20160925',\n",
       " '30413_20160926',\n",
       " '30413_20160927',\n",
       " '30413_20160928',\n",
       " '30413_20160929',\n",
       " '30413_20160930',\n",
       " '30413_20161001',\n",
       " '30413_20161002',\n",
       " '30413_20161003',\n",
       " '30413_20161004',\n",
       " '30413_20161005',\n",
       " '30413_20161006',\n",
       " '30413_20161007',\n",
       " '30413_20161008',\n",
       " '30413_20161009',\n",
       " '30413_20161010',\n",
       " '30413_20161011',\n",
       " '30413_20161012',\n",
       " '30413_20161013',\n",
       " '30413_20161014',\n",
       " '30413_20161015',\n",
       " '30413_20161016',\n",
       " '30413_20161017',\n",
       " '30413_20161018',\n",
       " '30413_20161019',\n",
       " '30413_20161020',\n",
       " '30413_20161021',\n",
       " '30413_20161022',\n",
       " '30413_20161023',\n",
       " '30413_20161024',\n",
       " '30413_20161025',\n",
       " '30413_20161026',\n",
       " '30413_20161027',\n",
       " '30413_20161028',\n",
       " '30413_20161029',\n",
       " '30413_20161030',\n",
       " '30413_20161031',\n",
       " '30413_20161101',\n",
       " '30413_20161102',\n",
       " '30413_20161103',\n",
       " '30413_20161104',\n",
       " '30413_20161105',\n",
       " '30413_20161106',\n",
       " '30413_20161107',\n",
       " '30413_20161108',\n",
       " '30413_20161109',\n",
       " '30413_20161110',\n",
       " '30413_20161111',\n",
       " '30413_20161112',\n",
       " '30413_20161113',\n",
       " '30413_20161114',\n",
       " '30413_20161115',\n",
       " '30413_20161116',\n",
       " '30413_20161117',\n",
       " '30413_20161118',\n",
       " '30413_20161119',\n",
       " '30413_20161120',\n",
       " '30413_20161121',\n",
       " '30413_20161122',\n",
       " '30413_20161123',\n",
       " '30413_20161124',\n",
       " '30413_20161125',\n",
       " '30413_20161126',\n",
       " '30413_20161127',\n",
       " '30413_20161128',\n",
       " '30413_20161129',\n",
       " '30413_20161130',\n",
       " '30413_20161201',\n",
       " '30413_20161202',\n",
       " '30413_20161203',\n",
       " '30413_20161204',\n",
       " '30413_20161205',\n",
       " '30413_20161206',\n",
       " '30413_20161207',\n",
       " '30413_20161208',\n",
       " '30413_20161209',\n",
       " '30413_20161210',\n",
       " '30413_20161211',\n",
       " '30413_20161212',\n",
       " '30413_20161213',\n",
       " '30413_20161214',\n",
       " '30413_20161215',\n",
       " '30413_20161216',\n",
       " '30413_20161217',\n",
       " '30413_20161218',\n",
       " '30413_20161219',\n",
       " '30413_20161220',\n",
       " '30413_20161221',\n",
       " '30413_20161222',\n",
       " '30413_20161223',\n",
       " '30413_20161224',\n",
       " '30413_20161225',\n",
       " '30413_20161226',\n",
       " '30413_20161227',\n",
       " '30413_20161228',\n",
       " '30413_20161229',\n",
       " '30413_20161230',\n",
       " '30413_20161231',\n",
       " '31283_20160701',\n",
       " '31283_20160702',\n",
       " '31283_20160703',\n",
       " '31283_20160704',\n",
       " '31283_20160705',\n",
       " '31283_20160706',\n",
       " '31283_20160707',\n",
       " '31283_20160708',\n",
       " '31283_20160709',\n",
       " '31283_20160710',\n",
       " '31283_20160711',\n",
       " '31283_20160712',\n",
       " '31283_20160713',\n",
       " '31283_20160714',\n",
       " '31283_20160715',\n",
       " '31283_20160716',\n",
       " '31283_20160717',\n",
       " '31283_20160718',\n",
       " '31283_20160719',\n",
       " '31283_20160720',\n",
       " '31283_20160721',\n",
       " '31283_20160722',\n",
       " '31283_20160723',\n",
       " '31283_20160724',\n",
       " '31283_20160725',\n",
       " '31283_20160726',\n",
       " '31283_20160727',\n",
       " '31283_20160728',\n",
       " '31283_20160729',\n",
       " '31283_20160730',\n",
       " '31283_20160731',\n",
       " '31283_20160801',\n",
       " '31283_20160802',\n",
       " '31283_20160803',\n",
       " '31283_20160804',\n",
       " '31283_20160805',\n",
       " '31283_20160806',\n",
       " '31283_20160807',\n",
       " '31283_20160808',\n",
       " '31283_20160809',\n",
       " '31283_20160810',\n",
       " '31283_20160811',\n",
       " '31283_20160812',\n",
       " '31283_20160813',\n",
       " '31283_20160814',\n",
       " '31283_20160815',\n",
       " '31283_20160816',\n",
       " '31283_20160817',\n",
       " '31283_20160818',\n",
       " '31283_20160819',\n",
       " '31283_20160820',\n",
       " '31283_20160821',\n",
       " '31283_20160822',\n",
       " '31283_20160823',\n",
       " '31283_20160824',\n",
       " '31283_20160825',\n",
       " '31283_20160826',\n",
       " '31283_20160827',\n",
       " '31283_20160828',\n",
       " '31283_20160829',\n",
       " '31283_20160830',\n",
       " '31283_20160831',\n",
       " '31283_20160901',\n",
       " '31283_20160902',\n",
       " '31283_20160903',\n",
       " '31283_20160904',\n",
       " '31283_20160905',\n",
       " '31283_20160906',\n",
       " '31283_20160907',\n",
       " '31283_20160908',\n",
       " '31283_20160909',\n",
       " '31283_20160910',\n",
       " '31283_20160911',\n",
       " '31283_20160912',\n",
       " '31283_20160913',\n",
       " '31283_20160914',\n",
       " '31283_20160915',\n",
       " '31283_20160916',\n",
       " '31283_20160917',\n",
       " '31283_20160918',\n",
       " '31283_20160919',\n",
       " '31283_20160920',\n",
       " '31283_20160921',\n",
       " '31283_20160922',\n",
       " '31283_20160923',\n",
       " '31283_20160924',\n",
       " '31283_20160925',\n",
       " '31283_20160926',\n",
       " '31283_20160927',\n",
       " '31283_20160928',\n",
       " '31283_20160929',\n",
       " '31283_20160930',\n",
       " '31283_20161001',\n",
       " '31283_20161002',\n",
       " '31283_20161003',\n",
       " '31283_20161004',\n",
       " '31283_20161005',\n",
       " '31283_20161006',\n",
       " '31283_20161007',\n",
       " '31283_20161008',\n",
       " '31283_20161009',\n",
       " '31283_20161010',\n",
       " '31283_20161011',\n",
       " '31283_20161012',\n",
       " '31283_20161013',\n",
       " '31283_20161014',\n",
       " '31283_20161015',\n",
       " '31283_20161016',\n",
       " '31283_20161017',\n",
       " '31283_20161018',\n",
       " '31283_20161019',\n",
       " '31283_20161020',\n",
       " '31283_20161021',\n",
       " '31283_20161022',\n",
       " '31283_20161023',\n",
       " '31283_20161024',\n",
       " '31283_20161025',\n",
       " '31283_20161026',\n",
       " '31283_20161027',\n",
       " '31283_20161028',\n",
       " '31283_20161029',\n",
       " '31283_20161030',\n",
       " '31283_20161031',\n",
       " '31283_20161101',\n",
       " '31283_20161102',\n",
       " '31283_20161103',\n",
       " '31283_20161104',\n",
       " '31283_20161105',\n",
       " '31283_20161106',\n",
       " '31283_20161107',\n",
       " '31283_20161108',\n",
       " '31283_20161109',\n",
       " '31283_20161110',\n",
       " '31283_20161111',\n",
       " '31283_20161112',\n",
       " '31283_20161113',\n",
       " '31283_20161114',\n",
       " '31283_20161115',\n",
       " '31283_20161116',\n",
       " '31283_20161117',\n",
       " '31283_20161118',\n",
       " '31283_20161119',\n",
       " '31283_20161120',\n",
       " '31283_20161121',\n",
       " '31283_20161122',\n",
       " '31283_20161123',\n",
       " '31283_20161124',\n",
       " '31283_20161125',\n",
       " '31283_20161126',\n",
       " '31283_20161127',\n",
       " '31283_20161128',\n",
       " '31283_20161129',\n",
       " '31283_20161130',\n",
       " '31283_20161201',\n",
       " '31283_20161202',\n",
       " '31283_20161203',\n",
       " '31283_20161204',\n",
       " '31283_20161205',\n",
       " '31283_20161206',\n",
       " '31283_20161207',\n",
       " '31283_20161208',\n",
       " '31283_20161209',\n",
       " '31283_20161210',\n",
       " '31283_20161211',\n",
       " '31283_20161212',\n",
       " '31283_20161213',\n",
       " '31283_20161214',\n",
       " '31283_20161215',\n",
       " '31283_20161216',\n",
       " '31283_20161217',\n",
       " '31283_20161218',\n",
       " '31283_20161219',\n",
       " '31283_20161220',\n",
       " '31283_20161221',\n",
       " '31283_20161222',\n",
       " '31283_20161223',\n",
       " '31283_20161224',\n",
       " '31283_20161225',\n",
       " '31283_20161226',\n",
       " '31283_20161227',\n",
       " '31283_20161228',\n",
       " '31283_20161229',\n",
       " '31283_20161230',\n",
       " '31283_20161231',\n",
       " '29731_20160701',\n",
       " '29731_20160702',\n",
       " '29731_20160703',\n",
       " '29731_20160704',\n",
       " '29731_20160705',\n",
       " '29731_20160706',\n",
       " '29731_20160707',\n",
       " '29731_20160708',\n",
       " '29731_20160709',\n",
       " '29731_20160710',\n",
       " '29731_20160711',\n",
       " '29731_20160712',\n",
       " '29731_20160713',\n",
       " '29731_20160714',\n",
       " '29731_20160715',\n",
       " '29731_20160716',\n",
       " '29731_20160717',\n",
       " '29731_20160718',\n",
       " '29731_20160719',\n",
       " '29731_20160720',\n",
       " '29731_20160721',\n",
       " '29731_20160722',\n",
       " '29731_20160723',\n",
       " '29731_20160724',\n",
       " '29731_20160725',\n",
       " '29731_20160726',\n",
       " '29731_20160727',\n",
       " '29731_20160728',\n",
       " '29731_20160729',\n",
       " '29731_20160730',\n",
       " '29731_20160731',\n",
       " '29731_20160801',\n",
       " '29731_20160802',\n",
       " '29731_20160803',\n",
       " '29731_20160804',\n",
       " '29731_20160805',\n",
       " '29731_20160806',\n",
       " '29731_20160807',\n",
       " '29731_20160808',\n",
       " '29731_20160809',\n",
       " '29731_20160810',\n",
       " '29731_20160811',\n",
       " '29731_20160812',\n",
       " '29731_20160813',\n",
       " '29731_20160814',\n",
       " '29731_20160815',\n",
       " '29731_20160816',\n",
       " '29731_20160817',\n",
       " '29731_20160818',\n",
       " '29731_20160819',\n",
       " '29731_20160820',\n",
       " '29731_20160821',\n",
       " '29731_20160822',\n",
       " '29731_20160823',\n",
       " '29731_20160824',\n",
       " '29731_20160825',\n",
       " '29731_20160826',\n",
       " '29731_20160827',\n",
       " '29731_20160828',\n",
       " '29731_20160829',\n",
       " '29731_20160830',\n",
       " '29731_20160831',\n",
       " '29731_20160901',\n",
       " '29731_20160902',\n",
       " '29731_20160903',\n",
       " '29731_20160904',\n",
       " '29731_20160905',\n",
       " '29731_20160906',\n",
       " '29731_20160907',\n",
       " '29731_20160908',\n",
       " '29731_20160909',\n",
       " '29731_20160910',\n",
       " '29731_20160911',\n",
       " '29731_20160912',\n",
       " '29731_20160913',\n",
       " '29731_20160914',\n",
       " '29731_20160915',\n",
       " '29731_20160916',\n",
       " '29731_20160917',\n",
       " '29731_20160918',\n",
       " '29731_20160919',\n",
       " '29731_20160920',\n",
       " '29731_20160921',\n",
       " '29731_20160922',\n",
       " '29731_20160923',\n",
       " '29731_20160924',\n",
       " '29731_20160925',\n",
       " '29731_20160926',\n",
       " '29731_20160927',\n",
       " '29731_20160928',\n",
       " '29731_20160929',\n",
       " '29731_20160930',\n",
       " '29731_20161001',\n",
       " '29731_20161002',\n",
       " '29731_20161003',\n",
       " '29731_20161004',\n",
       " '29731_20161005',\n",
       " '29731_20161006',\n",
       " '29731_20161007',\n",
       " '29731_20161008',\n",
       " '29731_20161009',\n",
       " '29731_20161010',\n",
       " '29731_20161011',\n",
       " '29731_20161012',\n",
       " '29731_20161013',\n",
       " '29731_20161014',\n",
       " '29731_20161015',\n",
       " '29731_20161016',\n",
       " '29731_20161017',\n",
       " '29731_20161018',\n",
       " '29731_20161019',\n",
       " '29731_20161020',\n",
       " '29731_20161021',\n",
       " '29731_20161022',\n",
       " '29731_20161023',\n",
       " '29731_20161024',\n",
       " '29731_20161025',\n",
       " '29731_20161026',\n",
       " '29731_20161027',\n",
       " '29731_20161028',\n",
       " '29731_20161029',\n",
       " '29731_20161030',\n",
       " '29731_20161031',\n",
       " '29731_20161101',\n",
       " '29731_20161102',\n",
       " '29731_20161103',\n",
       " '29731_20161104',\n",
       " '29731_20161105',\n",
       " '29731_20161106',\n",
       " '29731_20161107',\n",
       " '29731_20161108',\n",
       " '29731_20161109',\n",
       " '29731_20161110',\n",
       " '29731_20161111',\n",
       " '29731_20161112',\n",
       " '29731_20161113',\n",
       " '29731_20161114',\n",
       " '29731_20161115',\n",
       " '29731_20161116',\n",
       " '29731_20161117',\n",
       " '29731_20161118',\n",
       " '29731_20161119',\n",
       " '29731_20161120',\n",
       " '29731_20161121',\n",
       " '29731_20161122',\n",
       " '29731_20161123',\n",
       " '29731_20161124',\n",
       " '29731_20161125',\n",
       " '29731_20161126',\n",
       " '29731_20161127',\n",
       " '29731_20161128',\n",
       " '29731_20161129',\n",
       " '29731_20161130',\n",
       " '29731_20161201',\n",
       " '29731_20161202',\n",
       " '29731_20161203',\n",
       " '29731_20161204',\n",
       " '29731_20161205',\n",
       " '29731_20161206',\n",
       " '29731_20161207',\n",
       " '29731_20161208',\n",
       " '29731_20161209',\n",
       " '29731_20161210',\n",
       " '29731_20161211',\n",
       " '29731_20161212',\n",
       " '29731_20161213',\n",
       " '29731_20161214',\n",
       " '29731_20161215',\n",
       " '29731_20161216',\n",
       " '29731_20161217',\n",
       " '29731_20161218',\n",
       " '29731_20161219',\n",
       " '29731_20161220',\n",
       " '29731_20161221',\n",
       " '29731_20161222',\n",
       " '29731_20161223',\n",
       " '29731_20161224',\n",
       " '29731_20161225',\n",
       " '29731_20161226',\n",
       " '29731_20161227',\n",
       " '29731_20161228',\n",
       " '29731_20161229',\n",
       " '29731_20161230',\n",
       " '29731_20161231',\n",
       " '30078_20160701',\n",
       " '30078_20160702',\n",
       " '30078_20160703',\n",
       " '30078_20160704',\n",
       " '30078_20160705',\n",
       " '30078_20160706',\n",
       " '30078_20160707',\n",
       " '30078_20160708',\n",
       " '30078_20160709',\n",
       " '30078_20160710',\n",
       " '30078_20160711',\n",
       " '30078_20160712',\n",
       " '30078_20160713',\n",
       " '30078_20160714',\n",
       " '30078_20160715',\n",
       " '30078_20160716',\n",
       " '30078_20160717',\n",
       " '30078_20160718',\n",
       " '30078_20160719',\n",
       " '30078_20160720',\n",
       " '30078_20160721',\n",
       " '30078_20160722',\n",
       " '30078_20160723',\n",
       " '30078_20160724',\n",
       " '30078_20160725',\n",
       " '30078_20160726',\n",
       " '30078_20160727',\n",
       " '30078_20160728',\n",
       " '30078_20160729',\n",
       " '30078_20160730',\n",
       " '30078_20160731',\n",
       " '30078_20160801',\n",
       " '30078_20160802',\n",
       " '30078_20160803',\n",
       " '30078_20160804',\n",
       " '30078_20160805',\n",
       " '30078_20160806',\n",
       " '30078_20160807',\n",
       " '30078_20160808',\n",
       " '30078_20160809',\n",
       " '30078_20160810',\n",
       " '30078_20160811',\n",
       " '30078_20160812',\n",
       " '30078_20160813',\n",
       " '30078_20160814',\n",
       " '30078_20160815',\n",
       " '30078_20160816',\n",
       " '30078_20160817',\n",
       " '30078_20160818',\n",
       " '30078_20160819',\n",
       " '30078_20160820',\n",
       " '30078_20160821',\n",
       " '30078_20160822',\n",
       " '30078_20160823',\n",
       " '30078_20160824',\n",
       " '30078_20160825',\n",
       " '30078_20160826',\n",
       " '30078_20160827',\n",
       " '30078_20160828',\n",
       " '30078_20160829',\n",
       " '30078_20160830',\n",
       " '30078_20160831',\n",
       " '30078_20160901',\n",
       " '30078_20160902',\n",
       " '30078_20160903',\n",
       " '30078_20160904',\n",
       " '30078_20160905',\n",
       " '30078_20160906',\n",
       " '30078_20160907',\n",
       " '30078_20160908',\n",
       " '30078_20160909',\n",
       " '30078_20160910',\n",
       " '30078_20160911',\n",
       " '30078_20160912',\n",
       " '30078_20160913',\n",
       " '30078_20160914',\n",
       " '30078_20160915',\n",
       " '30078_20160916',\n",
       " '30078_20160917',\n",
       " '30078_20160918',\n",
       " '30078_20160919',\n",
       " '30078_20160920',\n",
       " '30078_20160921',\n",
       " '30078_20160922',\n",
       " '30078_20160923',\n",
       " '30078_20160924',\n",
       " '30078_20160925',\n",
       " '30078_20160926',\n",
       " '30078_20160927',\n",
       " '30078_20160928',\n",
       " '30078_20160929',\n",
       " '30078_20160930',\n",
       " '30078_20161001',\n",
       " '30078_20161002',\n",
       " '30078_20161003',\n",
       " '30078_20161004',\n",
       " '30078_20161005',\n",
       " '30078_20161006',\n",
       " '30078_20161007',\n",
       " '30078_20161008',\n",
       " '30078_20161009',\n",
       " '30078_20161010',\n",
       " '30078_20161011',\n",
       " '30078_20161012',\n",
       " '30078_20161013',\n",
       " '30078_20161014',\n",
       " '30078_20161015',\n",
       " '30078_20161016',\n",
       " '30078_20161017',\n",
       " '30078_20161018',\n",
       " '30078_20161019',\n",
       " '30078_20161020',\n",
       " '30078_20161021',\n",
       " '30078_20161022',\n",
       " '30078_20161023',\n",
       " '30078_20161024',\n",
       " '30078_20161025',\n",
       " '30078_20161026',\n",
       " '30078_20161027',\n",
       " '30078_20161028',\n",
       " '30078_20161029',\n",
       " '30078_20161030',\n",
       " '30078_20161031',\n",
       " '30078_20161101',\n",
       " '30078_20161102',\n",
       " '30078_20161103',\n",
       " '30078_20161104',\n",
       " '30078_20161105',\n",
       " '30078_20161106',\n",
       " '30078_20161107',\n",
       " '30078_20161108',\n",
       " '30078_20161109',\n",
       " '30078_20161110',\n",
       " '30078_20161111',\n",
       " '30078_20161112',\n",
       " '30078_20161113',\n",
       " '30078_20161114',\n",
       " '30078_20161115',\n",
       " '30078_20161116',\n",
       " '30078_20161117',\n",
       " '30078_20161118',\n",
       " '30078_20161119',\n",
       " '30078_20161120',\n",
       " '30078_20161121',\n",
       " '30078_20161122',\n",
       " '30078_20161123',\n",
       " '30078_20161124',\n",
       " '30078_20161125',\n",
       " '30078_20161126',\n",
       " '30078_20161127',\n",
       " '30078_20161128',\n",
       " '30078_20161129',\n",
       " '30078_20161130',\n",
       " '30078_20161201',\n",
       " '30078_20161202',\n",
       " '30078_20161203',\n",
       " '30078_20161204',\n",
       " '30078_20161205',\n",
       " '30078_20161206',\n",
       " '30078_20161207',\n",
       " '30078_20161208',\n",
       " '30078_20161209',\n",
       " '30078_20161210',\n",
       " '30078_20161211',\n",
       " '30078_20161212',\n",
       " '30078_20161213',\n",
       " '30078_20161214',\n",
       " '30078_20161215',\n",
       " '30078_20161216',\n",
       " '30078_20161217',\n",
       " '30078_20161218',\n",
       " '30078_20161219',\n",
       " '30078_20161220',\n",
       " '30078_20161221',\n",
       " '30078_20161222',\n",
       " '30078_20161223',\n",
       " '30078_20161224',\n",
       " '30078_20161225',\n",
       " '30078_20161226',\n",
       " '30078_20161227',\n",
       " '30078_20161228',\n",
       " '30078_20161229',\n",
       " '30078_20161230',\n",
       " '30078_20161231',\n",
       " '30011_20160701',\n",
       " '30011_20160702',\n",
       " '30011_20160703',\n",
       " '30011_20160704',\n",
       " '30011_20160705',\n",
       " '30011_20160706',\n",
       " '30011_20160707',\n",
       " '30011_20160708',\n",
       " '30011_20160709',\n",
       " '30011_20160710',\n",
       " '30011_20160711',\n",
       " '30011_20160712',\n",
       " '30011_20160713',\n",
       " '30011_20160714',\n",
       " '30011_20160715',\n",
       " '30011_20160716',\n",
       " '30011_20160717',\n",
       " '30011_20160718',\n",
       " '30011_20160719',\n",
       " '30011_20160720',\n",
       " '30011_20160721',\n",
       " '30011_20160722',\n",
       " '30011_20160723',\n",
       " '30011_20160724',\n",
       " '30011_20160725',\n",
       " '30011_20160726',\n",
       " '30011_20160727',\n",
       " '30011_20160728',\n",
       " '30011_20160729',\n",
       " '30011_20160730',\n",
       " '30011_20160731',\n",
       " '30011_20160801',\n",
       " '30011_20160802',\n",
       " '30011_20160803',\n",
       " '30011_20160804',\n",
       " '30011_20160805',\n",
       " '30011_20160806',\n",
       " '30011_20160807',\n",
       " '30011_20160808',\n",
       " '30011_20160809',\n",
       " '30011_20160810',\n",
       " '30011_20160811',\n",
       " '30011_20160812',\n",
       " '30011_20160813',\n",
       " '30011_20160814',\n",
       " '30011_20160815',\n",
       " '30011_20160816',\n",
       " '30011_20160817',\n",
       " '30011_20160818',\n",
       " '30011_20160819',\n",
       " '30011_20160820',\n",
       " '30011_20160821',\n",
       " '30011_20160822',\n",
       " '30011_20160823',\n",
       " '30011_20160824',\n",
       " '30011_20160825',\n",
       " '30011_20160826',\n",
       " '30011_20160827',\n",
       " '30011_20160828',\n",
       " '30011_20160829',\n",
       " '30011_20160830',\n",
       " '30011_20160831',\n",
       " '30011_20160901',\n",
       " '30011_20160902',\n",
       " '30011_20160903',\n",
       " '30011_20160904',\n",
       " '30011_20160905',\n",
       " '30011_20160906',\n",
       " '30011_20160907',\n",
       " '30011_20160908',\n",
       " '30011_20160909',\n",
       " '30011_20160910',\n",
       " '30011_20160911',\n",
       " '30011_20160912',\n",
       " '30011_20160913',\n",
       " '30011_20160914',\n",
       " '30011_20160915',\n",
       " '30011_20160916',\n",
       " '30011_20160917',\n",
       " '30011_20160918',\n",
       " '30011_20160919',\n",
       " '30011_20160920',\n",
       " '30011_20160921',\n",
       " '30011_20160922',\n",
       " '30011_20160923',\n",
       " '30011_20160924',\n",
       " '30011_20160925',\n",
       " '30011_20160926',\n",
       " '30011_20160927',\n",
       " '30011_20160928',\n",
       " '30011_20160929',\n",
       " '30011_20160930',\n",
       " '30011_20161001',\n",
       " '30011_20161002',\n",
       " '30011_20161003',\n",
       " '30011_20161004',\n",
       " '30011_20161005',\n",
       " '30011_20161006',\n",
       " '30011_20161007',\n",
       " '30011_20161008',\n",
       " '30011_20161009',\n",
       " '30011_20161010',\n",
       " '30011_20161011',\n",
       " '30011_20161012',\n",
       " '30011_20161013',\n",
       " '30011_20161014',\n",
       " '30011_20161015',\n",
       " '30011_20161016',\n",
       " '30011_20161017',\n",
       " '30011_20161018',\n",
       " '30011_20161019',\n",
       " '30011_20161020',\n",
       " '30011_20161021',\n",
       " '30011_20161022',\n",
       " '30011_20161023',\n",
       " '30011_20161024',\n",
       " '30011_20161025',\n",
       " '30011_20161026',\n",
       " '30011_20161027',\n",
       " '30011_20161028',\n",
       " '30011_20161029',\n",
       " '30011_20161030',\n",
       " '30011_20161031',\n",
       " '30011_20161101',\n",
       " '30011_20161102',\n",
       " '30011_20161103',\n",
       " '30011_20161104',\n",
       " '30011_20161105',\n",
       " '30011_20161106',\n",
       " '30011_20161107',\n",
       " '30011_20161108',\n",
       " '30011_20161109',\n",
       " '30011_20161110',\n",
       " '30011_20161111',\n",
       " '30011_20161112',\n",
       " '30011_20161113',\n",
       " '30011_20161114',\n",
       " '30011_20161115',\n",
       " '30011_20161116',\n",
       " '30011_20161117',\n",
       " '30011_20161118',\n",
       " '30011_20161119',\n",
       " '30011_20161120',\n",
       " '30011_20161121',\n",
       " '30011_20161122',\n",
       " '30011_20161123',\n",
       " '30011_20161124',\n",
       " '30011_20161125',\n",
       " '30011_20161126',\n",
       " '30011_20161127',\n",
       " '30011_20161128',\n",
       " '30011_20161129',\n",
       " '30011_20161130',\n",
       " '30011_20161201',\n",
       " '30011_20161202',\n",
       " '30011_20161203',\n",
       " '30011_20161204',\n",
       " '30011_20161205',\n",
       " '30011_20161206',\n",
       " '30011_20161207',\n",
       " '30011_20161208',\n",
       " '30011_20161209',\n",
       " '30011_20161210',\n",
       " '30011_20161211',\n",
       " '30011_20161212',\n",
       " '30011_20161213',\n",
       " '30011_20161214',\n",
       " '30011_20161215',\n",
       " '30011_20161216',\n",
       " '30011_20161217',\n",
       " '30011_20161218',\n",
       " '30011_20161219',\n",
       " '30011_20161220',\n",
       " '30011_20161221',\n",
       " '30011_20161222',\n",
       " '30011_20161223',\n",
       " '30011_20161224',\n",
       " '30011_20161225',\n",
       " '30011_20161226',\n",
       " '30011_20161227',\n",
       " '30011_20161228',\n",
       " '30011_20161229',\n",
       " '30011_20161230',\n",
       " '30011_20161231',\n",
       " '30705_20160701',\n",
       " '30705_20160702',\n",
       " '30705_20160703',\n",
       " '30705_20160704',\n",
       " '30705_20160705',\n",
       " '30705_20160706',\n",
       " '30705_20160707',\n",
       " '30705_20160708',\n",
       " '30705_20160709',\n",
       " '30705_20160710',\n",
       " '30705_20160711',\n",
       " '30705_20160712',\n",
       " '30705_20160713',\n",
       " '30705_20160714',\n",
       " '30705_20160715',\n",
       " '30705_20160716',\n",
       " '30705_20160717',\n",
       " '30705_20160718',\n",
       " '30705_20160719',\n",
       " '30705_20160720',\n",
       " '30705_20160721',\n",
       " '30705_20160722',\n",
       " '30705_20160723',\n",
       " '30705_20160724',\n",
       " '30705_20160725',\n",
       " '30705_20160726',\n",
       " '30705_20160727',\n",
       " '30705_20160728',\n",
       " '30705_20160729',\n",
       " '30705_20160730',\n",
       " '30705_20160731',\n",
       " '30705_20160801',\n",
       " '30705_20160802',\n",
       " '30705_20160803',\n",
       " '30705_20160804',\n",
       " '30705_20160805',\n",
       " '30705_20160806',\n",
       " '30705_20160807',\n",
       " '30705_20160808',\n",
       " '30705_20160809',\n",
       " '30705_20160810',\n",
       " '30705_20160811',\n",
       " '30705_20160812',\n",
       " '30705_20160813',\n",
       " '30705_20160814',\n",
       " '30705_20160815',\n",
       " '30705_20160816',\n",
       " '30705_20160817',\n",
       " '30705_20160818',\n",
       " '30705_20160819',\n",
       " '30705_20160820',\n",
       " '30705_20160821',\n",
       " '30705_20160822',\n",
       " '30705_20160823',\n",
       " '30705_20160824',\n",
       " '30705_20160825',\n",
       " '30705_20160826',\n",
       " '30705_20160827',\n",
       " '30705_20160828',\n",
       " '30705_20160829',\n",
       " '30705_20160830',\n",
       " '30705_20160831',\n",
       " '30705_20160901',\n",
       " '30705_20160902',\n",
       " '30705_20160903',\n",
       " '30705_20160904',\n",
       " '30705_20160905',\n",
       " '30705_20160906',\n",
       " '30705_20160907',\n",
       " '30705_20160908',\n",
       " '30705_20160909',\n",
       " '30705_20160910',\n",
       " '30705_20160911',\n",
       " '30705_20160912',\n",
       " '30705_20160913',\n",
       " '30705_20160914',\n",
       " '30705_20160915',\n",
       " '30705_20160916',\n",
       " '30705_20160917',\n",
       " '30705_20160918',\n",
       " ...]"
      ]
     },
     "execution_count": 278,
     "metadata": {},
     "output_type": "execute_result"
    }
   ],
   "source": [
    "[x for x in test['ID'] if x not in subpy1['ID']]"
   ]
  },
  {
   "cell_type": "code",
   "execution_count": 279,
   "metadata": {
    "collapsed": false
   },
   "outputs": [
    {
     "data": {
      "text/html": [
       "<div>\n",
       "<table border=\"1\" class=\"dataframe\">\n",
       "  <thead>\n",
       "    <tr style=\"text-align: right;\">\n",
       "      <th></th>\n",
       "      <th>ID</th>\n",
       "      <th>Number_Of_Sales</th>\n",
       "      <th>Price</th>\n",
       "    </tr>\n",
       "  </thead>\n",
       "  <tbody>\n",
       "    <tr>\n",
       "      <th>0</th>\n",
       "      <td>30413_20160701</td>\n",
       "      <td>2.697551</td>\n",
       "      <td>179.001187</td>\n",
       "    </tr>\n",
       "    <tr>\n",
       "      <th>1</th>\n",
       "      <td>30413_20160702</td>\n",
       "      <td>2.697551</td>\n",
       "      <td>179.001187</td>\n",
       "    </tr>\n",
       "    <tr>\n",
       "      <th>2</th>\n",
       "      <td>30413_20160703</td>\n",
       "      <td>2.697551</td>\n",
       "      <td>179.001187</td>\n",
       "    </tr>\n",
       "    <tr>\n",
       "      <th>3</th>\n",
       "      <td>30413_20160704</td>\n",
       "      <td>2.697551</td>\n",
       "      <td>179.001187</td>\n",
       "    </tr>\n",
       "    <tr>\n",
       "      <th>4</th>\n",
       "      <td>30413_20160705</td>\n",
       "      <td>2.697551</td>\n",
       "      <td>179.001187</td>\n",
       "    </tr>\n",
       "  </tbody>\n",
       "</table>\n",
       "</div>"
      ],
      "text/plain": [
       "               ID  Number_Of_Sales       Price\n",
       "0  30413_20160701         2.697551  179.001187\n",
       "1  30413_20160702         2.697551  179.001187\n",
       "2  30413_20160703         2.697551  179.001187\n",
       "3  30413_20160704         2.697551  179.001187\n",
       "4  30413_20160705         2.697551  179.001187"
      ]
     },
     "execution_count": 279,
     "metadata": {},
     "output_type": "execute_result"
    }
   ],
   "source": [
    "subpy1.head()"
   ]
  },
  {
   "cell_type": "code",
   "execution_count": 274,
   "metadata": {
    "collapsed": false
   },
   "outputs": [
    {
     "data": {
      "text/plain": [
       "(227056, 3)"
      ]
     },
     "execution_count": 274,
     "metadata": {},
     "output_type": "execute_result"
    }
   ],
   "source": [
    "subpy1.shape"
   ]
  },
  {
   "cell_type": "markdown",
   "metadata": {},
   "source": [
    "\n",
    "## GLMNET "
   ]
  },
  {
   "cell_type": "code",
   "execution_count": 213,
   "metadata": {
    "collapsed": true
   },
   "outputs": [],
   "source": [
    "from sklearn.linear_model import ElasticNetCV,ElasticNet"
   ]
  },
  {
   "cell_type": "code",
   "execution_count": null,
   "metadata": {
    "collapsed": true
   },
   "outputs": [],
   "source": []
  },
  {
   "cell_type": "code",
   "execution_count": null,
   "metadata": {
    "collapsed": true
   },
   "outputs": [],
   "source": []
  }
 ],
 "metadata": {
  "kernelspec": {
   "display_name": "Python 2",
   "language": "python",
   "name": "python2"
  },
  "language_info": {
   "codemirror_mode": {
    "name": "ipython",
    "version": 2
   },
   "file_extension": ".py",
   "mimetype": "text/x-python",
   "name": "python",
   "nbconvert_exporter": "python",
   "pygments_lexer": "ipython2",
   "version": "2.7.13"
  }
 },
 "nbformat": 4,
 "nbformat_minor": 2
}
