{
 "cells": [
  {
   "cell_type": "code",
   "execution_count": 1,
   "metadata": {
    "collapsed": true,
    "deletable": true,
    "editable": true
   },
   "outputs": [],
   "source": [
    "import numpy as np\n",
    "import pandas as pd"
   ]
  },
  {
   "cell_type": "code",
   "execution_count": 44,
   "metadata": {
    "collapsed": true,
    "deletable": true,
    "editable": true
   },
   "outputs": [],
   "source": [
    "train = pd.read_csv('train.csv',parse_dates=['Datetime'])\n",
    "test = pd.read_csv('test.csv',parse_dates=['Datetime'])"
   ]
  },
  {
   "cell_type": "code",
   "execution_count": 45,
   "metadata": {
    "collapsed": false,
    "deletable": true,
    "editable": true
   },
   "outputs": [
    {
     "name": "stdout",
     "output_type": "stream",
     "text": [
      "(881876, 8)\n",
      "(266248, 6)\n"
     ]
    }
   ],
   "source": [
    "print train.shape\n",
    "print test.shape"
   ]
  },
  {
   "cell_type": "code",
   "execution_count": 46,
   "metadata": {
    "collapsed": true,
    "deletable": true,
    "editable": true
   },
   "outputs": [],
   "source": [
    "item_count_train = train.Item_ID.value_counts().to_dict()\n",
    "item_count_test = test.Item_ID.value_counts().to_dict()\n",
    "\n",
    "train['item_count'] = train['Item_ID'].map(item_count_train)\n",
    "test['item_count'] = test['Item_ID'].map(item_count_test)\n",
    "\n",
    "train['dayofweek'] = train.Datetime.dt.dayofweek\n",
    "test['dayofweek'] = test.Datetime.dt.dayofweek\n",
    "\n",
    "train['weekyear'] = train.Datetime.dt.weekofyear\n",
    "test['weekyear'] = test.Datetime.dt.weekofyear\n",
    "\n",
    "train['dayofmonth'] = train.Datetime.dt.day\n",
    "test['dayofmonth'] = test.Datetime.dt.day\n",
    "\n",
    "#train['is_quarter_start'] = train.Datetime.dt.is_quarter_start\n",
    "#test['is_quarter_start'] = test.Datetime.dt.is_quarter_start\n",
    "\n",
    "#train['is_quarter_start'] = train.is_quarter_start.astype(int)\n",
    "#test['is_quarter_start'] = test.is_quarter_start.astype(int)\n",
    "\n",
    "train['month'] = train.Datetime.dt.month\n",
    "test['month'] = test.Datetime.dt.month"
   ]
  },
  {
   "cell_type": "code",
   "execution_count": 47,
   "metadata": {
    "collapsed": true,
    "deletable": true,
    "editable": true
   },
   "outputs": [],
   "source": [
    "train = train.loc[train['Number_Of_Sales'] <= 340000]"
   ]
  },
  {
   "cell_type": "code",
   "execution_count": 48,
   "metadata": {
    "collapsed": false,
    "deletable": true,
    "editable": true
   },
   "outputs": [],
   "source": [
    "med_price = train.groupby('Item_ID')['Price'].aggregate(np.median).reset_index()\n",
    "med_price.rename(columns={'Price':'medByID'},inplace=True)\n",
    "\n",
    "med_sales = train.groupby('Item_ID')['Number_Of_Sales'].aggregate(np.median).reset_index()\n",
    "med_sales.rename(columns={'Number_Of_Sales':'medBySales'},inplace=True)\n",
    "\n",
    "catone_med_price = train.groupby('Category_1')['Price'].aggregate(np.median).reset_index()\n",
    "catone_med_price.rename(columns={'Price':'medCatOnePrice'},inplace=True)\n",
    "\n",
    "catone_med_sales = train.groupby('Category_1')['Number_Of_Sales'].aggregate(np.median).reset_index()\n",
    "catone_med_sales.rename(columns={'Number_Of_Sales':'medCatOneSales'},inplace=True)\n",
    "\n",
    "cattwo_med_price = train.groupby('Category_2')['Price'].aggregate(np.median).reset_index()\n",
    "cattwo_med_price.rename(columns={'Price':'medCatTwoPrice'},inplace=True)\n",
    "\n",
    "cattwo_med_sales = train.groupby('Category_2')['Number_Of_Sales'].aggregate(np.median).reset_index()\n",
    "cattwo_med_sales.rename(columns={'Number_Of_Sales':'medCatTwoSales'},inplace=True)\n",
    "\n",
    "week_year_price = train.groupby(['Item_ID','weekyear'])['Price'].aggregate(np.median).reset_index()\n",
    "week_year_price.rename(columns={'Price':'weekYearIDPrice'},inplace=True)\n",
    "\n",
    "week_year_sales = train.groupby(['Item_ID','weekyear'])['Number_Of_Sales'].aggregate(np.median).reset_index()\n",
    "week_year_sales.rename(columns={'Number_Of_Sales':'weekYearIDSales'},inplace=True)\n"
   ]
  },
  {
   "cell_type": "code",
   "execution_count": 49,
   "metadata": {
    "collapsed": true,
    "deletable": true,
    "editable": true
   },
   "outputs": [],
   "source": [
    "train = pd.merge(train, med_price, on='Item_ID', how='left')\n",
    "train = pd.merge(train, med_sales, on='Item_ID', how='left')\n",
    "train = pd.merge(train, catone_med_price, on='Category_1', how='left')\n",
    "train = pd.merge(train, catone_med_sales, on='Category_1', how='left')\n",
    "train = pd.merge(train, cattwo_med_sales, on='Category_2', how='left')\n",
    "train = pd.merge(train, cattwo_med_price, on='Category_2', how='left')\n",
    "train = pd.merge(train, week_year_price, on=['Item_ID','weekyear'], how='left')\n",
    "train = pd.merge(train, week_year_sales, on=['Item_ID','weekyear'], how='left')\n",
    "\n",
    "\n",
    "test = pd.merge(test, med_price, on='Item_ID', how='left')\n",
    "test = pd.merge(test, med_sales, on='Item_ID', how='left')\n",
    "test = pd.merge(test, catone_med_price, on='Category_1', how='left')\n",
    "test = pd.merge(test, catone_med_sales, on='Category_1', how='left')\n",
    "test = pd.merge(test, cattwo_med_sales, on='Category_2', how='left')\n",
    "test = pd.merge(test, cattwo_med_price, on='Category_2', how='left')\n",
    "test = pd.merge(test, week_year_price, on=['Item_ID','weekyear'], how='left')\n",
    "test = pd.merge(test, week_year_sales, on=['Item_ID','weekyear'], how='left')\n"
   ]
  },
  {
   "cell_type": "code",
   "execution_count": 50,
   "metadata": {
    "collapsed": true,
    "deletable": true,
    "editable": true
   },
   "outputs": [],
   "source": [
    "train['volumebyCat1'] = train['Price'] * train ['Number_Of_Sales']\n",
    "volumne_by_cat1 = train.groupby('Category_1')['volumebyCat1'].aggregate(np.median).reset_index()\n",
    "train.drop('volumebyCat1', inplace=True, axis=1)\n",
    "\n",
    "train = pd.merge(train, volumne_by_cat1, on='Category_1', how='left')\n",
    "test = pd.merge(test, volumne_by_cat1, on='Category_1', how='left')"
   ]
  },
  {
   "cell_type": "code",
   "execution_count": 51,
   "metadata": {
    "collapsed": true,
    "deletable": true,
    "editable": true
   },
   "outputs": [],
   "source": [
    "train['volumebyCat2'] = train['Price'] * train['Number_Of_Sales']\n",
    "volumne_by_cat2 = train.groupby('Category_2')['volumebyCat2'].aggregate(np.median).reset_index()\n",
    "train.drop('volumebyCat2', inplace=True, axis=1)\n",
    "\n",
    "train = pd.merge(train, volumne_by_cat2, on='Category_2', how='left')\n",
    "test = pd.merge(test, volumne_by_cat2, on='Category_2', how='left')"
   ]
  },
  {
   "cell_type": "code",
   "execution_count": 52,
   "metadata": {
    "collapsed": true,
    "deletable": true,
    "editable": true
   },
   "outputs": [],
   "source": [
    "cols = ['medByID',\n",
    "'medBySales',\n",
    "'medCatOnePrice',\n",
    "'medCatOneSales',\n",
    "'medCatTwoSales',\n",
    "'medCatTwoPrice',\n",
    "'volumebyCat1',\n",
    "'volumebyCat2']\n",
    "\n",
    "for x in cols:\n",
    "    train[x] = np.log1p(train[x]+10)\n",
    "    \n",
    "for x in cols:\n",
    "    test[x] = np.log1p(test[x]+10)"
   ]
  },
  {
   "cell_type": "code",
   "execution_count": 53,
   "metadata": {
    "collapsed": false,
    "deletable": true,
    "editable": true
   },
   "outputs": [
    {
     "data": {
      "text/html": [
       "<div>\n",
       "<table border=\"1\" class=\"dataframe\">\n",
       "  <thead>\n",
       "    <tr style=\"text-align: right;\">\n",
       "      <th></th>\n",
       "      <th>Item_ID</th>\n",
       "      <th>Category_3</th>\n",
       "      <th>Category_2</th>\n",
       "      <th>Category_1</th>\n",
       "      <th>Price</th>\n",
       "      <th>Number_Of_Sales</th>\n",
       "      <th>item_count</th>\n",
       "      <th>dayofweek</th>\n",
       "      <th>weekyear</th>\n",
       "      <th>dayofmonth</th>\n",
       "      <th>...</th>\n",
       "      <th>medByID</th>\n",
       "      <th>medBySales</th>\n",
       "      <th>medCatOnePrice</th>\n",
       "      <th>medCatOneSales</th>\n",
       "      <th>medCatTwoSales</th>\n",
       "      <th>medCatTwoPrice</th>\n",
       "      <th>weekYearIDPrice</th>\n",
       "      <th>weekYearIDSales</th>\n",
       "      <th>volumebyCat1</th>\n",
       "      <th>volumebyCat2</th>\n",
       "    </tr>\n",
       "  </thead>\n",
       "  <tbody>\n",
       "    <tr>\n",
       "      <th>count</th>\n",
       "      <td>881871.000000</td>\n",
       "      <td>881871.000000</td>\n",
       "      <td>790263.000000</td>\n",
       "      <td>881871.000000</td>\n",
       "      <td>881871.000000</td>\n",
       "      <td>881871.000000</td>\n",
       "      <td>881871.000000</td>\n",
       "      <td>881871.000000</td>\n",
       "      <td>881871.000000</td>\n",
       "      <td>881871.000000</td>\n",
       "      <td>...</td>\n",
       "      <td>881871.000000</td>\n",
       "      <td>881871.000000</td>\n",
       "      <td>881871.000000</td>\n",
       "      <td>881871.000000</td>\n",
       "      <td>790263.000000</td>\n",
       "      <td>790263.000000</td>\n",
       "      <td>881871.000000</td>\n",
       "      <td>881871.000000</td>\n",
       "      <td>881871.000000</td>\n",
       "      <td>790263.000000</td>\n",
       "    </tr>\n",
       "    <tr>\n",
       "      <th>mean</th>\n",
       "      <td>30517.398601</td>\n",
       "      <td>0.162507</td>\n",
       "      <td>2.755723</td>\n",
       "      <td>186.924195</td>\n",
       "      <td>5.484042</td>\n",
       "      <td>1198.546469</td>\n",
       "      <td>718.042665</td>\n",
       "      <td>2.999887</td>\n",
       "      <td>24.916525</td>\n",
       "      <td>15.823224</td>\n",
       "      <td>...</td>\n",
       "      <td>2.592266</td>\n",
       "      <td>5.602685</td>\n",
       "      <td>2.546974</td>\n",
       "      <td>5.494873</td>\n",
       "      <td>5.617950</td>\n",
       "      <td>2.442185</td>\n",
       "      <td>5.230364</td>\n",
       "      <td>1137.014733</td>\n",
       "      <td>5.012322</td>\n",
       "      <td>4.829447</td>\n",
       "    </tr>\n",
       "    <tr>\n",
       "      <th>std</th>\n",
       "      <td>487.892350</td>\n",
       "      <td>0.368915</td>\n",
       "      <td>1.263769</td>\n",
       "      <td>130.754489</td>\n",
       "      <td>22.472658</td>\n",
       "      <td>7676.935304</td>\n",
       "      <td>217.564430</td>\n",
       "      <td>1.998496</td>\n",
       "      <td>15.072290</td>\n",
       "      <td>8.794396</td>\n",
       "      <td>...</td>\n",
       "      <td>0.426996</td>\n",
       "      <td>1.524918</td>\n",
       "      <td>0.327296</td>\n",
       "      <td>0.882989</td>\n",
       "      <td>0.391727</td>\n",
       "      <td>0.020775</td>\n",
       "      <td>21.084642</td>\n",
       "      <td>6777.511685</td>\n",
       "      <td>1.391746</td>\n",
       "      <td>0.650547</td>\n",
       "    </tr>\n",
       "    <tr>\n",
       "      <th>min</th>\n",
       "      <td>29654.000000</td>\n",
       "      <td>0.000000</td>\n",
       "      <td>1.000000</td>\n",
       "      <td>0.000000</td>\n",
       "      <td>0.030000</td>\n",
       "      <td>1.000000</td>\n",
       "      <td>5.000000</td>\n",
       "      <td>0.000000</td>\n",
       "      <td>1.000000</td>\n",
       "      <td>1.000000</td>\n",
       "      <td>...</td>\n",
       "      <td>2.400619</td>\n",
       "      <td>2.484907</td>\n",
       "      <td>2.400619</td>\n",
       "      <td>2.772589</td>\n",
       "      <td>5.141664</td>\n",
       "      <td>2.416360</td>\n",
       "      <td>0.030000</td>\n",
       "      <td>1.000000</td>\n",
       "      <td>2.678759</td>\n",
       "      <td>3.725934</td>\n",
       "    </tr>\n",
       "    <tr>\n",
       "      <th>25%</th>\n",
       "      <td>30107.000000</td>\n",
       "      <td>0.000000</td>\n",
       "      <td>2.000000</td>\n",
       "      <td>70.000000</td>\n",
       "      <td>0.125000</td>\n",
       "      <td>69.000000</td>\n",
       "      <td>597.000000</td>\n",
       "      <td>1.000000</td>\n",
       "      <td>12.000000</td>\n",
       "      <td>8.000000</td>\n",
       "      <td>...</td>\n",
       "      <td>2.409464</td>\n",
       "      <td>4.499810</td>\n",
       "      <td>2.409464</td>\n",
       "      <td>5.068904</td>\n",
       "      <td>5.209486</td>\n",
       "      <td>2.419479</td>\n",
       "      <td>0.136000</td>\n",
       "      <td>78.000000</td>\n",
       "      <td>3.851891</td>\n",
       "      <td>3.792338</td>\n",
       "    </tr>\n",
       "    <tr>\n",
       "      <th>50%</th>\n",
       "      <td>30518.000000</td>\n",
       "      <td>0.000000</td>\n",
       "      <td>3.000000</td>\n",
       "      <td>176.000000</td>\n",
       "      <td>0.513000</td>\n",
       "      <td>239.000000</td>\n",
       "      <td>790.000000</td>\n",
       "      <td>3.000000</td>\n",
       "      <td>23.000000</td>\n",
       "      <td>16.000000</td>\n",
       "      <td>...</td>\n",
       "      <td>2.440781</td>\n",
       "      <td>5.590987</td>\n",
       "      <td>2.441303</td>\n",
       "      <td>5.513429</td>\n",
       "      <td>5.852202</td>\n",
       "      <td>2.431330</td>\n",
       "      <td>0.501000</td>\n",
       "      <td>260.000000</td>\n",
       "      <td>4.991996</td>\n",
       "      <td>5.111867</td>\n",
       "    </tr>\n",
       "    <tr>\n",
       "      <th>75%</th>\n",
       "      <td>30929.000000</td>\n",
       "      <td>0.000000</td>\n",
       "      <td>4.000000</td>\n",
       "      <td>307.000000</td>\n",
       "      <td>2.070000</td>\n",
       "      <td>746.000000</td>\n",
       "      <td>912.000000</td>\n",
       "      <td>5.000000</td>\n",
       "      <td>38.000000</td>\n",
       "      <td>23.000000</td>\n",
       "      <td>...</td>\n",
       "      <td>2.563256</td>\n",
       "      <td>6.680855</td>\n",
       "      <td>2.497082</td>\n",
       "      <td>6.079933</td>\n",
       "      <td>6.061457</td>\n",
       "      <td>2.456507</td>\n",
       "      <td>2.065500</td>\n",
       "      <td>771.000000</td>\n",
       "      <td>5.813270</td>\n",
       "      <td>5.235931</td>\n",
       "    </tr>\n",
       "    <tr>\n",
       "      <th>max</th>\n",
       "      <td>31375.000000</td>\n",
       "      <td>1.000000</td>\n",
       "      <td>5.000000</td>\n",
       "      <td>413.000000</td>\n",
       "      <td>424.148000</td>\n",
       "      <td>335952.000000</td>\n",
       "      <td>912.000000</td>\n",
       "      <td>6.000000</td>\n",
       "      <td>53.000000</td>\n",
       "      <td>31.000000</td>\n",
       "      <td>...</td>\n",
       "      <td>5.729190</td>\n",
       "      <td>12.340949</td>\n",
       "      <td>5.155318</td>\n",
       "      <td>8.326759</td>\n",
       "      <td>6.061457</td>\n",
       "      <td>2.474520</td>\n",
       "      <td>399.507000</td>\n",
       "      <td>292848.000000</td>\n",
       "      <td>9.132314</td>\n",
       "      <td>5.363531</td>\n",
       "    </tr>\n",
       "  </tbody>\n",
       "</table>\n",
       "<p>8 rows × 21 columns</p>\n",
       "</div>"
      ],
      "text/plain": [
       "             Item_ID     Category_3     Category_2     Category_1  \\\n",
       "count  881871.000000  881871.000000  790263.000000  881871.000000   \n",
       "mean    30517.398601       0.162507       2.755723     186.924195   \n",
       "std       487.892350       0.368915       1.263769     130.754489   \n",
       "min     29654.000000       0.000000       1.000000       0.000000   \n",
       "25%     30107.000000       0.000000       2.000000      70.000000   \n",
       "50%     30518.000000       0.000000       3.000000     176.000000   \n",
       "75%     30929.000000       0.000000       4.000000     307.000000   \n",
       "max     31375.000000       1.000000       5.000000     413.000000   \n",
       "\n",
       "               Price  Number_Of_Sales     item_count      dayofweek  \\\n",
       "count  881871.000000    881871.000000  881871.000000  881871.000000   \n",
       "mean        5.484042      1198.546469     718.042665       2.999887   \n",
       "std        22.472658      7676.935304     217.564430       1.998496   \n",
       "min         0.030000         1.000000       5.000000       0.000000   \n",
       "25%         0.125000        69.000000     597.000000       1.000000   \n",
       "50%         0.513000       239.000000     790.000000       3.000000   \n",
       "75%         2.070000       746.000000     912.000000       5.000000   \n",
       "max       424.148000    335952.000000     912.000000       6.000000   \n",
       "\n",
       "            weekyear     dayofmonth      ...              medByID  \\\n",
       "count  881871.000000  881871.000000      ...        881871.000000   \n",
       "mean       24.916525      15.823224      ...             2.592266   \n",
       "std        15.072290       8.794396      ...             0.426996   \n",
       "min         1.000000       1.000000      ...             2.400619   \n",
       "25%        12.000000       8.000000      ...             2.409464   \n",
       "50%        23.000000      16.000000      ...             2.440781   \n",
       "75%        38.000000      23.000000      ...             2.563256   \n",
       "max        53.000000      31.000000      ...             5.729190   \n",
       "\n",
       "          medBySales  medCatOnePrice  medCatOneSales  medCatTwoSales  \\\n",
       "count  881871.000000   881871.000000   881871.000000   790263.000000   \n",
       "mean        5.602685        2.546974        5.494873        5.617950   \n",
       "std         1.524918        0.327296        0.882989        0.391727   \n",
       "min         2.484907        2.400619        2.772589        5.141664   \n",
       "25%         4.499810        2.409464        5.068904        5.209486   \n",
       "50%         5.590987        2.441303        5.513429        5.852202   \n",
       "75%         6.680855        2.497082        6.079933        6.061457   \n",
       "max        12.340949        5.155318        8.326759        6.061457   \n",
       "\n",
       "       medCatTwoPrice  weekYearIDPrice  weekYearIDSales   volumebyCat1  \\\n",
       "count   790263.000000    881871.000000    881871.000000  881871.000000   \n",
       "mean         2.442185         5.230364      1137.014733       5.012322   \n",
       "std          0.020775        21.084642      6777.511685       1.391746   \n",
       "min          2.416360         0.030000         1.000000       2.678759   \n",
       "25%          2.419479         0.136000        78.000000       3.851891   \n",
       "50%          2.431330         0.501000       260.000000       4.991996   \n",
       "75%          2.456507         2.065500       771.000000       5.813270   \n",
       "max          2.474520       399.507000    292848.000000       9.132314   \n",
       "\n",
       "        volumebyCat2  \n",
       "count  790263.000000  \n",
       "mean        4.829447  \n",
       "std         0.650547  \n",
       "min         3.725934  \n",
       "25%         3.792338  \n",
       "50%         5.111867  \n",
       "75%         5.235931  \n",
       "max         5.363531  \n",
       "\n",
       "[8 rows x 21 columns]"
      ]
     },
     "execution_count": 53,
     "metadata": {},
     "output_type": "execute_result"
    }
   ],
   "source": [
    "train.describe()"
   ]
  },
  {
   "cell_type": "code",
   "execution_count": 54,
   "metadata": {
    "collapsed": false,
    "deletable": true,
    "editable": true
   },
   "outputs": [
    {
     "name": "stdout",
     "output_type": "stream",
     "text": [
      "(881871, 23)\n",
      "(266248, 21)\n"
     ]
    }
   ],
   "source": [
    "print train.shape\n",
    "print test.shape"
   ]
  },
  {
   "cell_type": "markdown",
   "metadata": {
    "deletable": true,
    "editable": true
   },
   "source": [
    "### Decision Tree training"
   ]
  },
  {
   "cell_type": "code",
   "execution_count": 55,
   "metadata": {
    "collapsed": true,
    "deletable": true,
    "editable": true
   },
   "outputs": [],
   "source": [
    "cols_to_use = ['Category_3','Category_2','Category_1','dayofweek','weekyear',\\\n",
    "              'dayofmonth','month','medByID','medBySales','medCatOnePrice',\\\n",
    "              'medCatOneSales','medCatTwoSales','medCatTwoPrice','volumebyCat1','volumebyCat2',\\\n",
    "              'weekYearIDSales','weekYearIDPrice']"
   ]
  },
  {
   "cell_type": "code",
   "execution_count": 56,
   "metadata": {
    "collapsed": false,
    "deletable": true,
    "editable": true
   },
   "outputs": [],
   "source": [
    "train.fillna(-1, inplace=True)\n",
    "test.fillna(-1, inplace=True)"
   ]
  },
  {
   "cell_type": "code",
   "execution_count": 18,
   "metadata": {
    "collapsed": true,
    "deletable": true,
    "editable": true
   },
   "outputs": [],
   "source": [
    "from sklearn.tree import DecisionTreeRegressor"
   ]
  },
  {
   "cell_type": "code",
   "execution_count": 19,
   "metadata": {
    "collapsed": true,
    "deletable": true,
    "editable": true
   },
   "outputs": [],
   "source": [
    "DT = DecisionTreeRegressor(max_depth = 6, min_samples_split=11, criterion='mse',max_features='auto')\n",
    "DT.fit(train[cols_to_use], np.log1p(train['Price']))\n",
    "dtpred = DT.predict(test[cols_to_use])\n",
    "dtpred = np.exp(dtpred)-1"
   ]
  },
  {
   "cell_type": "code",
   "execution_count": 21,
   "metadata": {
    "collapsed": true,
    "deletable": true,
    "editable": true
   },
   "outputs": [],
   "source": [
    "DT2 = DecisionTreeRegressor(max_depth = 6, min_samples_split=11, criterion='mse',max_features='auto')\n",
    "DT2.fit(train[cols_to_use], np.log1p(train['Number_Of_Sales']))\n",
    "dtpred2 = DT2.predict(test[cols_to_use])\n",
    "dtpred2 = np.exp(dtpred2)-1\n"
   ]
  },
  {
   "cell_type": "code",
   "execution_count": 22,
   "metadata": {
    "collapsed": true,
    "deletable": true,
    "editable": true
   },
   "outputs": [],
   "source": [
    "subpy1 = pd.DataFrame({'ID':test['ID'], 'Price':dtpred, 'Number_Of_Sales':dtpred2})\n",
    "subpy1.to_csv(\"subpy1.csv\", index=False)"
   ]
  },
  {
   "cell_type": "markdown",
   "metadata": {
    "deletable": true,
    "editable": true
   },
   "source": [
    "### Set validation"
   ]
  },
  {
   "cell_type": "code",
   "execution_count": 57,
   "metadata": {
    "collapsed": false,
    "deletable": true,
    "editable": true
   },
   "outputs": [],
   "source": [
    "train_X = train.loc[(train['Datetime'] < \"2016-01-01\") & (train['Datetime'] >= \"2015-01-01\")]\n",
    "valid_X = train.loc[train['Datetime'] >= '2016-01-01']"
   ]
  },
  {
   "cell_type": "code",
   "execution_count": 58,
   "metadata": {
    "collapsed": false,
    "deletable": true,
    "editable": true
   },
   "outputs": [
    {
     "name": "stdout",
     "output_type": "stream",
     "text": [
      "(398544, 23)\n",
      "(259706, 23)\n"
     ]
    }
   ],
   "source": [
    "print train_X.shape\n",
    "print valid_X.shape"
   ]
  },
  {
   "cell_type": "code",
   "execution_count": 21,
   "metadata": {
    "collapsed": false
   },
   "outputs": [
    {
     "data": {
      "text/plain": [
       "count                  398544\n",
       "unique                    365\n",
       "top       2015-12-11 00:00:00\n",
       "freq                     1371\n",
       "first     2015-01-01 00:00:00\n",
       "last      2015-12-31 00:00:00\n",
       "Name: Datetime, dtype: object"
      ]
     },
     "execution_count": 21,
     "metadata": {},
     "output_type": "execute_result"
    }
   ],
   "source": [
    "train_X['Datetime'].describe()"
   ]
  },
  {
   "cell_type": "markdown",
   "metadata": {
    "deletable": true,
    "editable": true
   },
   "source": [
    "### XGBoost"
   ]
  },
  {
   "cell_type": "code",
   "execution_count": 23,
   "metadata": {
    "collapsed": false,
    "deletable": true,
    "editable": true
   },
   "outputs": [
    {
     "name": "stderr",
     "output_type": "stream",
     "text": [
      "/home/manish/anaconda2/envs/package15/lib/python2.7/site-packages/sklearn/cross_validation.py:44: DeprecationWarning: This module was deprecated in version 0.18 in favor of the model_selection module into which all the refactored classes and functions are moved. Also note that the interface of the new CV iterators are different from that of this module. This module will be removed in 0.20.\n",
      "  \"This module will be removed in 0.20.\", DeprecationWarning)\n"
     ]
    }
   ],
   "source": [
    "import xgboost as xgb"
   ]
  },
  {
   "cell_type": "code",
   "execution_count": 59,
   "metadata": {
    "collapsed": false,
    "deletable": true,
    "editable": true
   },
   "outputs": [],
   "source": [
    "dtrain1 = xgb.DMatrix(data=train_X[cols_to_use], label = np.log1p(train_X['Price']))\n",
    "dvalid1 = xgb.DMatrix(data=valid_X[cols_to_use], label = np.log1p(valid_X['Price']))\n",
    "\n",
    "dtrain2 = xgb.DMatrix(data=train_X[cols_to_use], label = np.log1p(train_X['Number_Of_Sales']))\n",
    "dvalid2 = xgb.DMatrix(data=valid_X[cols_to_use], label = np.log1p(valid_X['Number_Of_Sales']))"
   ]
  },
  {
   "cell_type": "code",
   "execution_count": 60,
   "metadata": {
    "collapsed": true,
    "deletable": true,
    "editable": true
   },
   "outputs": [],
   "source": [
    "dtest = xgb.DMatrix(data=test[cols_to_use])"
   ]
  },
  {
   "cell_type": "code",
   "execution_count": 61,
   "metadata": {
    "collapsed": true,
    "deletable": true,
    "editable": true
   },
   "outputs": [],
   "source": [
    "xgb_params1 = {\n",
    "    'colsample_bytree': 1,\n",
    "    'subsample': 1,\n",
    "    'eta': 0.1,\n",
    "    'objective': 'reg:linear',\n",
    "    'max_depth': 6,\n",
    "    'min_child_weight': 10,\n",
    "    'eval_metric': 'rmse',\n",
    "    'alpha':8\n",
    "}\n",
    "\n",
    "xgb_params2 = {\n",
    "    'colsample_bytree': 1,\n",
    "    'subsample': 1,\n",
    "    'eta': 0.1,\n",
    "    'objective': 'reg:linear',\n",
    "    'max_depth': 6,\n",
    "    'min_child_weight': 0,\n",
    "    'eval_metric': 'rmse',\n",
    "    'alpha':8\n",
    "}\n",
    "watchlist1  = [ (dtrain1,'train'),(dvalid1,'valid')]\n",
    "watchlist2  = [ (dtrain2,'train'),(dvalid2,'valid')]\n"
   ]
  },
  {
   "cell_type": "code",
   "execution_count": 63,
   "metadata": {
    "collapsed": false,
    "deletable": true,
    "editable": true,
    "scrolled": true
   },
   "outputs": [
    {
     "name": "stdout",
     "output_type": "stream",
     "text": [
      "[0]\ttrain-rmse:0.979466\tvalid-rmse:0.957138\n",
      "Multiple eval metrics have been passed: 'valid-rmse' will be used for early stopping.\n",
      "\n",
      "Will train until valid-rmse hasn't improved in 40 rounds.\n",
      "[20]\ttrain-rmse:0.198641\tvalid-rmse:0.249026\n",
      "[40]\ttrain-rmse:0.143929\tvalid-rmse:0.257993\n",
      "[60]\ttrain-rmse:0.135458\tvalid-rmse:0.27749\n",
      "Stopping. Best iteration:\n",
      "[26]\ttrain-rmse:0.166703\tvalid-rmse:0.241197\n",
      "\n"
     ]
    }
   ],
   "source": [
    "bst1 = xgb.train(xgb_params1, dtrain1, 1000, watchlist1, early_stopping_rounds=40, verbose_eval=20)"
   ]
  },
  {
   "cell_type": "code",
   "execution_count": 64,
   "metadata": {
    "collapsed": true,
    "deletable": true,
    "editable": true
   },
   "outputs": [],
   "source": [
    "bstpred1 = bst1.predict(dtest)\n",
    "bstpred1 = np.exp(bstpred1)-1"
   ]
  },
  {
   "cell_type": "code",
   "execution_count": 65,
   "metadata": {
    "collapsed": false,
    "deletable": true,
    "editable": true
   },
   "outputs": [
    {
     "data": {
      "image/png": "[encoded data removed]",
      "text/plain": [
       "<matplotlib.figure.Figure at 0x7feee435acd0>"
      ]
     },
     "metadata": {},
     "output_type": "display_data"
    }
   ],
   "source": [
    "import matplotlib.pyplot as plt\n",
    "xgb.plot_importance(bst1)\n",
    "plt.show(2)"
   ]
  },
  {
   "cell_type": "code",
   "execution_count": 66,
   "metadata": {
    "collapsed": false,
    "deletable": true,
    "editable": true,
    "scrolled": true
   },
   "outputs": [
    {
     "name": "stdout",
     "output_type": "stream",
     "text": [
      "[0]\ttrain-rmse:4.91066\tvalid-rmse:4.51377\n",
      "Multiple eval metrics have been passed: 'valid-rmse' will be used for early stopping.\n",
      "\n",
      "Will train until valid-rmse hasn't improved in 40 rounds.\n",
      "[20]\ttrain-rmse:0.705507\tvalid-rmse:0.601525\n",
      "[40]\ttrain-rmse:0.348147\tvalid-rmse:0.712026\n",
      "[60]\ttrain-rmse:0.319166\tvalid-rmse:0.771304\n",
      "Stopping. Best iteration:\n",
      "[22]\ttrain-rmse:0.609672\tvalid-rmse:0.584732\n",
      "\n"
     ]
    }
   ],
   "source": [
    "bst2 = xgb.train(xgb_params2, dtrain2, 1000, watchlist2, early_stopping_rounds=40, verbose_eval=20)"
   ]
  },
  {
   "cell_type": "code",
   "execution_count": 67,
   "metadata": {
    "collapsed": false,
    "deletable": true,
    "editable": true
   },
   "outputs": [
    {
     "data": {
      "image/png": "[encoded data removed]",
      "text/plain": [
       "<matplotlib.figure.Figure at 0x7feeeb7bca90>"
      ]
     },
     "metadata": {},
     "output_type": "display_data"
    }
   ],
   "source": [
    "xgb.plot_importance(bst2)\n",
    "plt.show(2)"
   ]
  },
  {
   "cell_type": "code",
   "execution_count": 68,
   "metadata": {
    "collapsed": true,
    "deletable": true,
    "editable": true
   },
   "outputs": [],
   "source": [
    "bstpred2 = bst2.predict(dtest)\n",
    "bstpred2 = np.exp(bstpred2)-1\n",
    "bstpred2 = np.round(bstpred2)"
   ]
  },
  {
   "cell_type": "code",
   "execution_count": 95,
   "metadata": {
    "collapsed": true,
    "deletable": true,
    "editable": true
   },
   "outputs": [],
   "source": [
    "subpy2 = pd.DataFrame({'ID':test['ID'], 'Price':bstpred1, 'Number_Of_Sales':bstpred2})\n",
    "subpy2.to_csv(\"subpy2.csv\", index=False) #0.97"
   ]
  },
  {
   "cell_type": "code",
   "execution_count": 69,
   "metadata": {
    "collapsed": true
   },
   "outputs": [],
   "source": [
    "subpy3 = pd.DataFrame({'ID':test['ID'], 'Price':bstpred1, 'Number_Of_Sales':bstpred2})\n",
    "subpy3.to_csv(\"subpy3.csv\", index=False) #1"
   ]
  },
  {
   "cell_type": "markdown",
   "metadata": {},
   "source": [
    "### xgboost on top8 features"
   ]
  },
  {
   "cell_type": "code",
   "execution_count": 76,
   "metadata": {
    "collapsed": true
   },
   "outputs": [],
   "source": [
    "feats1 = ['weekYearIDPrice','weekyear','medByID','Category_1','medCatOnePrice','volumebyCat1','medCatOneSales','weekYearIDSales']\n",
    "feats2 = ['weekYearIDPrice','weekyear','medByID','medBySales','medCatOnePrice','volumebyCat1','medCatOneSales','weekYearIDSales']"
   ]
  },
  {
   "cell_type": "code",
   "execution_count": 77,
   "metadata": {
    "collapsed": false
   },
   "outputs": [],
   "source": [
    "dtrain1 = xgb.DMatrix(data=train_X[feats1], label = np.log1p(train_X['Price']))\n",
    "dvalid1 = xgb.DMatrix(data=valid_X[feats1], label = np.log1p(valid_X['Price']))\n",
    "\n",
    "dtrain2 = xgb.DMatrix(data=train_X[feats2], label = np.log1p(train_X['Number_Of_Sales']))\n",
    "dvalid2 = xgb.DMatrix(data=valid_X[feats2], label = np.log1p(valid_X['Number_Of_Sales']))"
   ]
  },
  {
   "cell_type": "code",
   "execution_count": 82,
   "metadata": {
    "collapsed": true
   },
   "outputs": [],
   "source": [
    "dtest1 = xgb.DMatrix(data=test[feats1])\n",
    "dtest2 = xgb.DMatrix(data=test[feats2])"
   ]
  },
  {
   "cell_type": "code",
   "execution_count": 78,
   "metadata": {
    "collapsed": true
   },
   "outputs": [],
   "source": [
    "xgb_params1 = {\n",
    "    'colsample_bytree': 1,\n",
    "    'subsample': 1,\n",
    "    'eta': 0.1,\n",
    "    'objective': 'reg:linear',\n",
    "    'max_depth': 6,\n",
    "    'min_child_weight': 10,\n",
    "    'eval_metric': 'rmse',\n",
    "    'alpha':8\n",
    "}\n",
    "\n",
    "xgb_params2 = {\n",
    "    'colsample_bytree': 1,\n",
    "    'subsample': 1,\n",
    "    'eta': 0.1,\n",
    "    'objective': 'reg:linear',\n",
    "    'max_depth': 6,\n",
    "    'min_child_weight': 0,\n",
    "    'eval_metric': 'rmse',\n",
    "    'alpha':8\n",
    "}\n",
    "watchlist1  = [ (dtrain1,'train'),(dvalid1,'valid')]\n",
    "watchlist2  = [ (dtrain2,'train'),(dvalid2,'valid')]\n"
   ]
  },
  {
   "cell_type": "code",
   "execution_count": 79,
   "metadata": {
    "collapsed": false
   },
   "outputs": [
    {
     "name": "stdout",
     "output_type": "stream",
     "text": [
      "[0]\ttrain-rmse:0.979469\tvalid-rmse:0.957165\n",
      "Multiple eval metrics have been passed: 'valid-rmse' will be used for early stopping.\n",
      "\n",
      "Will train until valid-rmse hasn't improved in 40 rounds.\n",
      "[20]\ttrain-rmse:0.199179\tvalid-rmse:0.247752\n",
      "[40]\ttrain-rmse:0.146351\tvalid-rmse:0.255049\n",
      "[60]\ttrain-rmse:0.136784\tvalid-rmse:0.277148\n",
      "Stopping. Best iteration:\n",
      "[24]\ttrain-rmse:0.175072\tvalid-rmse:0.240906\n",
      "\n"
     ]
    }
   ],
   "source": [
    "bst1 = xgb.train(xgb_params1, dtrain1, 1000, watchlist1, early_stopping_rounds=40, verbose_eval=20)"
   ]
  },
  {
   "cell_type": "code",
   "execution_count": 83,
   "metadata": {
    "collapsed": false
   },
   "outputs": [],
   "source": [
    "bstpred1 = bst1.predict(dtest1)\n",
    "bstpred1 = np.exp(bstpred1)-1"
   ]
  },
  {
   "cell_type": "code",
   "execution_count": 84,
   "metadata": {
    "collapsed": false
   },
   "outputs": [
    {
     "name": "stdout",
     "output_type": "stream",
     "text": [
      "[0]\ttrain-rmse:4.91067\tvalid-rmse:4.51375\n",
      "Multiple eval metrics have been passed: 'valid-rmse' will be used for early stopping.\n",
      "\n",
      "Will train until valid-rmse hasn't improved in 40 rounds.\n",
      "[20]\ttrain-rmse:0.706012\tvalid-rmse:0.60921\n",
      "[40]\ttrain-rmse:0.351222\tvalid-rmse:0.723769\n",
      "[60]\ttrain-rmse:0.323207\tvalid-rmse:0.784276\n",
      "Stopping. Best iteration:\n",
      "[23]\ttrain-rmse:0.572653\tvalid-rmse:0.591966\n",
      "\n"
     ]
    }
   ],
   "source": [
    "bst2 = xgb.train(xgb_params2, dtrain2, 1000, watchlist2, early_stopping_rounds=40, verbose_eval=20)"
   ]
  },
  {
   "cell_type": "code",
   "execution_count": 85,
   "metadata": {
    "collapsed": true
   },
   "outputs": [],
   "source": [
    "bstpred2 = bst2.predict(dtest2)\n",
    "bstpred2 = np.exp(bstpred2)-1"
   ]
  },
  {
   "cell_type": "code",
   "execution_count": 86,
   "metadata": {
    "collapsed": true
   },
   "outputs": [],
   "source": [
    "subpy4 = pd.DataFrame({'ID':test['ID'], 'Price':bstpred1, 'Number_Of_Sales':bstpred2})\n",
    "subpy4.to_csv(\"subpy4.csv\", index=False)"
   ]
  },
  {
   "cell_type": "markdown",
   "metadata": {
    "deletable": true,
    "editable": true
   },
   "source": [
    "### KNN Regression"
   ]
  },
  {
   "cell_type": "code",
   "execution_count": 70,
   "metadata": {
    "collapsed": true,
    "deletable": true,
    "editable": true
   },
   "outputs": [],
   "source": [
    "from sklearn.neighbors import KNeighborsRegressor\n",
    "from sklearn.metrics import mean_squared_error"
   ]
  },
  {
   "cell_type": "code",
   "execution_count": 71,
   "metadata": {
    "collapsed": true,
    "deletable": true,
    "editable": true
   },
   "outputs": [],
   "source": [
    "knnreg = KNeighborsRegressor(n_neighbors=5)"
   ]
  },
  {
   "cell_type": "code",
   "execution_count": 72,
   "metadata": {
    "collapsed": false,
    "deletable": true,
    "editable": true
   },
   "outputs": [
    {
     "data": {
      "text/plain": [
       "9.1702164211790524"
      ]
     },
     "execution_count": 72,
     "metadata": {},
     "output_type": "execute_result"
    }
   ],
   "source": [
    "knnreg.fit(train_X[cols_to_use], np.log1p(train_X['Price']))\n",
    "knnpred = np.exp(knnreg.predict(valid_X[cols_to_use]))-1\n",
    "np.sqrt(mean_squared_error(valid_X['Price'], knnpred))"
   ]
  },
  {
   "cell_type": "code",
   "execution_count": 73,
   "metadata": {
    "collapsed": false,
    "deletable": true,
    "editable": true
   },
   "outputs": [
    {
     "data": {
      "text/plain": [
       "5585.9881223315542"
      ]
     },
     "execution_count": 73,
     "metadata": {},
     "output_type": "execute_result"
    }
   ],
   "source": [
    "knnreg.fit(train_X[cols_to_use], np.log1p(train_X['Number_Of_Sales']))\n",
    "knnpred = np.exp(knnreg.predict(valid_X[cols_to_use]))-1\n",
    "np.sqrt(mean_squared_error(valid_X['Number_Of_Sales'], knnpred))"
   ]
  },
  {
   "cell_type": "markdown",
   "metadata": {
    "deletable": true,
    "editable": true
   },
   "source": [
    "### Random Forest"
   ]
  },
  {
   "cell_type": "code",
   "execution_count": 103,
   "metadata": {
    "collapsed": true,
    "deletable": true,
    "editable": true
   },
   "outputs": [],
   "source": [
    "from sklearn.ensemble import RandomForestRegressor"
   ]
  },
  {
   "cell_type": "code",
   "execution_count": 104,
   "metadata": {
    "collapsed": true,
    "deletable": true,
    "editable": true
   },
   "outputs": [],
   "source": [
    "ranregg = RandomForestRegressor(n_estimators=500, max_depth=6, max_features='auto',min_samples_split=11)"
   ]
  },
  {
   "cell_type": "code",
   "execution_count": 105,
   "metadata": {
    "collapsed": false,
    "deletable": true,
    "editable": true
   },
   "outputs": [
    {
     "data": {
      "text/plain": [
       "7.0996222143230918"
      ]
     },
     "execution_count": 105,
     "metadata": {},
     "output_type": "execute_result"
    }
   ],
   "source": [
    "ranregg.fit(train_X[cols_to_use], np.log1p(train_X['Price']))\n",
    "ranpred = np.exp(ranregg.predict(valid_X[cols_to_use]))-1\n",
    "np.sqrt(mean_squared_error(valid_X['Price'], ranpred))"
   ]
  },
  {
   "cell_type": "code",
   "execution_count": null,
   "metadata": {
    "collapsed": true,
    "deletable": true,
    "editable": true
   },
   "outputs": [],
   "source": []
  },
  {
   "cell_type": "code",
   "execution_count": null,
   "metadata": {
    "collapsed": true,
    "deletable": true,
    "editable": true
   },
   "outputs": [],
   "source": []
  },
  {
   "cell_type": "code",
   "execution_count": null,
   "metadata": {
    "collapsed": true,
    "deletable": true,
    "editable": true
   },
   "outputs": [],
   "source": []
  },
  {
   "cell_type": "code",
   "execution_count": null,
   "metadata": {
    "collapsed": true,
    "deletable": true,
    "editable": true
   },
   "outputs": [],
   "source": []
  },
  {
   "cell_type": "code",
   "execution_count": null,
   "metadata": {
    "collapsed": true,
    "deletable": true,
    "editable": true
   },
   "outputs": [],
   "source": []
  }
 ],
 "metadata": {
  "kernelspec": {
   "display_name": "Python 2",
   "language": "python",
   "name": "python2"
  },
  "language_info": {
   "codemirror_mode": {
    "name": "ipython",
    "version": 2
   },
   "file_extension": ".py",
   "mimetype": "text/x-python",
   "name": "python",
   "nbconvert_exporter": "python",
   "pygments_lexer": "ipython2",
   "version": "2.7.13"
  }
 },
 "nbformat": 4,
 "nbformat_minor": 2
}
