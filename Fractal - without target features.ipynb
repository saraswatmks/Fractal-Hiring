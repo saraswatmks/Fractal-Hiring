{
 "cells": [
  {
   "cell_type": "code",
   "execution_count": 4,
   "metadata": {
    "collapsed": true,
    "deletable": true,
    "editable": true
   },
   "outputs": [],
   "source": [
    "import numpy as np\n",
    "import pandas as pd"
   ]
  },
  {
   "cell_type": "code",
   "execution_count": 5,
   "metadata": {
    "collapsed": true,
    "deletable": true,
    "editable": true
   },
   "outputs": [],
   "source": [
    "train = pd.read_csv('train.csv',parse_dates=['Datetime'])\n",
    "test = pd.read_csv('test.csv',parse_dates=['Datetime'])"
   ]
  },
  {
   "cell_type": "code",
   "execution_count": 6,
   "metadata": {
    "collapsed": false,
    "deletable": true,
    "editable": true
   },
   "outputs": [
    {
     "data": {
      "text/html": [
       "<div>\n",
       "<table border=\"1\" class=\"dataframe\">\n",
       "  <thead>\n",
       "    <tr style=\"text-align: right;\">\n",
       "      <th></th>\n",
       "      <th>ID</th>\n",
       "      <th>Item_ID</th>\n",
       "      <th>Datetime</th>\n",
       "      <th>Category_3</th>\n",
       "      <th>Category_2</th>\n",
       "      <th>Category_1</th>\n",
       "      <th>Price</th>\n",
       "      <th>Number_Of_Sales</th>\n",
       "    </tr>\n",
       "  </thead>\n",
       "  <tbody>\n",
       "    <tr>\n",
       "      <th>0</th>\n",
       "      <td>30495_20140101</td>\n",
       "      <td>30495</td>\n",
       "      <td>2014-01-01</td>\n",
       "      <td>0</td>\n",
       "      <td>2.0</td>\n",
       "      <td>90</td>\n",
       "      <td>165.123</td>\n",
       "      <td>1</td>\n",
       "    </tr>\n",
       "    <tr>\n",
       "      <th>1</th>\n",
       "      <td>30375_20140101</td>\n",
       "      <td>30375</td>\n",
       "      <td>2014-01-01</td>\n",
       "      <td>0</td>\n",
       "      <td>2.0</td>\n",
       "      <td>307</td>\n",
       "      <td>68.666</td>\n",
       "      <td>5</td>\n",
       "    </tr>\n",
       "    <tr>\n",
       "      <th>2</th>\n",
       "      <td>30011_20140101</td>\n",
       "      <td>30011</td>\n",
       "      <td>2014-01-01</td>\n",
       "      <td>0</td>\n",
       "      <td>3.0</td>\n",
       "      <td>67</td>\n",
       "      <td>253.314</td>\n",
       "      <td>2</td>\n",
       "    </tr>\n",
       "    <tr>\n",
       "      <th>3</th>\n",
       "      <td>30864_20140101</td>\n",
       "      <td>30864</td>\n",
       "      <td>2014-01-01</td>\n",
       "      <td>0</td>\n",
       "      <td>2.0</td>\n",
       "      <td>315</td>\n",
       "      <td>223.122</td>\n",
       "      <td>1</td>\n",
       "    </tr>\n",
       "    <tr>\n",
       "      <th>4</th>\n",
       "      <td>30780_20140101</td>\n",
       "      <td>30780</td>\n",
       "      <td>2014-01-01</td>\n",
       "      <td>1</td>\n",
       "      <td>2.0</td>\n",
       "      <td>132</td>\n",
       "      <td>28.750</td>\n",
       "      <td>1</td>\n",
       "    </tr>\n",
       "  </tbody>\n",
       "</table>\n",
       "</div>"
      ],
      "text/plain": [
       "               ID  Item_ID   Datetime  Category_3  Category_2  Category_1  \\\n",
       "0  30495_20140101    30495 2014-01-01           0         2.0          90   \n",
       "1  30375_20140101    30375 2014-01-01           0         2.0         307   \n",
       "2  30011_20140101    30011 2014-01-01           0         3.0          67   \n",
       "3  30864_20140101    30864 2014-01-01           0         2.0         315   \n",
       "4  30780_20140101    30780 2014-01-01           1         2.0         132   \n",
       "\n",
       "     Price  Number_Of_Sales  \n",
       "0  165.123                1  \n",
       "1   68.666                5  \n",
       "2  253.314                2  \n",
       "3  223.122                1  \n",
       "4   28.750                1  "
      ]
     },
     "execution_count": 6,
     "metadata": {},
     "output_type": "execute_result"
    }
   ],
   "source": [
    "train.head()"
   ]
  },
  {
   "cell_type": "code",
   "execution_count": 7,
   "metadata": {
    "collapsed": true,
    "deletable": true,
    "editable": true
   },
   "outputs": [],
   "source": [
    "item_count_train = train.Item_ID.value_counts().to_dict()\n",
    "item_count_test = test.Item_ID.value_counts().to_dict()\n",
    "\n",
    "train['item_count'] = train['Item_ID'].map(item_count_train)\n",
    "test['item_count'] = test['Item_ID'].map(item_count_test)\n",
    "\n",
    "train['dayofweek'] = train.Datetime.dt.dayofweek\n",
    "test['dayofweek'] = test.Datetime.dt.dayofweek\n",
    "\n",
    "train['weekyear'] = train.Datetime.dt.weekofyear\n",
    "test['weekyear'] = test.Datetime.dt.weekofyear\n",
    "\n",
    "train['dayofmonth'] = train.Datetime.dt.day\n",
    "test['dayofmonth'] = test.Datetime.dt.day\n",
    "\n",
    "#train['is_quarter_start'] = train.Datetime.dt.is_quarter_start\n",
    "#test['is_quarter_start'] = test.Datetime.dt.is_quarter_start\n",
    "\n",
    "#train['is_quarter_start'] = train.is_quarter_start.astype(int)\n",
    "#test['is_quarter_start'] = test.is_quarter_start.astype(int)\n",
    "\n",
    "train['month'] = train.Datetime.dt.month\n",
    "test['month'] = test.Datetime.dt.month"
   ]
  },
  {
   "cell_type": "code",
   "execution_count": 8,
   "metadata": {
    "collapsed": true,
    "deletable": true,
    "editable": true
   },
   "outputs": [],
   "source": [
    "week_year_price = train.groupby(['Item_ID','weekyear'])['Price'].aggregate(np.median).reset_index()\n",
    "week_year_price.rename(columns={'Price':'weekYearIDPrice'},inplace=True)\n",
    "\n",
    "week_year_sales = train.groupby(['Item_ID','weekyear'])['Number_Of_Sales'].aggregate(np.median).reset_index()\n",
    "week_year_sales.rename(columns={'Number_Of_Sales':'weekYearIDSales'},inplace=True)\n",
    "\n",
    "train = pd.merge(train, week_year_price, on=['Item_ID','weekyear'], how='left')\n",
    "train = pd.merge(train, week_year_sales, on=['Item_ID','weekyear'], how='left')\n",
    "\n",
    "test = pd.merge(test, week_year_price, on=['Item_ID','weekyear'], how='left')\n",
    "test = pd.merge(test, week_year_sales, on=['Item_ID','weekyear'], how='left')"
   ]
  },
  {
   "cell_type": "code",
   "execution_count": 9,
   "metadata": {
    "collapsed": true,
    "deletable": true,
    "editable": true
   },
   "outputs": [],
   "source": [
    "train = train.loc[train['Number_Of_Sales'] <= 340000]"
   ]
  },
  {
   "cell_type": "code",
   "execution_count": 10,
   "metadata": {
    "collapsed": true,
    "deletable": true,
    "editable": true
   },
   "outputs": [],
   "source": [
    "train.fillna(-1, inplace=True)\n",
    "test.fillna(-1, inplace=True)"
   ]
  },
  {
   "cell_type": "code",
   "execution_count": 11,
   "metadata": {
    "collapsed": false,
    "deletable": true,
    "editable": true
   },
   "outputs": [
    {
     "data": {
      "text/html": [
       "<div>\n",
       "<table border=\"1\" class=\"dataframe\">\n",
       "  <thead>\n",
       "    <tr style=\"text-align: right;\">\n",
       "      <th></th>\n",
       "      <th>ID</th>\n",
       "      <th>Item_ID</th>\n",
       "      <th>Datetime</th>\n",
       "      <th>Category_3</th>\n",
       "      <th>Category_2</th>\n",
       "      <th>Category_1</th>\n",
       "      <th>Price</th>\n",
       "      <th>Number_Of_Sales</th>\n",
       "      <th>item_count</th>\n",
       "      <th>dayofweek</th>\n",
       "      <th>weekyear</th>\n",
       "      <th>dayofmonth</th>\n",
       "      <th>month</th>\n",
       "      <th>weekYearIDPrice</th>\n",
       "      <th>weekYearIDSales</th>\n",
       "    </tr>\n",
       "  </thead>\n",
       "  <tbody>\n",
       "    <tr>\n",
       "      <th>0</th>\n",
       "      <td>30495_20140101</td>\n",
       "      <td>30495</td>\n",
       "      <td>2014-01-01</td>\n",
       "      <td>0</td>\n",
       "      <td>2.0</td>\n",
       "      <td>90</td>\n",
       "      <td>165.123</td>\n",
       "      <td>1</td>\n",
       "      <td>908</td>\n",
       "      <td>2</td>\n",
       "      <td>1</td>\n",
       "      <td>1</td>\n",
       "      <td>1</td>\n",
       "      <td>147.0690</td>\n",
       "      <td>12.0</td>\n",
       "    </tr>\n",
       "    <tr>\n",
       "      <th>1</th>\n",
       "      <td>30375_20140101</td>\n",
       "      <td>30375</td>\n",
       "      <td>2014-01-01</td>\n",
       "      <td>0</td>\n",
       "      <td>2.0</td>\n",
       "      <td>307</td>\n",
       "      <td>68.666</td>\n",
       "      <td>5</td>\n",
       "      <td>911</td>\n",
       "      <td>2</td>\n",
       "      <td>1</td>\n",
       "      <td>1</td>\n",
       "      <td>1</td>\n",
       "      <td>48.2630</td>\n",
       "      <td>31.5</td>\n",
       "    </tr>\n",
       "    <tr>\n",
       "      <th>2</th>\n",
       "      <td>30011_20140101</td>\n",
       "      <td>30011</td>\n",
       "      <td>2014-01-01</td>\n",
       "      <td>0</td>\n",
       "      <td>3.0</td>\n",
       "      <td>67</td>\n",
       "      <td>253.314</td>\n",
       "      <td>2</td>\n",
       "      <td>849</td>\n",
       "      <td>2</td>\n",
       "      <td>1</td>\n",
       "      <td>1</td>\n",
       "      <td>1</td>\n",
       "      <td>302.0160</td>\n",
       "      <td>3.0</td>\n",
       "    </tr>\n",
       "    <tr>\n",
       "      <th>3</th>\n",
       "      <td>30864_20140101</td>\n",
       "      <td>30864</td>\n",
       "      <td>2014-01-01</td>\n",
       "      <td>0</td>\n",
       "      <td>2.0</td>\n",
       "      <td>315</td>\n",
       "      <td>223.122</td>\n",
       "      <td>1</td>\n",
       "      <td>907</td>\n",
       "      <td>2</td>\n",
       "      <td>1</td>\n",
       "      <td>1</td>\n",
       "      <td>1</td>\n",
       "      <td>142.3630</td>\n",
       "      <td>15.0</td>\n",
       "    </tr>\n",
       "    <tr>\n",
       "      <th>4</th>\n",
       "      <td>30780_20140101</td>\n",
       "      <td>30780</td>\n",
       "      <td>2014-01-01</td>\n",
       "      <td>1</td>\n",
       "      <td>2.0</td>\n",
       "      <td>132</td>\n",
       "      <td>28.750</td>\n",
       "      <td>1</td>\n",
       "      <td>623</td>\n",
       "      <td>2</td>\n",
       "      <td>1</td>\n",
       "      <td>1</td>\n",
       "      <td>1</td>\n",
       "      <td>65.4005</td>\n",
       "      <td>2.0</td>\n",
       "    </tr>\n",
       "  </tbody>\n",
       "</table>\n",
       "</div>"
      ],
      "text/plain": [
       "               ID  Item_ID   Datetime  Category_3  Category_2  Category_1  \\\n",
       "0  30495_20140101    30495 2014-01-01           0         2.0          90   \n",
       "1  30375_20140101    30375 2014-01-01           0         2.0         307   \n",
       "2  30011_20140101    30011 2014-01-01           0         3.0          67   \n",
       "3  30864_20140101    30864 2014-01-01           0         2.0         315   \n",
       "4  30780_20140101    30780 2014-01-01           1         2.0         132   \n",
       "\n",
       "     Price  Number_Of_Sales  item_count  dayofweek  weekyear  dayofmonth  \\\n",
       "0  165.123                1         908          2         1           1   \n",
       "1   68.666                5         911          2         1           1   \n",
       "2  253.314                2         849          2         1           1   \n",
       "3  223.122                1         907          2         1           1   \n",
       "4   28.750                1         623          2         1           1   \n",
       "\n",
       "   month  weekYearIDPrice  weekYearIDSales  \n",
       "0      1         147.0690             12.0  \n",
       "1      1          48.2630             31.5  \n",
       "2      1         302.0160              3.0  \n",
       "3      1         142.3630             15.0  \n",
       "4      1          65.4005              2.0  "
      ]
     },
     "execution_count": 11,
     "metadata": {},
     "output_type": "execute_result"
    }
   ],
   "source": [
    "train.head()"
   ]
  },
  {
   "cell_type": "code",
   "execution_count": 14,
   "metadata": {
    "collapsed": false
   },
   "outputs": [],
   "source": [
    "for x in ['weekYearIDPrice','weekYearIDSales']:\n",
    "    train[x] = np.log(train[x] + 10)\n",
    "    test[x] = np.log(test[x]+10)"
   ]
  },
  {
   "cell_type": "code",
   "execution_count": 15,
   "metadata": {
    "collapsed": true,
    "deletable": true,
    "editable": true
   },
   "outputs": [],
   "source": [
    "cols_to_use = ['Category_3','Category_2','Category_1','dayofweek','weekyear',\\\n",
    "              'dayofmonth','month','item_count','weekYearIDPrice','weekYearIDSales']"
   ]
  },
  {
   "cell_type": "markdown",
   "metadata": {
    "deletable": true,
    "editable": true
   },
   "source": [
    "### validation data"
   ]
  },
  {
   "cell_type": "code",
   "execution_count": 16,
   "metadata": {
    "collapsed": true,
    "deletable": true,
    "editable": true
   },
   "outputs": [],
   "source": [
    "train_X = train.loc[(train['Datetime'] < \"2016-01-01\") & (train['Datetime'] >= \"2015-01-01\")]\n",
    "valid_X = train.loc[train['Datetime'] >= '2016-01-01']"
   ]
  },
  {
   "cell_type": "code",
   "execution_count": 17,
   "metadata": {
    "collapsed": false,
    "deletable": true,
    "editable": true
   },
   "outputs": [
    {
     "name": "stderr",
     "output_type": "stream",
     "text": [
      "/home/manish/anaconda2/envs/package15/lib/python2.7/site-packages/sklearn/cross_validation.py:44: DeprecationWarning: This module was deprecated in version 0.18 in favor of the model_selection module into which all the refactored classes and functions are moved. Also note that the interface of the new CV iterators are different from that of this module. This module will be removed in 0.20.\n",
      "  \"This module will be removed in 0.20.\", DeprecationWarning)\n"
     ]
    }
   ],
   "source": [
    "import xgboost as xgb"
   ]
  },
  {
   "cell_type": "code",
   "execution_count": 18,
   "metadata": {
    "collapsed": true,
    "deletable": true,
    "editable": true
   },
   "outputs": [],
   "source": [
    "dtrain1 = xgb.DMatrix(data=train_X[cols_to_use], label = np.log1p(train_X['Price']))\n",
    "dvalid1 = xgb.DMatrix(data=valid_X[cols_to_use], label = np.log1p(valid_X['Price']))\n",
    "\n",
    "dtrain2 = xgb.DMatrix(data=train_X[cols_to_use], label = np.log1p(train_X['Number_Of_Sales']))\n",
    "dvalid2 = xgb.DMatrix(data=valid_X[cols_to_use], label = np.log1p(valid_X['Number_Of_Sales']))"
   ]
  },
  {
   "cell_type": "code",
   "execution_count": 19,
   "metadata": {
    "collapsed": true,
    "deletable": true,
    "editable": true
   },
   "outputs": [],
   "source": [
    "dtest = xgb.DMatrix(data=test[cols_to_use])"
   ]
  },
  {
   "cell_type": "code",
   "execution_count": 20,
   "metadata": {
    "collapsed": true,
    "deletable": true,
    "editable": true
   },
   "outputs": [],
   "source": [
    "xgb_params1 = {\n",
    "    'colsample_bytree': 1,\n",
    "    'subsample': 1,\n",
    "    'eta': 0.1,\n",
    "    'objective': 'reg:linear',\n",
    "    'max_depth': 6,\n",
    "    'min_child_weight': 10,\n",
    "    'eval_metric': 'rmse',\n",
    "    'alpha':8\n",
    "}\n",
    "\n",
    "xgb_params2 = {\n",
    "    'colsample_bytree': 1,\n",
    "    'subsample': 1,\n",
    "    'eta': 0.1,\n",
    "    'objective': 'reg:linear',\n",
    "    'max_depth': 6,\n",
    "    'min_child_weight': 0,\n",
    "    'eval_metric': 'rmse',\n",
    "    'alpha':8\n",
    "}\n",
    "watchlist1  = [ (dtrain1,'train'),(dvalid1,'valid')]\n",
    "watchlist2  = [ (dtrain2,'train'),(dvalid2,'valid')]\n"
   ]
  },
  {
   "cell_type": "code",
   "execution_count": 21,
   "metadata": {
    "collapsed": false,
    "deletable": true,
    "editable": true
   },
   "outputs": [
    {
     "name": "stdout",
     "output_type": "stream",
     "text": [
      "[0]\ttrain-rmse:0.979616\tvalid-rmse:0.957112\n",
      "Multiple eval metrics have been passed: 'valid-rmse' will be used for early stopping.\n",
      "\n",
      "Will train until valid-rmse hasn't improved in 40 rounds.\n",
      "[20]\ttrain-rmse:0.202263\tvalid-rmse:0.253519\n",
      "[40]\ttrain-rmse:0.147433\tvalid-rmse:0.295611\n",
      "[60]\ttrain-rmse:0.136245\tvalid-rmse:0.363534\n",
      "Stopping. Best iteration:\n",
      "[23]\ttrain-rmse:0.183221\tvalid-rmse:0.251212\n",
      "\n"
     ]
    }
   ],
   "source": [
    "bst1 = xgb.train(xgb_params1, dtrain1, 1000, watchlist1, early_stopping_rounds=40, verbose_eval=20)"
   ]
  },
  {
   "cell_type": "code",
   "execution_count": 22,
   "metadata": {
    "collapsed": true,
    "deletable": true,
    "editable": true
   },
   "outputs": [],
   "source": [
    "bstpred1 = bst1.predict(dtest)\n",
    "bstpred1 = np.exp(bstpred1)-1"
   ]
  },
  {
   "cell_type": "code",
   "execution_count": 23,
   "metadata": {
    "collapsed": false,
    "deletable": true,
    "editable": true
   },
   "outputs": [
    {
     "name": "stdout",
     "output_type": "stream",
     "text": [
      "[0]\ttrain-rmse:4.91088\tvalid-rmse:4.51773\n",
      "Multiple eval metrics have been passed: 'valid-rmse' will be used for early stopping.\n",
      "\n",
      "Will train until valid-rmse hasn't improved in 40 rounds.\n",
      "[20]\ttrain-rmse:0.719407\tvalid-rmse:0.624172\n",
      "[40]\ttrain-rmse:0.376411\tvalid-rmse:0.701333\n",
      "[60]\ttrain-rmse:0.343445\tvalid-rmse:0.756637\n",
      "Stopping. Best iteration:\n",
      "[24]\ttrain-rmse:0.556766\tvalid-rmse:0.598527\n",
      "\n"
     ]
    }
   ],
   "source": [
    "bst2 = xgb.train(xgb_params2, dtrain2, 1000, watchlist2, early_stopping_rounds=40, verbose_eval=20)"
   ]
  },
  {
   "cell_type": "code",
   "execution_count": 24,
   "metadata": {
    "collapsed": true,
    "deletable": true,
    "editable": true
   },
   "outputs": [],
   "source": [
    "bstpred2 = bst2.predict(dtest)\n",
    "bstpred2 = np.exp(bstpred2)-1"
   ]
  },
  {
   "cell_type": "code",
   "execution_count": 25,
   "metadata": {
    "collapsed": true,
    "deletable": true,
    "editable": true
   },
   "outputs": [],
   "source": [
    "subpy6 = pd.DataFrame({'ID':test['ID'], 'Price':bstpred1, 'Number_Of_Sales':bstpred2})\n",
    "subpy6.to_csv(\"subpy6.csv\", index=False) # 0.71"
   ]
  },
  {
   "cell_type": "markdown",
   "metadata": {},
   "source": [
    "### trying time series cross validation"
   ]
  },
  {
   "cell_type": "code",
   "execution_count": 32,
   "metadata": {
    "collapsed": true
   },
   "outputs": [],
   "source": [
    "from sklearn.model_selection import TimeSeriesSplit\n",
    "from sklearn.metrics import mean_squared_error"
   ]
  },
  {
   "cell_type": "code",
   "execution_count": 28,
   "metadata": {
    "collapsed": true
   },
   "outputs": [],
   "source": [
    "from sklearn.linear_model import Ridge,RidgeCV\n",
    "aps = [0.001,0.01,0.1,0.5,0.3,0.05,2,5,7,8,10,15,20,30,40]"
   ]
  },
  {
   "cell_type": "code",
   "execution_count": 29,
   "metadata": {
    "collapsed": true
   },
   "outputs": [],
   "source": [
    "r1 = RidgeCV(alphas=aps)"
   ]
  },
  {
   "cell_type": "code",
   "execution_count": 30,
   "metadata": {
    "collapsed": false
   },
   "outputs": [
    {
     "data": {
      "text/plain": [
       "RidgeCV(alphas=[0.001, 0.01, 0.1, 0.5, 0.3, 0.05, 2, 5, 7, 8, 10, 15, 20, 30, 40],\n",
       "    cv=None, fit_intercept=True, gcv_mode=None, normalize=False,\n",
       "    scoring=None, store_cv_values=False)"
      ]
     },
     "execution_count": 30,
     "metadata": {},
     "output_type": "execute_result"
    }
   ],
   "source": [
    "r1.fit(train_X[cols_to_use], np.log1p(train_X['Price']))"
   ]
  },
  {
   "cell_type": "code",
   "execution_count": 31,
   "metadata": {
    "collapsed": false
   },
   "outputs": [
    {
     "data": {
      "text/plain": [
       "2.0"
      ]
     },
     "execution_count": 31,
     "metadata": {},
     "output_type": "execute_result"
    }
   ],
   "source": [
    "r1.alpha_"
   ]
  },
  {
   "cell_type": "markdown",
   "metadata": {},
   "source": [
    "### Price"
   ]
  },
  {
   "cell_type": "code",
   "execution_count": 33,
   "metadata": {
    "collapsed": false
   },
   "outputs": [
    {
     "data": {
      "text/plain": [
       "78.561621222499667"
      ]
     },
     "execution_count": 33,
     "metadata": {},
     "output_type": "execute_result"
    }
   ],
   "source": [
    "r1tr = Ridge(alpha=2)\n",
    "r1tr.fit(train_X[cols_to_use], np.log1p(train_X['Price']))\n",
    "r1pred = r1tr.predict(valid_X[cols_to_use])\n",
    "r1pred = np.exp(r1pred)-1\n",
    "np.sqrt(mean_squared_error(valid_X['Price'], r1pred))"
   ]
  },
  {
   "cell_type": "code",
   "execution_count": 34,
   "metadata": {
    "collapsed": true
   },
   "outputs": [],
   "source": [
    "r1tr = Ridge(alpha=2)\n",
    "r1tr.fit(train[cols_to_use], np.log1p(train['Price']))\n",
    "r1pred = r1tr.predict(test[cols_to_use])\n",
    "r1pred = np.exp(r1pred)-1"
   ]
  },
  {
   "cell_type": "markdown",
   "metadata": {},
   "source": [
    "### Number Of Sales"
   ]
  },
  {
   "cell_type": "code",
   "execution_count": 36,
   "metadata": {
    "collapsed": false
   },
   "outputs": [
    {
     "data": {
      "text/plain": [
       "0.050000000000000003"
      ]
     },
     "execution_count": 36,
     "metadata": {},
     "output_type": "execute_result"
    }
   ],
   "source": [
    "r1.fit(train_X[cols_to_use], np.log1p(train_X['Number_Of_Sales']))\n",
    "r1.alpha_"
   ]
  },
  {
   "cell_type": "code",
   "execution_count": 38,
   "metadata": {
    "collapsed": false
   },
   "outputs": [
    {
     "data": {
      "text/plain": [
       "21084.854336772052"
      ]
     },
     "execution_count": 38,
     "metadata": {},
     "output_type": "execute_result"
    }
   ],
   "source": [
    "r1tr = Ridge(alpha=r1.alpha_)\n",
    "r1tr.fit(train_X[cols_to_use], np.log1p(train_X['Number_Of_Sales']))\n",
    "r2pred = r1tr.predict(valid_X[cols_to_use])\n",
    "r2pred = np.exp(r2pred)-1\n",
    "np.sqrt(mean_squared_error(valid_X['Price'], r2pred))"
   ]
  },
  {
   "cell_type": "code",
   "execution_count": 39,
   "metadata": {
    "collapsed": true
   },
   "outputs": [],
   "source": [
    "r1tr = Ridge(alpha=r1.alpha_)\n",
    "r1tr.fit(train[cols_to_use], np.log1p(train['Number_Of_Sales']))\n",
    "r2pred = r1tr.predict(test[cols_to_use])\n",
    "r2pred = np.exp(r2pred)-1"
   ]
  },
  {
   "cell_type": "code",
   "execution_count": 40,
   "metadata": {
    "collapsed": true
   },
   "outputs": [],
   "source": [
    "subpy7 = pd.DataFrame({'ID':test['ID'], 'Price': r1pred, 'Number_Of_Sales': r2pred})\n",
    "subpy7.to_csv(\"subpy7.csv\", index=False)"
   ]
  },
  {
   "cell_type": "markdown",
   "metadata": {},
   "source": [
    "### Ensemble  - Ridge + XGB"
   ]
  },
  {
   "cell_type": "code",
   "execution_count": 49,
   "metadata": {
    "collapsed": true
   },
   "outputs": [],
   "source": [
    "price_med = (bstpred1 + r1pred)/2\n",
    "sales_med = (bstpred2 + r2pred) /2\n",
    "\n",
    "subpy8 = pd.DataFrame({'ID':test.ID, 'Price': price_med, 'Number_Of_Sales':sales_med})"
   ]
  },
  {
   "cell_type": "code",
   "execution_count": 50,
   "metadata": {
    "collapsed": false
   },
   "outputs": [
    {
     "data": {
      "text/html": [
       "<div>\n",
       "<table border=\"1\" class=\"dataframe\">\n",
       "  <thead>\n",
       "    <tr style=\"text-align: right;\">\n",
       "      <th></th>\n",
       "      <th>ID</th>\n",
       "      <th>Number_Of_Sales</th>\n",
       "      <th>Price</th>\n",
       "    </tr>\n",
       "  </thead>\n",
       "  <tbody>\n",
       "    <tr>\n",
       "      <th>0</th>\n",
       "      <td>30413_20160701</td>\n",
       "      <td>5.435264</td>\n",
       "      <td>298.529892</td>\n",
       "    </tr>\n",
       "    <tr>\n",
       "      <th>1</th>\n",
       "      <td>30413_20160702</td>\n",
       "      <td>5.531651</td>\n",
       "      <td>298.488183</td>\n",
       "    </tr>\n",
       "    <tr>\n",
       "      <th>2</th>\n",
       "      <td>30413_20160703</td>\n",
       "      <td>5.630794</td>\n",
       "      <td>297.922312</td>\n",
       "    </tr>\n",
       "    <tr>\n",
       "      <th>3</th>\n",
       "      <td>30413_20160704</td>\n",
       "      <td>4.824356</td>\n",
       "      <td>339.711178</td>\n",
       "    </tr>\n",
       "    <tr>\n",
       "      <th>4</th>\n",
       "      <td>30413_20160705</td>\n",
       "      <td>4.906677</td>\n",
       "      <td>339.662137</td>\n",
       "    </tr>\n",
       "  </tbody>\n",
       "</table>\n",
       "</div>"
      ],
      "text/plain": [
       "               ID  Number_Of_Sales       Price\n",
       "0  30413_20160701         5.435264  298.529892\n",
       "1  30413_20160702         5.531651  298.488183\n",
       "2  30413_20160703         5.630794  297.922312\n",
       "3  30413_20160704         4.824356  339.711178\n",
       "4  30413_20160705         4.906677  339.662137"
      ]
     },
     "execution_count": 50,
     "metadata": {},
     "output_type": "execute_result"
    }
   ],
   "source": [
    "subpy8.head()"
   ]
  },
  {
   "cell_type": "code",
   "execution_count": 51,
   "metadata": {
    "collapsed": false
   },
   "outputs": [],
   "source": [
    "subpy8.to_csv(\"subpy8.csv\",index=False) #3.something"
   ]
  },
  {
   "cell_type": "markdown",
   "metadata": {},
   "source": [
    "### trying xgboost with one hot encoded Category 2 and Category 1"
   ]
  },
  {
   "cell_type": "code",
   "execution_count": 88,
   "metadata": {
    "collapsed": true
   },
   "outputs": [],
   "source": [
    "cat1 = pd.get_dummies(test['Category_1'],prefix='cat1_')"
   ]
  },
  {
   "cell_type": "code",
   "execution_count": 89,
   "metadata": {
    "collapsed": false
   },
   "outputs": [],
   "source": [
    "sumlist = cat1.sum()\n",
    "sumlist = sumlist[sumlist > 1000]\n",
    "keepcols = sumlist.index.values"
   ]
  },
  {
   "cell_type": "code",
   "execution_count": 90,
   "metadata": {
    "collapsed": false
   },
   "outputs": [
    {
     "name": "stdout",
     "output_type": "stream",
     "text": [
      "(266248, 327)\n"
     ]
    }
   ],
   "source": [
    "print cat1.shape"
   ]
  },
  {
   "cell_type": "code",
   "execution_count": 91,
   "metadata": {
    "collapsed": true
   },
   "outputs": [],
   "source": [
    "cat1 = cat1[keepcols]"
   ]
  },
  {
   "cell_type": "code",
   "execution_count": 92,
   "metadata": {
    "collapsed": false
   },
   "outputs": [
    {
     "name": "stdout",
     "output_type": "stream",
     "text": [
      "(266248, 66)\n"
     ]
    }
   ],
   "source": [
    "print cat1.shape"
   ]
  },
  {
   "cell_type": "code",
   "execution_count": 93,
   "metadata": {
    "collapsed": true
   },
   "outputs": [],
   "source": [
    "cat2 = pd.get_dummies(train['Category_1'],prefix='cat1_')"
   ]
  },
  {
   "cell_type": "code",
   "execution_count": 94,
   "metadata": {
    "collapsed": false
   },
   "outputs": [
    {
     "name": "stdout",
     "output_type": "stream",
     "text": [
      "(881871, 359)\n"
     ]
    }
   ],
   "source": [
    "print cat2.shape"
   ]
  },
  {
   "cell_type": "code",
   "execution_count": 95,
   "metadata": {
    "collapsed": false
   },
   "outputs": [],
   "source": [
    "cat2 = cat2[keepcols]"
   ]
  },
  {
   "cell_type": "code",
   "execution_count": 96,
   "metadata": {
    "collapsed": true
   },
   "outputs": [],
   "source": [
    "train = pd.concat([train, cat2], axis=1)\n",
    "test = pd.concat([test,cat1], axis=1)"
   ]
  },
  {
   "cell_type": "code",
   "execution_count": 97,
   "metadata": {
    "collapsed": false
   },
   "outputs": [
    {
     "name": "stdout",
     "output_type": "stream",
     "text": [
      "(881871, 81)\n",
      "(266248, 79)\n"
     ]
    }
   ],
   "source": [
    "print train.shape\n",
    "print test.shape"
   ]
  },
  {
   "cell_type": "code",
   "execution_count": 99,
   "metadata": {
    "collapsed": false
   },
   "outputs": [
    {
     "data": {
      "text/plain": [
       "20"
      ]
     },
     "execution_count": 99,
     "metadata": {},
     "output_type": "execute_result"
    }
   ],
   "source": [
    "pd.get_option(\"display.max_columns\",1000)"
   ]
  },
  {
   "cell_type": "code",
   "execution_count": 104,
   "metadata": {
    "collapsed": false
   },
   "outputs": [],
   "source": [
    "pad1 = pd.get_dummies(test['Category_2'],prefix = 'cat2_')\n",
    "pad2 = pd.get_dummies(train['Category_2'],prefix='cat2_')"
   ]
  },
  {
   "cell_type": "code",
   "execution_count": 108,
   "metadata": {
    "collapsed": true
   },
   "outputs": [],
   "source": [
    "train = pd.concat([train, pad2], axis=1)\n",
    "test = pd.concat([test, pad1], axis=1)"
   ]
  },
  {
   "cell_type": "code",
   "execution_count": 109,
   "metadata": {
    "collapsed": true
   },
   "outputs": [],
   "source": [
    "train.drop(['Category_1','Category_2'],axis=1,inplace=True)\n",
    "test.drop(['Category_1','Category_2'],axis=1,inplace=True)"
   ]
  },
  {
   "cell_type": "markdown",
   "metadata": {},
   "source": [
    "### XGBoost Again"
   ]
  },
  {
   "cell_type": "code",
   "execution_count": 112,
   "metadata": {
    "collapsed": false
   },
   "outputs": [
    {
     "data": {
      "text/plain": [
       "Index([u'ID', u'Item_ID', u'Datetime', u'Category_3', u'Price',\n",
       "       u'Number_Of_Sales', u'item_count', u'dayofweek', u'weekyear',\n",
       "       u'dayofmonth', u'month', u'weekYearIDPrice', u'weekYearIDSales',\n",
       "       u'cat1__0', u'cat1__17', u'cat1__27', u'cat1__35', u'cat1__40',\n",
       "       u'cat1__46', u'cat1__53', u'cat1__56', u'cat1__66', u'cat1__79',\n",
       "       u'cat1__83', u'cat1__90', u'cat1__93', u'cat1__110', u'cat1__114',\n",
       "       u'cat1__117', u'cat1__132', u'cat1__134', u'cat1__137', u'cat1__155',\n",
       "       u'cat1__160', u'cat1__166', u'cat1__173', u'cat1__176', u'cat1__183',\n",
       "       u'cat1__187', u'cat1__188', u'cat1__190', u'cat1__197', u'cat1__206',\n",
       "       u'cat1__222', u'cat1__229', u'cat1__233', u'cat1__235', u'cat1__236',\n",
       "       u'cat1__239', u'cat1__250', u'cat1__251', u'cat1__255', u'cat1__263',\n",
       "       u'cat1__271', u'cat1__274', u'cat1__278', u'cat1__285', u'cat1__294',\n",
       "       u'cat1__297', u'cat1__298', u'cat1__299', u'cat1__307', u'cat1__308',\n",
       "       u'cat1__310', u'cat1__313', u'cat1__317', u'cat1__345', u'cat1__350',\n",
       "       u'cat1__363', u'cat1__365', u'cat1__368', u'cat1__381', u'cat1__382',\n",
       "       u'cat1__383', u'cat1__387', u'cat1__388', u'cat1__404', u'cat1__405',\n",
       "       u'cat1__412', u'cat2__-1.0', u'cat2__1.0', u'cat2__2.0', u'cat2__3.0',\n",
       "       u'cat2__4.0', u'cat2__5.0'],\n",
       "      dtype='object')"
      ]
     },
     "execution_count": 112,
     "metadata": {},
     "output_type": "execute_result"
    }
   ],
   "source": [
    "train.columns"
   ]
  },
  {
   "cell_type": "code",
   "execution_count": 119,
   "metadata": {
    "collapsed": false
   },
   "outputs": [],
   "source": [
    "cols_to_drop = ['ID','Datetime','Category_1','Category_2','Number_Of_Sales','Price']\n",
    "cols_to_use = set(train.columns) - set(cols_to_drop)\n",
    "cols_to_use = list(cols_to_use)"
   ]
  },
  {
   "cell_type": "code",
   "execution_count": 110,
   "metadata": {
    "collapsed": true,
    "deletable": true,
    "editable": true
   },
   "outputs": [],
   "source": [
    "train_X = train.loc[(train['Datetime'] < \"2016-01-01\") & (train['Datetime'] >= \"2014-01-01\")]\n",
    "valid_X = train.loc[train['Datetime'] >= '2016-01-01']"
   ]
  },
  {
   "cell_type": "code",
   "execution_count": 17,
   "metadata": {
    "collapsed": false,
    "deletable": true,
    "editable": true
   },
   "outputs": [
    {
     "name": "stderr",
     "output_type": "stream",
     "text": [
      "/home/manish/anaconda2/envs/package15/lib/python2.7/site-packages/sklearn/cross_validation.py:44: DeprecationWarning: This module was deprecated in version 0.18 in favor of the model_selection module into which all the refactored classes and functions are moved. Also note that the interface of the new CV iterators are different from that of this module. This module will be removed in 0.20.\n",
      "  \"This module will be removed in 0.20.\", DeprecationWarning)\n"
     ]
    }
   ],
   "source": [
    "import xgboost as xgb"
   ]
  },
  {
   "cell_type": "code",
   "execution_count": 120,
   "metadata": {
    "collapsed": false,
    "deletable": true,
    "editable": true
   },
   "outputs": [],
   "source": [
    "dtrain1 = xgb.DMatrix(data=train_X[cols_to_use], label = np.log1p(train_X['Price']))\n",
    "dvalid1 = xgb.DMatrix(data=valid_X[cols_to_use], label = np.log1p(valid_X['Price']))\n",
    "\n",
    "dtrain2 = xgb.DMatrix(data=train_X[cols_to_use], label = np.log1p(train_X['Number_Of_Sales']))\n",
    "dvalid2 = xgb.DMatrix(data=valid_X[cols_to_use], label = np.log1p(valid_X['Number_Of_Sales']))"
   ]
  },
  {
   "cell_type": "code",
   "execution_count": 121,
   "metadata": {
    "collapsed": true,
    "deletable": true,
    "editable": true
   },
   "outputs": [],
   "source": [
    "dtest = xgb.DMatrix(data=test[cols_to_use])"
   ]
  },
  {
   "cell_type": "code",
   "execution_count": 122,
   "metadata": {
    "collapsed": true,
    "deletable": true,
    "editable": true
   },
   "outputs": [],
   "source": [
    "xgb_params1 = {\n",
    "    'colsample_bytree': 1,\n",
    "    'subsample': 1,\n",
    "    'eta': 0.1,\n",
    "    'objective': 'reg:linear',\n",
    "    'max_depth': 6,\n",
    "    'min_child_weight': 10,\n",
    "    'eval_metric': 'rmse',\n",
    "    'alpha':8\n",
    "}\n",
    "\n",
    "xgb_params2 = {\n",
    "    'colsample_bytree': 1,\n",
    "    'subsample': 1,\n",
    "    'eta': 0.1,\n",
    "    'objective': 'reg:linear',\n",
    "    'max_depth': 6,\n",
    "    'min_child_weight': 0,\n",
    "    'eval_metric': 'rmse',\n",
    "    'alpha':8\n",
    "}\n",
    "watchlist1  = [ (dtrain1,'train'),(dvalid1,'valid')]\n",
    "watchlist2  = [ (dtrain2,'train'),(dvalid2,'valid')]\n"
   ]
  },
  {
   "cell_type": "code",
   "execution_count": 123,
   "metadata": {
    "collapsed": false,
    "deletable": true,
    "editable": true,
    "scrolled": true
   },
   "outputs": [
    {
     "name": "stdout",
     "output_type": "stream",
     "text": [
      "[0]\ttrain-rmse:0.97562\tvalid-rmse:0.956928\n",
      "Multiple eval metrics have been passed: 'valid-rmse' will be used for early stopping.\n",
      "\n",
      "Will train until valid-rmse hasn't improved in 40 rounds.\n",
      "[20]\ttrain-rmse:0.232811\tvalid-rmse:0.256245\n",
      "[40]\ttrain-rmse:0.194149\tvalid-rmse:0.284187\n",
      "[60]\ttrain-rmse:0.189333\tvalid-rmse:0.335512\n",
      "Stopping. Best iteration:\n",
      "[23]\ttrain-rmse:0.2173\tvalid-rmse:0.253602\n",
      "\n"
     ]
    }
   ],
   "source": [
    "bst1 = xgb.train(xgb_params1, dtrain1, 1000, watchlist1, early_stopping_rounds=40, verbose_eval=20)"
   ]
  },
  {
   "cell_type": "code",
   "execution_count": 124,
   "metadata": {
    "collapsed": true,
    "deletable": true,
    "editable": true
   },
   "outputs": [],
   "source": [
    "bstpred1 = bst1.predict(dtest)\n",
    "bstpred1 = np.exp(bstpred1)-1"
   ]
  },
  {
   "cell_type": "code",
   "execution_count": 125,
   "metadata": {
    "collapsed": false,
    "deletable": true,
    "editable": true
   },
   "outputs": [
    {
     "name": "stdout",
     "output_type": "stream",
     "text": [
      "[0]\ttrain-rmse:4.74344\tvalid-rmse:4.53928\n",
      "Multiple eval metrics have been passed: 'valid-rmse' will be used for early stopping.\n",
      "\n",
      "Will train until valid-rmse hasn't improved in 40 rounds.\n",
      "[20]\ttrain-rmse:0.838146\tvalid-rmse:0.74287\n",
      "[40]\ttrain-rmse:0.596959\tvalid-rmse:0.710569\n",
      "[60]\ttrain-rmse:0.580999\tvalid-rmse:0.760991\n",
      "Stopping. Best iteration:\n",
      "[27]\ttrain-rmse:0.663505\tvalid-rmse:0.664155\n",
      "\n"
     ]
    }
   ],
   "source": [
    "bst2 = xgb.train(xgb_params2, dtrain2, 1000, watchlist2, early_stopping_rounds=40, verbose_eval=20)"
   ]
  },
  {
   "cell_type": "code",
   "execution_count": 126,
   "metadata": {
    "collapsed": true,
    "deletable": true,
    "editable": true
   },
   "outputs": [],
   "source": [
    "bstpred2 = bst2.predict(dtest)\n",
    "bstpred2 = np.exp(bstpred2)-1"
   ]
  },
  {
   "cell_type": "code",
   "execution_count": 127,
   "metadata": {
    "collapsed": true,
    "deletable": true,
    "editable": true
   },
   "outputs": [],
   "source": [
    "subpy9 = pd.DataFrame({'ID':test['ID'], 'Price':bstpred1, 'Number_Of_Sales':bstpred2})\n",
    "subpy9.to_csv(\"subpy9.csv\", index=False) #0.92"
   ]
  },
  {
   "cell_type": "markdown",
   "metadata": {},
   "source": [
    "### lag features try"
   ]
  },
  {
   "cell_type": "code",
   "execution_count": 172,
   "metadata": {
    "collapsed": true
   },
   "outputs": [],
   "source": [
    "train = pd.read_csv('train.csv',parse_dates=['Datetime'])\n",
    "test = pd.read_csv('test.csv',parse_dates=['Datetime'])"
   ]
  },
  {
   "cell_type": "code",
   "execution_count": 173,
   "metadata": {
    "collapsed": true
   },
   "outputs": [],
   "source": [
    "max_date = test['Datetime'].max()\n",
    "min_date = train['Datetime'].min()\n",
    "days = (max_date - min_date).days + 1"
   ]
  },
  {
   "cell_type": "code",
   "execution_count": 174,
   "metadata": {
    "collapsed": true
   },
   "outputs": [],
   "source": [
    "import datetime"
   ]
  },
  {
   "cell_type": "code",
   "execution_count": 175,
   "metadata": {
    "collapsed": true
   },
   "outputs": [],
   "source": [
    "#Master list of dates\n",
    "dates = [min_date + datetime.timedelta(days=x) for x in range(days)]"
   ]
  },
  {
   "cell_type": "code",
   "execution_count": 176,
   "metadata": {
    "collapsed": true
   },
   "outputs": [],
   "source": [
    "# Master list of Items\n",
    "unique_items = list(set(train['Item_ID'].unique()) | set(test['Item_ID'].unique()))\n",
    "unique_items.sort()\n",
    "num_unique_items = len(unique_items)"
   ]
  },
  {
   "cell_type": "code",
   "execution_count": 177,
   "metadata": {
    "collapsed": true
   },
   "outputs": [],
   "source": [
    "date_index = np.repeat(dates, num_unique_items)"
   ]
  },
  {
   "cell_type": "code",
   "execution_count": 178,
   "metadata": {
    "collapsed": true
   },
   "outputs": [],
   "source": [
    "item_index = np.concatenate([unique_items]* days)"
   ]
  },
  {
   "cell_type": "code",
   "execution_count": 179,
   "metadata": {
    "collapsed": true
   },
   "outputs": [],
   "source": [
    "row_count = days * len(unique_items)"
   ]
  },
  {
   "cell_type": "code",
   "execution_count": 180,
   "metadata": {
    "collapsed": false
   },
   "outputs": [],
   "source": [
    "train_test_master = pd.DataFrame(index=range(row_count), columns=train.columns)"
   ]
  },
  {
   "cell_type": "code",
   "execution_count": 181,
   "metadata": {
    "collapsed": false
   },
   "outputs": [],
   "source": [
    "train_test_master['Datetime'] = date_index\n",
    "train_test_master['Item_ID'] = item_index"
   ]
  },
  {
   "cell_type": "code",
   "execution_count": 182,
   "metadata": {
    "collapsed": false
   },
   "outputs": [],
   "source": [
    "train_test_master.set_index(['Datetime', 'Item_ID'], drop=True, inplace=True)\n",
    "train.set_index(['Datetime', 'Item_ID'], drop=True, inplace=True)\n",
    "test.set_index(['Datetime', 'Item_ID'], drop=True, inplace=True)"
   ]
  },
  {
   "cell_type": "code",
   "execution_count": 183,
   "metadata": {
    "collapsed": true
   },
   "outputs": [],
   "source": [
    "# Update the master index with train and test\n",
    "train_test_master.update(train)\n",
    "train_test_master.update(test)"
   ]
  },
  {
   "cell_type": "code",
   "execution_count": 165,
   "metadata": {
    "collapsed": false
   },
   "outputs": [
    {
     "data": {
      "text/html": [
       "<div>\n",
       "<table border=\"1\" class=\"dataframe\">\n",
       "  <thead>\n",
       "    <tr style=\"text-align: right;\">\n",
       "      <th></th>\n",
       "      <th></th>\n",
       "      <th>ID</th>\n",
       "      <th>Category_3</th>\n",
       "      <th>Category_2</th>\n",
       "      <th>Category_1</th>\n",
       "      <th>Price</th>\n",
       "      <th>Number_Of_Sales</th>\n",
       "    </tr>\n",
       "    <tr>\n",
       "      <th>Datetime</th>\n",
       "      <th>Item_ID</th>\n",
       "      <th></th>\n",
       "      <th></th>\n",
       "      <th></th>\n",
       "      <th></th>\n",
       "      <th></th>\n",
       "      <th></th>\n",
       "    </tr>\n",
       "  </thead>\n",
       "  <tbody>\n",
       "    <tr>\n",
       "      <th rowspan=\"30\" valign=\"top\">2014-01-01</th>\n",
       "      <th>29654</th>\n",
       "      <td>NaN</td>\n",
       "      <td>NaN</td>\n",
       "      <td>NaN</td>\n",
       "      <td>NaN</td>\n",
       "      <td>NaN</td>\n",
       "      <td>NaN</td>\n",
       "    </tr>\n",
       "    <tr>\n",
       "      <th>29655</th>\n",
       "      <td>NaN</td>\n",
       "      <td>NaN</td>\n",
       "      <td>NaN</td>\n",
       "      <td>NaN</td>\n",
       "      <td>NaN</td>\n",
       "      <td>NaN</td>\n",
       "    </tr>\n",
       "    <tr>\n",
       "      <th>29656</th>\n",
       "      <td>NaN</td>\n",
       "      <td>NaN</td>\n",
       "      <td>NaN</td>\n",
       "      <td>NaN</td>\n",
       "      <td>NaN</td>\n",
       "      <td>NaN</td>\n",
       "    </tr>\n",
       "    <tr>\n",
       "      <th>29657</th>\n",
       "      <td>NaN</td>\n",
       "      <td>NaN</td>\n",
       "      <td>NaN</td>\n",
       "      <td>NaN</td>\n",
       "      <td>NaN</td>\n",
       "      <td>NaN</td>\n",
       "    </tr>\n",
       "    <tr>\n",
       "      <th>29658</th>\n",
       "      <td>NaN</td>\n",
       "      <td>NaN</td>\n",
       "      <td>NaN</td>\n",
       "      <td>NaN</td>\n",
       "      <td>NaN</td>\n",
       "      <td>NaN</td>\n",
       "    </tr>\n",
       "    <tr>\n",
       "      <th>29661</th>\n",
       "      <td>29661_20140101</td>\n",
       "      <td>0</td>\n",
       "      <td>2</td>\n",
       "      <td>379</td>\n",
       "      <td>0.122</td>\n",
       "      <td>747</td>\n",
       "    </tr>\n",
       "    <tr>\n",
       "      <th>29662</th>\n",
       "      <td>29662_20140101</td>\n",
       "      <td>0</td>\n",
       "      <td>NaN</td>\n",
       "      <td>0</td>\n",
       "      <td>1.649</td>\n",
       "      <td>33060</td>\n",
       "    </tr>\n",
       "    <tr>\n",
       "      <th>29664</th>\n",
       "      <td>NaN</td>\n",
       "      <td>NaN</td>\n",
       "      <td>NaN</td>\n",
       "      <td>NaN</td>\n",
       "      <td>NaN</td>\n",
       "      <td>NaN</td>\n",
       "    </tr>\n",
       "    <tr>\n",
       "      <th>29666</th>\n",
       "      <td>NaN</td>\n",
       "      <td>NaN</td>\n",
       "      <td>NaN</td>\n",
       "      <td>NaN</td>\n",
       "      <td>NaN</td>\n",
       "      <td>NaN</td>\n",
       "    </tr>\n",
       "    <tr>\n",
       "      <th>29667</th>\n",
       "      <td>29667_20140101</td>\n",
       "      <td>0</td>\n",
       "      <td>2</td>\n",
       "      <td>221</td>\n",
       "      <td>1.256</td>\n",
       "      <td>37</td>\n",
       "    </tr>\n",
       "    <tr>\n",
       "      <th>29668</th>\n",
       "      <td>NaN</td>\n",
       "      <td>NaN</td>\n",
       "      <td>NaN</td>\n",
       "      <td>NaN</td>\n",
       "      <td>NaN</td>\n",
       "      <td>NaN</td>\n",
       "    </tr>\n",
       "    <tr>\n",
       "      <th>29669</th>\n",
       "      <td>NaN</td>\n",
       "      <td>NaN</td>\n",
       "      <td>NaN</td>\n",
       "      <td>NaN</td>\n",
       "      <td>NaN</td>\n",
       "      <td>NaN</td>\n",
       "    </tr>\n",
       "    <tr>\n",
       "      <th>29670</th>\n",
       "      <td>NaN</td>\n",
       "      <td>NaN</td>\n",
       "      <td>NaN</td>\n",
       "      <td>NaN</td>\n",
       "      <td>NaN</td>\n",
       "      <td>NaN</td>\n",
       "    </tr>\n",
       "    <tr>\n",
       "      <th>29671</th>\n",
       "      <td>29671_20140101</td>\n",
       "      <td>0</td>\n",
       "      <td>1</td>\n",
       "      <td>236</td>\n",
       "      <td>2.1</td>\n",
       "      <td>46</td>\n",
       "    </tr>\n",
       "    <tr>\n",
       "      <th>29672</th>\n",
       "      <td>NaN</td>\n",
       "      <td>NaN</td>\n",
       "      <td>NaN</td>\n",
       "      <td>NaN</td>\n",
       "      <td>NaN</td>\n",
       "      <td>NaN</td>\n",
       "    </tr>\n",
       "    <tr>\n",
       "      <th>29673</th>\n",
       "      <td>NaN</td>\n",
       "      <td>NaN</td>\n",
       "      <td>NaN</td>\n",
       "      <td>NaN</td>\n",
       "      <td>NaN</td>\n",
       "      <td>NaN</td>\n",
       "    </tr>\n",
       "    <tr>\n",
       "      <th>29674</th>\n",
       "      <td>NaN</td>\n",
       "      <td>NaN</td>\n",
       "      <td>NaN</td>\n",
       "      <td>NaN</td>\n",
       "      <td>NaN</td>\n",
       "      <td>NaN</td>\n",
       "    </tr>\n",
       "    <tr>\n",
       "      <th>29675</th>\n",
       "      <td>NaN</td>\n",
       "      <td>NaN</td>\n",
       "      <td>NaN</td>\n",
       "      <td>NaN</td>\n",
       "      <td>NaN</td>\n",
       "      <td>NaN</td>\n",
       "    </tr>\n",
       "    <tr>\n",
       "      <th>29676</th>\n",
       "      <td>NaN</td>\n",
       "      <td>NaN</td>\n",
       "      <td>NaN</td>\n",
       "      <td>NaN</td>\n",
       "      <td>NaN</td>\n",
       "      <td>NaN</td>\n",
       "    </tr>\n",
       "    <tr>\n",
       "      <th>29677</th>\n",
       "      <td>NaN</td>\n",
       "      <td>NaN</td>\n",
       "      <td>NaN</td>\n",
       "      <td>NaN</td>\n",
       "      <td>NaN</td>\n",
       "      <td>NaN</td>\n",
       "    </tr>\n",
       "    <tr>\n",
       "      <th>29678</th>\n",
       "      <td>NaN</td>\n",
       "      <td>NaN</td>\n",
       "      <td>NaN</td>\n",
       "      <td>NaN</td>\n",
       "      <td>NaN</td>\n",
       "      <td>NaN</td>\n",
       "    </tr>\n",
       "    <tr>\n",
       "      <th>29679</th>\n",
       "      <td>NaN</td>\n",
       "      <td>NaN</td>\n",
       "      <td>NaN</td>\n",
       "      <td>NaN</td>\n",
       "      <td>NaN</td>\n",
       "      <td>NaN</td>\n",
       "    </tr>\n",
       "    <tr>\n",
       "      <th>29683</th>\n",
       "      <td>29683_20140101</td>\n",
       "      <td>0</td>\n",
       "      <td>2</td>\n",
       "      <td>310</td>\n",
       "      <td>0.03</td>\n",
       "      <td>558</td>\n",
       "    </tr>\n",
       "    <tr>\n",
       "      <th>29684</th>\n",
       "      <td>NaN</td>\n",
       "      <td>NaN</td>\n",
       "      <td>NaN</td>\n",
       "      <td>NaN</td>\n",
       "      <td>NaN</td>\n",
       "      <td>NaN</td>\n",
       "    </tr>\n",
       "    <tr>\n",
       "      <th>29685</th>\n",
       "      <td>NaN</td>\n",
       "      <td>NaN</td>\n",
       "      <td>NaN</td>\n",
       "      <td>NaN</td>\n",
       "      <td>NaN</td>\n",
       "      <td>NaN</td>\n",
       "    </tr>\n",
       "    <tr>\n",
       "      <th>29686</th>\n",
       "      <td>29686_20140101</td>\n",
       "      <td>0</td>\n",
       "      <td>4</td>\n",
       "      <td>382</td>\n",
       "      <td>0.172</td>\n",
       "      <td>80</td>\n",
       "    </tr>\n",
       "    <tr>\n",
       "      <th>29687</th>\n",
       "      <td>NaN</td>\n",
       "      <td>NaN</td>\n",
       "      <td>NaN</td>\n",
       "      <td>NaN</td>\n",
       "      <td>NaN</td>\n",
       "      <td>NaN</td>\n",
       "    </tr>\n",
       "    <tr>\n",
       "      <th>29688</th>\n",
       "      <td>NaN</td>\n",
       "      <td>NaN</td>\n",
       "      <td>NaN</td>\n",
       "      <td>NaN</td>\n",
       "      <td>NaN</td>\n",
       "      <td>NaN</td>\n",
       "    </tr>\n",
       "    <tr>\n",
       "      <th>29689</th>\n",
       "      <td>NaN</td>\n",
       "      <td>NaN</td>\n",
       "      <td>NaN</td>\n",
       "      <td>NaN</td>\n",
       "      <td>NaN</td>\n",
       "      <td>NaN</td>\n",
       "    </tr>\n",
       "    <tr>\n",
       "      <th>29691</th>\n",
       "      <td>NaN</td>\n",
       "      <td>NaN</td>\n",
       "      <td>NaN</td>\n",
       "      <td>NaN</td>\n",
       "      <td>NaN</td>\n",
       "      <td>NaN</td>\n",
       "    </tr>\n",
       "    <tr>\n",
       "      <th>...</th>\n",
       "      <th>...</th>\n",
       "      <td>...</td>\n",
       "      <td>...</td>\n",
       "      <td>...</td>\n",
       "      <td>...</td>\n",
       "      <td>...</td>\n",
       "      <td>...</td>\n",
       "    </tr>\n",
       "    <tr>\n",
       "      <th rowspan=\"30\" valign=\"top\">2016-12-31</th>\n",
       "      <th>31345</th>\n",
       "      <td>31345_20161231</td>\n",
       "      <td>1</td>\n",
       "      <td>1</td>\n",
       "      <td>296</td>\n",
       "      <td>NaN</td>\n",
       "      <td>NaN</td>\n",
       "    </tr>\n",
       "    <tr>\n",
       "      <th>31346</th>\n",
       "      <td>31346_20161231</td>\n",
       "      <td>1</td>\n",
       "      <td>1</td>\n",
       "      <td>349</td>\n",
       "      <td>NaN</td>\n",
       "      <td>NaN</td>\n",
       "    </tr>\n",
       "    <tr>\n",
       "      <th>31347</th>\n",
       "      <td>31347_20161231</td>\n",
       "      <td>0</td>\n",
       "      <td>2</td>\n",
       "      <td>35</td>\n",
       "      <td>NaN</td>\n",
       "      <td>NaN</td>\n",
       "    </tr>\n",
       "    <tr>\n",
       "      <th>31348</th>\n",
       "      <td>31348_20161231</td>\n",
       "      <td>0</td>\n",
       "      <td>NaN</td>\n",
       "      <td>0</td>\n",
       "      <td>NaN</td>\n",
       "      <td>NaN</td>\n",
       "    </tr>\n",
       "    <tr>\n",
       "      <th>31349</th>\n",
       "      <td>31349_20161231</td>\n",
       "      <td>0</td>\n",
       "      <td>3</td>\n",
       "      <td>173</td>\n",
       "      <td>NaN</td>\n",
       "      <td>NaN</td>\n",
       "    </tr>\n",
       "    <tr>\n",
       "      <th>31351</th>\n",
       "      <td>31351_20161231</td>\n",
       "      <td>0</td>\n",
       "      <td>2</td>\n",
       "      <td>123</td>\n",
       "      <td>NaN</td>\n",
       "      <td>NaN</td>\n",
       "    </tr>\n",
       "    <tr>\n",
       "      <th>31352</th>\n",
       "      <td>31352_20161231</td>\n",
       "      <td>0</td>\n",
       "      <td>5</td>\n",
       "      <td>257</td>\n",
       "      <td>NaN</td>\n",
       "      <td>NaN</td>\n",
       "    </tr>\n",
       "    <tr>\n",
       "      <th>31353</th>\n",
       "      <td>31353_20161231</td>\n",
       "      <td>0</td>\n",
       "      <td>5</td>\n",
       "      <td>127</td>\n",
       "      <td>NaN</td>\n",
       "      <td>NaN</td>\n",
       "    </tr>\n",
       "    <tr>\n",
       "      <th>31354</th>\n",
       "      <td>31354_20161231</td>\n",
       "      <td>0</td>\n",
       "      <td>5</td>\n",
       "      <td>114</td>\n",
       "      <td>NaN</td>\n",
       "      <td>NaN</td>\n",
       "    </tr>\n",
       "    <tr>\n",
       "      <th>31355</th>\n",
       "      <td>31355_20161231</td>\n",
       "      <td>0</td>\n",
       "      <td>4</td>\n",
       "      <td>93</td>\n",
       "      <td>NaN</td>\n",
       "      <td>NaN</td>\n",
       "    </tr>\n",
       "    <tr>\n",
       "      <th>31356</th>\n",
       "      <td>NaN</td>\n",
       "      <td>NaN</td>\n",
       "      <td>NaN</td>\n",
       "      <td>NaN</td>\n",
       "      <td>NaN</td>\n",
       "      <td>NaN</td>\n",
       "    </tr>\n",
       "    <tr>\n",
       "      <th>31357</th>\n",
       "      <td>31357_20161231</td>\n",
       "      <td>0</td>\n",
       "      <td>2</td>\n",
       "      <td>288</td>\n",
       "      <td>NaN</td>\n",
       "      <td>NaN</td>\n",
       "    </tr>\n",
       "    <tr>\n",
       "      <th>31358</th>\n",
       "      <td>31358_20161231</td>\n",
       "      <td>0</td>\n",
       "      <td>5</td>\n",
       "      <td>338</td>\n",
       "      <td>NaN</td>\n",
       "      <td>NaN</td>\n",
       "    </tr>\n",
       "    <tr>\n",
       "      <th>31359</th>\n",
       "      <td>31359_20161231</td>\n",
       "      <td>1</td>\n",
       "      <td>4</td>\n",
       "      <td>229</td>\n",
       "      <td>NaN</td>\n",
       "      <td>NaN</td>\n",
       "    </tr>\n",
       "    <tr>\n",
       "      <th>31360</th>\n",
       "      <td>31360_20161231</td>\n",
       "      <td>0</td>\n",
       "      <td>NaN</td>\n",
       "      <td>0</td>\n",
       "      <td>NaN</td>\n",
       "      <td>NaN</td>\n",
       "    </tr>\n",
       "    <tr>\n",
       "      <th>31361</th>\n",
       "      <td>31361_20161231</td>\n",
       "      <td>1</td>\n",
       "      <td>3</td>\n",
       "      <td>114</td>\n",
       "      <td>NaN</td>\n",
       "      <td>NaN</td>\n",
       "    </tr>\n",
       "    <tr>\n",
       "      <th>31362</th>\n",
       "      <td>31362_20161231</td>\n",
       "      <td>1</td>\n",
       "      <td>3</td>\n",
       "      <td>117</td>\n",
       "      <td>NaN</td>\n",
       "      <td>NaN</td>\n",
       "    </tr>\n",
       "    <tr>\n",
       "      <th>31363</th>\n",
       "      <td>31363_20161231</td>\n",
       "      <td>0</td>\n",
       "      <td>5</td>\n",
       "      <td>388</td>\n",
       "      <td>NaN</td>\n",
       "      <td>NaN</td>\n",
       "    </tr>\n",
       "    <tr>\n",
       "      <th>31364</th>\n",
       "      <td>31364_20161231</td>\n",
       "      <td>0</td>\n",
       "      <td>2</td>\n",
       "      <td>100</td>\n",
       "      <td>NaN</td>\n",
       "      <td>NaN</td>\n",
       "    </tr>\n",
       "    <tr>\n",
       "      <th>31365</th>\n",
       "      <td>31365_20161231</td>\n",
       "      <td>0</td>\n",
       "      <td>5</td>\n",
       "      <td>229</td>\n",
       "      <td>NaN</td>\n",
       "      <td>NaN</td>\n",
       "    </tr>\n",
       "    <tr>\n",
       "      <th>31366</th>\n",
       "      <td>31366_20161231</td>\n",
       "      <td>0</td>\n",
       "      <td>2</td>\n",
       "      <td>127</td>\n",
       "      <td>NaN</td>\n",
       "      <td>NaN</td>\n",
       "    </tr>\n",
       "    <tr>\n",
       "      <th>31367</th>\n",
       "      <td>31367_20161231</td>\n",
       "      <td>0</td>\n",
       "      <td>5</td>\n",
       "      <td>307</td>\n",
       "      <td>NaN</td>\n",
       "      <td>NaN</td>\n",
       "    </tr>\n",
       "    <tr>\n",
       "      <th>31368</th>\n",
       "      <td>31368_20161231</td>\n",
       "      <td>0</td>\n",
       "      <td>NaN</td>\n",
       "      <td>0</td>\n",
       "      <td>NaN</td>\n",
       "      <td>NaN</td>\n",
       "    </tr>\n",
       "    <tr>\n",
       "      <th>31369</th>\n",
       "      <td>31369_20161231</td>\n",
       "      <td>1</td>\n",
       "      <td>4</td>\n",
       "      <td>383</td>\n",
       "      <td>NaN</td>\n",
       "      <td>NaN</td>\n",
       "    </tr>\n",
       "    <tr>\n",
       "      <th>31370</th>\n",
       "      <td>31370_20161231</td>\n",
       "      <td>0</td>\n",
       "      <td>NaN</td>\n",
       "      <td>0</td>\n",
       "      <td>NaN</td>\n",
       "      <td>NaN</td>\n",
       "    </tr>\n",
       "    <tr>\n",
       "      <th>31371</th>\n",
       "      <td>31371_20161231</td>\n",
       "      <td>0</td>\n",
       "      <td>1</td>\n",
       "      <td>260</td>\n",
       "      <td>NaN</td>\n",
       "      <td>NaN</td>\n",
       "    </tr>\n",
       "    <tr>\n",
       "      <th>31372</th>\n",
       "      <td>31372_20161231</td>\n",
       "      <td>0</td>\n",
       "      <td>4</td>\n",
       "      <td>171</td>\n",
       "      <td>NaN</td>\n",
       "      <td>NaN</td>\n",
       "    </tr>\n",
       "    <tr>\n",
       "      <th>31373</th>\n",
       "      <td>NaN</td>\n",
       "      <td>NaN</td>\n",
       "      <td>NaN</td>\n",
       "      <td>NaN</td>\n",
       "      <td>NaN</td>\n",
       "      <td>NaN</td>\n",
       "    </tr>\n",
       "    <tr>\n",
       "      <th>31374</th>\n",
       "      <td>31374_20161231</td>\n",
       "      <td>0</td>\n",
       "      <td>4</td>\n",
       "      <td>236</td>\n",
       "      <td>NaN</td>\n",
       "      <td>NaN</td>\n",
       "    </tr>\n",
       "    <tr>\n",
       "      <th>31375</th>\n",
       "      <td>31375_20161231</td>\n",
       "      <td>0</td>\n",
       "      <td>5</td>\n",
       "      <td>235</td>\n",
       "      <td>NaN</td>\n",
       "      <td>NaN</td>\n",
       "    </tr>\n",
       "  </tbody>\n",
       "</table>\n",
       "<p>1675784 rows × 6 columns</p>\n",
       "</div>"
      ],
      "text/plain": [
       "                                ID Category_3 Category_2 Category_1  Price  \\\n",
       "Datetime   Item_ID                                                           \n",
       "2014-01-01 29654               NaN        NaN        NaN        NaN    NaN   \n",
       "           29655               NaN        NaN        NaN        NaN    NaN   \n",
       "           29656               NaN        NaN        NaN        NaN    NaN   \n",
       "           29657               NaN        NaN        NaN        NaN    NaN   \n",
       "           29658               NaN        NaN        NaN        NaN    NaN   \n",
       "           29661    29661_20140101          0          2        379  0.122   \n",
       "           29662    29662_20140101          0        NaN          0  1.649   \n",
       "           29664               NaN        NaN        NaN        NaN    NaN   \n",
       "           29666               NaN        NaN        NaN        NaN    NaN   \n",
       "           29667    29667_20140101          0          2        221  1.256   \n",
       "           29668               NaN        NaN        NaN        NaN    NaN   \n",
       "           29669               NaN        NaN        NaN        NaN    NaN   \n",
       "           29670               NaN        NaN        NaN        NaN    NaN   \n",
       "           29671    29671_20140101          0          1        236    2.1   \n",
       "           29672               NaN        NaN        NaN        NaN    NaN   \n",
       "           29673               NaN        NaN        NaN        NaN    NaN   \n",
       "           29674               NaN        NaN        NaN        NaN    NaN   \n",
       "           29675               NaN        NaN        NaN        NaN    NaN   \n",
       "           29676               NaN        NaN        NaN        NaN    NaN   \n",
       "           29677               NaN        NaN        NaN        NaN    NaN   \n",
       "           29678               NaN        NaN        NaN        NaN    NaN   \n",
       "           29679               NaN        NaN        NaN        NaN    NaN   \n",
       "           29683    29683_20140101          0          2        310   0.03   \n",
       "           29684               NaN        NaN        NaN        NaN    NaN   \n",
       "           29685               NaN        NaN        NaN        NaN    NaN   \n",
       "           29686    29686_20140101          0          4        382  0.172   \n",
       "           29687               NaN        NaN        NaN        NaN    NaN   \n",
       "           29688               NaN        NaN        NaN        NaN    NaN   \n",
       "           29689               NaN        NaN        NaN        NaN    NaN   \n",
       "           29691               NaN        NaN        NaN        NaN    NaN   \n",
       "...                            ...        ...        ...        ...    ...   \n",
       "2016-12-31 31345    31345_20161231          1          1        296    NaN   \n",
       "           31346    31346_20161231          1          1        349    NaN   \n",
       "           31347    31347_20161231          0          2         35    NaN   \n",
       "           31348    31348_20161231          0        NaN          0    NaN   \n",
       "           31349    31349_20161231          0          3        173    NaN   \n",
       "           31351    31351_20161231          0          2        123    NaN   \n",
       "           31352    31352_20161231          0          5        257    NaN   \n",
       "           31353    31353_20161231          0          5        127    NaN   \n",
       "           31354    31354_20161231          0          5        114    NaN   \n",
       "           31355    31355_20161231          0          4         93    NaN   \n",
       "           31356               NaN        NaN        NaN        NaN    NaN   \n",
       "           31357    31357_20161231          0          2        288    NaN   \n",
       "           31358    31358_20161231          0          5        338    NaN   \n",
       "           31359    31359_20161231          1          4        229    NaN   \n",
       "           31360    31360_20161231          0        NaN          0    NaN   \n",
       "           31361    31361_20161231          1          3        114    NaN   \n",
       "           31362    31362_20161231          1          3        117    NaN   \n",
       "           31363    31363_20161231          0          5        388    NaN   \n",
       "           31364    31364_20161231          0          2        100    NaN   \n",
       "           31365    31365_20161231          0          5        229    NaN   \n",
       "           31366    31366_20161231          0          2        127    NaN   \n",
       "           31367    31367_20161231          0          5        307    NaN   \n",
       "           31368    31368_20161231          0        NaN          0    NaN   \n",
       "           31369    31369_20161231          1          4        383    NaN   \n",
       "           31370    31370_20161231          0        NaN          0    NaN   \n",
       "           31371    31371_20161231          0          1        260    NaN   \n",
       "           31372    31372_20161231          0          4        171    NaN   \n",
       "           31373               NaN        NaN        NaN        NaN    NaN   \n",
       "           31374    31374_20161231          0          4        236    NaN   \n",
       "           31375    31375_20161231          0          5        235    NaN   \n",
       "\n",
       "                   Number_Of_Sales  \n",
       "Datetime   Item_ID                  \n",
       "2014-01-01 29654               NaN  \n",
       "           29655               NaN  \n",
       "           29656               NaN  \n",
       "           29657               NaN  \n",
       "           29658               NaN  \n",
       "           29661               747  \n",
       "           29662             33060  \n",
       "           29664               NaN  \n",
       "           29666               NaN  \n",
       "           29667                37  \n",
       "           29668               NaN  \n",
       "           29669               NaN  \n",
       "           29670               NaN  \n",
       "           29671                46  \n",
       "           29672               NaN  \n",
       "           29673               NaN  \n",
       "           29674               NaN  \n",
       "           29675               NaN  \n",
       "           29676               NaN  \n",
       "           29677               NaN  \n",
       "           29678               NaN  \n",
       "           29679               NaN  \n",
       "           29683               558  \n",
       "           29684               NaN  \n",
       "           29685               NaN  \n",
       "           29686                80  \n",
       "           29687               NaN  \n",
       "           29688               NaN  \n",
       "           29689               NaN  \n",
       "           29691               NaN  \n",
       "...                            ...  \n",
       "2016-12-31 31345               NaN  \n",
       "           31346               NaN  \n",
       "           31347               NaN  \n",
       "           31348               NaN  \n",
       "           31349               NaN  \n",
       "           31351               NaN  \n",
       "           31352               NaN  \n",
       "           31353               NaN  \n",
       "           31354               NaN  \n",
       "           31355               NaN  \n",
       "           31356               NaN  \n",
       "           31357               NaN  \n",
       "           31358               NaN  \n",
       "           31359               NaN  \n",
       "           31360               NaN  \n",
       "           31361               NaN  \n",
       "           31362               NaN  \n",
       "           31363               NaN  \n",
       "           31364               NaN  \n",
       "           31365               NaN  \n",
       "           31366               NaN  \n",
       "           31367               NaN  \n",
       "           31368               NaN  \n",
       "           31369               NaN  \n",
       "           31370               NaN  \n",
       "           31371               NaN  \n",
       "           31372               NaN  \n",
       "           31373               NaN  \n",
       "           31374               NaN  \n",
       "           31375               NaN  \n",
       "\n",
       "[1675784 rows x 6 columns]"
      ]
     },
     "execution_count": 165,
     "metadata": {},
     "output_type": "execute_result"
    }
   ],
   "source": [
    "train_test_master"
   ]
  },
  {
   "cell_type": "code",
   "execution_count": 184,
   "metadata": {
    "collapsed": false
   },
   "outputs": [
    {
     "ename": "KeyError",
     "evalue": "'Sales'",
     "output_type": "error",
     "traceback": [
      "\u001b[0;31m---------------------------------------------------------------------------\u001b[0m",
      "\u001b[0;31mKeyError\u001b[0m                                  Traceback (most recent call last)",
      "\u001b[0;32m<ipython-input-184-7e44c437fff1>\u001b[0m in \u001b[0;36m<module>\u001b[0;34m()\u001b[0m\n\u001b[1;32m      1\u001b[0m \u001b[0;31m# 1 day lag\u001b[0m\u001b[0;34m\u001b[0m\u001b[0;34m\u001b[0m\u001b[0m\n\u001b[0;32m----> 2\u001b[0;31m \u001b[0mtrain_test_master\u001b[0m\u001b[0;34m[\u001b[0m\u001b[0;34m'lag_1'\u001b[0m\u001b[0;34m]\u001b[0m \u001b[0;34m=\u001b[0m \u001b[0mtrain_test_master\u001b[0m\u001b[0;34m[\u001b[0m\u001b[0;34m'Sales'\u001b[0m\u001b[0;34m]\u001b[0m\u001b[0;34m.\u001b[0m\u001b[0mshift\u001b[0m\u001b[0;34m(\u001b[0m\u001b[0;34m-\u001b[0m\u001b[0;36m1\u001b[0m\u001b[0;34m*\u001b[0m\u001b[0mNUM_STORES\u001b[0m\u001b[0;34m)\u001b[0m\u001b[0;34m.\u001b[0m\u001b[0mfillna\u001b[0m\u001b[0;34m(\u001b[0m\u001b[0mNULL_VALUE\u001b[0m\u001b[0;34m)\u001b[0m\u001b[0;34m\u001b[0m\u001b[0m\n\u001b[0m",
      "\u001b[0;32m/home/manish/anaconda2/envs/package15/lib/python2.7/site-packages/pandas/core/frame.pyc\u001b[0m in \u001b[0;36m__getitem__\u001b[0;34m(self, key)\u001b[0m\n\u001b[1;32m   2057\u001b[0m             \u001b[0;32mreturn\u001b[0m \u001b[0mself\u001b[0m\u001b[0;34m.\u001b[0m\u001b[0m_getitem_multilevel\u001b[0m\u001b[0;34m(\u001b[0m\u001b[0mkey\u001b[0m\u001b[0;34m)\u001b[0m\u001b[0;34m\u001b[0m\u001b[0m\n\u001b[1;32m   2058\u001b[0m         \u001b[0;32melse\u001b[0m\u001b[0;34m:\u001b[0m\u001b[0;34m\u001b[0m\u001b[0m\n\u001b[0;32m-> 2059\u001b[0;31m             \u001b[0;32mreturn\u001b[0m \u001b[0mself\u001b[0m\u001b[0;34m.\u001b[0m\u001b[0m_getitem_column\u001b[0m\u001b[0;34m(\u001b[0m\u001b[0mkey\u001b[0m\u001b[0;34m)\u001b[0m\u001b[0;34m\u001b[0m\u001b[0m\n\u001b[0m\u001b[1;32m   2060\u001b[0m \u001b[0;34m\u001b[0m\u001b[0m\n\u001b[1;32m   2061\u001b[0m     \u001b[0;32mdef\u001b[0m \u001b[0m_getitem_column\u001b[0m\u001b[0;34m(\u001b[0m\u001b[0mself\u001b[0m\u001b[0;34m,\u001b[0m \u001b[0mkey\u001b[0m\u001b[0;34m)\u001b[0m\u001b[0;34m:\u001b[0m\u001b[0;34m\u001b[0m\u001b[0m\n",
      "\u001b[0;32m/home/manish/anaconda2/envs/package15/lib/python2.7/site-packages/pandas/core/frame.pyc\u001b[0m in \u001b[0;36m_getitem_column\u001b[0;34m(self, key)\u001b[0m\n\u001b[1;32m   2064\u001b[0m         \u001b[0;31m# get column\u001b[0m\u001b[0;34m\u001b[0m\u001b[0;34m\u001b[0m\u001b[0m\n\u001b[1;32m   2065\u001b[0m         \u001b[0;32mif\u001b[0m \u001b[0mself\u001b[0m\u001b[0;34m.\u001b[0m\u001b[0mcolumns\u001b[0m\u001b[0;34m.\u001b[0m\u001b[0mis_unique\u001b[0m\u001b[0;34m:\u001b[0m\u001b[0;34m\u001b[0m\u001b[0m\n\u001b[0;32m-> 2066\u001b[0;31m             \u001b[0;32mreturn\u001b[0m \u001b[0mself\u001b[0m\u001b[0;34m.\u001b[0m\u001b[0m_get_item_cache\u001b[0m\u001b[0;34m(\u001b[0m\u001b[0mkey\u001b[0m\u001b[0;34m)\u001b[0m\u001b[0;34m\u001b[0m\u001b[0m\n\u001b[0m\u001b[1;32m   2067\u001b[0m \u001b[0;34m\u001b[0m\u001b[0m\n\u001b[1;32m   2068\u001b[0m         \u001b[0;31m# duplicate columns & possible reduce dimensionality\u001b[0m\u001b[0;34m\u001b[0m\u001b[0;34m\u001b[0m\u001b[0m\n",
      "\u001b[0;32m/home/manish/anaconda2/envs/package15/lib/python2.7/site-packages/pandas/core/generic.pyc\u001b[0m in \u001b[0;36m_get_item_cache\u001b[0;34m(self, item)\u001b[0m\n\u001b[1;32m   1384\u001b[0m         \u001b[0mres\u001b[0m \u001b[0;34m=\u001b[0m \u001b[0mcache\u001b[0m\u001b[0;34m.\u001b[0m\u001b[0mget\u001b[0m\u001b[0;34m(\u001b[0m\u001b[0mitem\u001b[0m\u001b[0;34m)\u001b[0m\u001b[0;34m\u001b[0m\u001b[0m\n\u001b[1;32m   1385\u001b[0m         \u001b[0;32mif\u001b[0m \u001b[0mres\u001b[0m \u001b[0;32mis\u001b[0m \u001b[0mNone\u001b[0m\u001b[0;34m:\u001b[0m\u001b[0;34m\u001b[0m\u001b[0m\n\u001b[0;32m-> 1386\u001b[0;31m             \u001b[0mvalues\u001b[0m \u001b[0;34m=\u001b[0m \u001b[0mself\u001b[0m\u001b[0;34m.\u001b[0m\u001b[0m_data\u001b[0m\u001b[0;34m.\u001b[0m\u001b[0mget\u001b[0m\u001b[0;34m(\u001b[0m\u001b[0mitem\u001b[0m\u001b[0;34m)\u001b[0m\u001b[0;34m\u001b[0m\u001b[0m\n\u001b[0m\u001b[1;32m   1387\u001b[0m             \u001b[0mres\u001b[0m \u001b[0;34m=\u001b[0m \u001b[0mself\u001b[0m\u001b[0;34m.\u001b[0m\u001b[0m_box_item_values\u001b[0m\u001b[0;34m(\u001b[0m\u001b[0mitem\u001b[0m\u001b[0;34m,\u001b[0m \u001b[0mvalues\u001b[0m\u001b[0;34m)\u001b[0m\u001b[0;34m\u001b[0m\u001b[0m\n\u001b[1;32m   1388\u001b[0m             \u001b[0mcache\u001b[0m\u001b[0;34m[\u001b[0m\u001b[0mitem\u001b[0m\u001b[0;34m]\u001b[0m \u001b[0;34m=\u001b[0m \u001b[0mres\u001b[0m\u001b[0;34m\u001b[0m\u001b[0m\n",
      "\u001b[0;32m/home/manish/anaconda2/envs/package15/lib/python2.7/site-packages/pandas/core/internals.pyc\u001b[0m in \u001b[0;36mget\u001b[0;34m(self, item, fastpath)\u001b[0m\n\u001b[1;32m   3541\u001b[0m \u001b[0;34m\u001b[0m\u001b[0m\n\u001b[1;32m   3542\u001b[0m             \u001b[0;32mif\u001b[0m \u001b[0;32mnot\u001b[0m \u001b[0misnull\u001b[0m\u001b[0;34m(\u001b[0m\u001b[0mitem\u001b[0m\u001b[0;34m)\u001b[0m\u001b[0;34m:\u001b[0m\u001b[0;34m\u001b[0m\u001b[0m\n\u001b[0;32m-> 3543\u001b[0;31m                 \u001b[0mloc\u001b[0m \u001b[0;34m=\u001b[0m \u001b[0mself\u001b[0m\u001b[0;34m.\u001b[0m\u001b[0mitems\u001b[0m\u001b[0;34m.\u001b[0m\u001b[0mget_loc\u001b[0m\u001b[0;34m(\u001b[0m\u001b[0mitem\u001b[0m\u001b[0;34m)\u001b[0m\u001b[0;34m\u001b[0m\u001b[0m\n\u001b[0m\u001b[1;32m   3544\u001b[0m             \u001b[0;32melse\u001b[0m\u001b[0;34m:\u001b[0m\u001b[0;34m\u001b[0m\u001b[0m\n\u001b[1;32m   3545\u001b[0m                 \u001b[0mindexer\u001b[0m \u001b[0;34m=\u001b[0m \u001b[0mnp\u001b[0m\u001b[0;34m.\u001b[0m\u001b[0marange\u001b[0m\u001b[0;34m(\u001b[0m\u001b[0mlen\u001b[0m\u001b[0;34m(\u001b[0m\u001b[0mself\u001b[0m\u001b[0;34m.\u001b[0m\u001b[0mitems\u001b[0m\u001b[0;34m)\u001b[0m\u001b[0;34m)\u001b[0m\u001b[0;34m[\u001b[0m\u001b[0misnull\u001b[0m\u001b[0;34m(\u001b[0m\u001b[0mself\u001b[0m\u001b[0;34m.\u001b[0m\u001b[0mitems\u001b[0m\u001b[0;34m)\u001b[0m\u001b[0;34m]\u001b[0m\u001b[0;34m\u001b[0m\u001b[0m\n",
      "\u001b[0;32m/home/manish/anaconda2/envs/package15/lib/python2.7/site-packages/pandas/indexes/base.pyc\u001b[0m in \u001b[0;36mget_loc\u001b[0;34m(self, key, method, tolerance)\u001b[0m\n\u001b[1;32m   2134\u001b[0m                 \u001b[0;32mreturn\u001b[0m \u001b[0mself\u001b[0m\u001b[0;34m.\u001b[0m\u001b[0m_engine\u001b[0m\u001b[0;34m.\u001b[0m\u001b[0mget_loc\u001b[0m\u001b[0;34m(\u001b[0m\u001b[0mkey\u001b[0m\u001b[0;34m)\u001b[0m\u001b[0;34m\u001b[0m\u001b[0m\n\u001b[1;32m   2135\u001b[0m             \u001b[0;32mexcept\u001b[0m \u001b[0mKeyError\u001b[0m\u001b[0;34m:\u001b[0m\u001b[0;34m\u001b[0m\u001b[0m\n\u001b[0;32m-> 2136\u001b[0;31m                 \u001b[0;32mreturn\u001b[0m \u001b[0mself\u001b[0m\u001b[0;34m.\u001b[0m\u001b[0m_engine\u001b[0m\u001b[0;34m.\u001b[0m\u001b[0mget_loc\u001b[0m\u001b[0;34m(\u001b[0m\u001b[0mself\u001b[0m\u001b[0;34m.\u001b[0m\u001b[0m_maybe_cast_indexer\u001b[0m\u001b[0;34m(\u001b[0m\u001b[0mkey\u001b[0m\u001b[0;34m)\u001b[0m\u001b[0;34m)\u001b[0m\u001b[0;34m\u001b[0m\u001b[0m\n\u001b[0m\u001b[1;32m   2137\u001b[0m \u001b[0;34m\u001b[0m\u001b[0m\n\u001b[1;32m   2138\u001b[0m         \u001b[0mindexer\u001b[0m \u001b[0;34m=\u001b[0m \u001b[0mself\u001b[0m\u001b[0;34m.\u001b[0m\u001b[0mget_indexer\u001b[0m\u001b[0;34m(\u001b[0m\u001b[0;34m[\u001b[0m\u001b[0mkey\u001b[0m\u001b[0;34m]\u001b[0m\u001b[0;34m,\u001b[0m \u001b[0mmethod\u001b[0m\u001b[0;34m=\u001b[0m\u001b[0mmethod\u001b[0m\u001b[0;34m,\u001b[0m \u001b[0mtolerance\u001b[0m\u001b[0;34m=\u001b[0m\u001b[0mtolerance\u001b[0m\u001b[0;34m)\u001b[0m\u001b[0;34m\u001b[0m\u001b[0m\n",
      "\u001b[0;32mpandas/index.pyx\u001b[0m in \u001b[0;36mpandas.index.IndexEngine.get_loc (pandas/index.c:4433)\u001b[0;34m()\u001b[0m\n",
      "\u001b[0;32mpandas/index.pyx\u001b[0m in \u001b[0;36mpandas.index.IndexEngine.get_loc (pandas/index.c:4279)\u001b[0;34m()\u001b[0m\n",
      "\u001b[0;32mpandas/src/hashtable_class_helper.pxi\u001b[0m in \u001b[0;36mpandas.hashtable.PyObjectHashTable.get_item (pandas/hashtable.c:13742)\u001b[0;34m()\u001b[0m\n",
      "\u001b[0;32mpandas/src/hashtable_class_helper.pxi\u001b[0m in \u001b[0;36mpandas.hashtable.PyObjectHashTable.get_item (pandas/hashtable.c:13696)\u001b[0;34m()\u001b[0m\n",
      "\u001b[0;31mKeyError\u001b[0m: 'Sales'"
     ]
    }
   ],
   "source": [
    "# 1 day lag\n",
    "train_test_master['lag_1'] = train_test_master['Sales'].shift(-1*NUM_STORES).fillna(NULL_VALUE)"
   ]
  },
  {
   "cell_type": "code",
   "execution_count": null,
   "metadata": {
    "collapsed": true
   },
   "outputs": [],
   "source": []
  }
 ],
 "metadata": {
  "kernelspec": {
   "display_name": "Python 2",
   "language": "python",
   "name": "python2"
  },
  "language_info": {
   "codemirror_mode": {
    "name": "ipython",
    "version": 2
   },
   "file_extension": ".py",
   "mimetype": "text/x-python",
   "name": "python",
   "nbconvert_exporter": "python",
   "pygments_lexer": "ipython2",
   "version": "2.7.13"
  }
 },
 "nbformat": 4,
 "nbformat_minor": 2
}
